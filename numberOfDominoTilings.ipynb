{
  "nbformat": 4,
  "nbformat_minor": 0,
  "metadata": {
    "colab": {
      "name": "numberOfDominoTilings.ipynb",
      "provenance": [],
      "collapsed_sections": [
        "HNiGI2vkT2QJ",
        "IcOw1-YKKtZ0"
      ],
      "toc_visible": true,
      "authorship_tag": "ABX9TyMo7cInHyT07a5mM16ilJ01",
      "include_colab_link": true
    },
    "kernelspec": {
      "name": "python3",
      "display_name": "Python 3"
    }
  },
  "cells": [
    {
      "cell_type": "markdown",
      "metadata": {
        "id": "view-in-github",
        "colab_type": "text"
      },
      "source": [
        "<a href=\"https://colab.research.google.com/github/ptleskin/numberOfDominoTilings/blob/main/numberOfDominoTilings.ipynb\" target=\"_parent\"><img src=\"https://colab.research.google.com/assets/colab-badge.svg\" alt=\"Open In Colab\"/></a>"
      ]
    },
    {
      "cell_type": "markdown",
      "metadata": {
        "id": "0e-Kn_QPPdTc"
      },
      "source": [
        "This Colab Notebook was inspired by Mathologer's video [*The ARCTIC CIRCLE THEOREM or Why do physicists play dominoes?*](https://www.youtube.com/watch?v=Yy7Q8IWNfHM&t=1856s).\n",
        "\n",
        "The codes provided contain functions for calculating the number of tilings and downloading an animated example of possible ways to tile a grid of a specified shape. \n",
        "\n",
        "petri.leskinen@icloud.com, December 27, 2020."
      ]
    },
    {
      "cell_type": "markdown",
      "metadata": {
        "id": "HNiGI2vkT2QJ"
      },
      "source": [
        "# install the dependencies"
      ]
    },
    {
      "cell_type": "code",
      "metadata": {
        "id": "YRoHM-HGTwqu"
      },
      "source": [
        ""
      ],
      "execution_count": null,
      "outputs": []
    },
    {
      "cell_type": "code",
      "metadata": {
        "id": "AjtE45Qd19rf",
        "colab": {
          "base_uri": "https://localhost:8080/"
        },
        "outputId": "7d0e8a84-7e09-4981-bd48-3484ad53cea0"
      },
      "source": [
        "import numpy as np\n",
        "import scipy.linalg as linalg\n",
        "\n",
        "import matplotlib.pyplot as plt\n",
        "from matplotlib.path import Path\n",
        "import matplotlib.patches as patches\n",
        "\n",
        "from itertools import permutations, product\n",
        "from collections import defaultdict\n",
        "!apt install imagemagick\n",
        "\n",
        "!mkdir images"
      ],
      "execution_count": null,
      "outputs": [
        {
          "output_type": "stream",
          "text": [
            "Reading package lists... Done\n",
            "Building dependency tree       \n",
            "Reading state information... Done\n",
            "The following additional packages will be installed:\n",
            "  fonts-droid-fallback fonts-noto-mono ghostscript gsfonts\n",
            "  imagemagick-6-common imagemagick-6.q16 libcupsfilters1 libcupsimage2\n",
            "  libdjvulibre-text libdjvulibre21 libgs9 libgs9-common libijs-0.35\n",
            "  libjbig2dec0 liblqr-1-0 libmagickcore-6.q16-3 libmagickcore-6.q16-3-extra\n",
            "  libmagickwand-6.q16-3 libnetpbm10 libwmf0.2-7 netpbm poppler-data\n",
            "Suggested packages:\n",
            "  fonts-noto ghostscript-x imagemagick-doc autotrace cups-bsd | lpr | lprng\n",
            "  enscript gimp gnuplot grads hp2xx html2ps libwmf-bin mplayer povray radiance\n",
            "  sane-utils texlive-base-bin transfig ufraw-batch inkscape libjxr-tools\n",
            "  libwmf0.2-7-gtk poppler-utils fonts-japanese-mincho | fonts-ipafont-mincho\n",
            "  fonts-japanese-gothic | fonts-ipafont-gothic fonts-arphic-ukai\n",
            "  fonts-arphic-uming fonts-nanum\n",
            "The following NEW packages will be installed:\n",
            "  fonts-droid-fallback fonts-noto-mono ghostscript gsfonts imagemagick\n",
            "  imagemagick-6-common imagemagick-6.q16 libcupsfilters1 libcupsimage2\n",
            "  libdjvulibre-text libdjvulibre21 libgs9 libgs9-common libijs-0.35\n",
            "  libjbig2dec0 liblqr-1-0 libmagickcore-6.q16-3 libmagickcore-6.q16-3-extra\n",
            "  libmagickwand-6.q16-3 libnetpbm10 libwmf0.2-7 netpbm poppler-data\n",
            "0 upgraded, 23 newly installed, 0 to remove and 15 not upgraded.\n",
            "Need to get 18.4 MB of archives.\n",
            "After this operation, 66.3 MB of additional disk space will be used.\n",
            "Get:1 http://archive.ubuntu.com/ubuntu bionic/main amd64 fonts-droid-fallback all 1:6.0.1r16-1.1 [1,805 kB]\n",
            "Get:2 http://archive.ubuntu.com/ubuntu bionic/main amd64 liblqr-1-0 amd64 0.4.2-2.1 [27.7 kB]\n",
            "Get:3 http://archive.ubuntu.com/ubuntu bionic-updates/main amd64 imagemagick-6-common all 8:6.9.7.4+dfsg-16ubuntu6.9 [60.0 kB]\n",
            "Get:4 http://archive.ubuntu.com/ubuntu bionic-updates/main amd64 libmagickcore-6.q16-3 amd64 8:6.9.7.4+dfsg-16ubuntu6.9 [1,616 kB]\n",
            "Get:5 http://archive.ubuntu.com/ubuntu bionic-updates/main amd64 libmagickwand-6.q16-3 amd64 8:6.9.7.4+dfsg-16ubuntu6.9 [293 kB]\n",
            "Get:6 http://archive.ubuntu.com/ubuntu bionic/main amd64 poppler-data all 0.4.8-2 [1,479 kB]\n",
            "Get:7 http://archive.ubuntu.com/ubuntu bionic/main amd64 fonts-noto-mono all 20171026-2 [75.5 kB]\n",
            "Get:8 http://archive.ubuntu.com/ubuntu bionic-updates/main amd64 libcupsimage2 amd64 2.2.7-1ubuntu2.8 [18.6 kB]\n",
            "Get:9 http://archive.ubuntu.com/ubuntu bionic/main amd64 libijs-0.35 amd64 0.35-13 [15.5 kB]\n",
            "Get:10 http://archive.ubuntu.com/ubuntu bionic/main amd64 libjbig2dec0 amd64 0.13-6 [55.9 kB]\n",
            "Get:11 http://archive.ubuntu.com/ubuntu bionic-updates/main amd64 libgs9-common all 9.26~dfsg+0-0ubuntu0.18.04.13 [5,092 kB]\n",
            "Get:12 http://archive.ubuntu.com/ubuntu bionic-updates/main amd64 libgs9 amd64 9.26~dfsg+0-0ubuntu0.18.04.13 [2,263 kB]\n",
            "Get:13 http://archive.ubuntu.com/ubuntu bionic-updates/main amd64 ghostscript amd64 9.26~dfsg+0-0ubuntu0.18.04.13 [51.0 kB]\n",
            "Get:14 http://archive.ubuntu.com/ubuntu bionic/main amd64 gsfonts all 1:8.11+urwcyr1.0.7~pre44-4.4 [3,120 kB]\n",
            "Get:15 http://archive.ubuntu.com/ubuntu bionic-updates/main amd64 imagemagick-6.q16 amd64 8:6.9.7.4+dfsg-16ubuntu6.9 [423 kB]\n",
            "Get:16 http://archive.ubuntu.com/ubuntu bionic-updates/main amd64 imagemagick amd64 8:6.9.7.4+dfsg-16ubuntu6.9 [14.2 kB]\n",
            "Get:17 http://archive.ubuntu.com/ubuntu bionic-updates/main amd64 libcupsfilters1 amd64 1.20.2-0ubuntu3.1 [108 kB]\n",
            "Get:18 http://archive.ubuntu.com/ubuntu bionic-updates/main amd64 libdjvulibre-text all 3.5.27.1-8ubuntu0.2 [49.3 kB]\n",
            "Get:19 http://archive.ubuntu.com/ubuntu bionic-updates/main amd64 libdjvulibre21 amd64 3.5.27.1-8ubuntu0.2 [560 kB]\n",
            "Get:20 http://archive.ubuntu.com/ubuntu bionic/main amd64 libwmf0.2-7 amd64 0.2.8.4-12 [150 kB]\n",
            "Get:21 http://archive.ubuntu.com/ubuntu bionic-updates/main amd64 libmagickcore-6.q16-3-extra amd64 8:6.9.7.4+dfsg-16ubuntu6.9 [62.3 kB]\n",
            "Get:22 http://archive.ubuntu.com/ubuntu bionic/main amd64 libnetpbm10 amd64 2:10.0-15.3build1 [58.0 kB]\n",
            "Get:23 http://archive.ubuntu.com/ubuntu bionic/main amd64 netpbm amd64 2:10.0-15.3build1 [1,017 kB]\n",
            "Fetched 18.4 MB in 1s (12.5 MB/s)\n",
            "Selecting previously unselected package fonts-droid-fallback.\n",
            "(Reading database ... 145480 files and directories currently installed.)\n",
            "Preparing to unpack .../00-fonts-droid-fallback_1%3a6.0.1r16-1.1_all.deb ...\n",
            "Unpacking fonts-droid-fallback (1:6.0.1r16-1.1) ...\n",
            "Selecting previously unselected package liblqr-1-0:amd64.\n",
            "Preparing to unpack .../01-liblqr-1-0_0.4.2-2.1_amd64.deb ...\n",
            "Unpacking liblqr-1-0:amd64 (0.4.2-2.1) ...\n",
            "Selecting previously unselected package imagemagick-6-common.\n",
            "Preparing to unpack .../02-imagemagick-6-common_8%3a6.9.7.4+dfsg-16ubuntu6.9_all.deb ...\n",
            "Unpacking imagemagick-6-common (8:6.9.7.4+dfsg-16ubuntu6.9) ...\n",
            "Selecting previously unselected package libmagickcore-6.q16-3:amd64.\n",
            "Preparing to unpack .../03-libmagickcore-6.q16-3_8%3a6.9.7.4+dfsg-16ubuntu6.9_amd64.deb ...\n",
            "Unpacking libmagickcore-6.q16-3:amd64 (8:6.9.7.4+dfsg-16ubuntu6.9) ...\n",
            "Selecting previously unselected package libmagickwand-6.q16-3:amd64.\n",
            "Preparing to unpack .../04-libmagickwand-6.q16-3_8%3a6.9.7.4+dfsg-16ubuntu6.9_amd64.deb ...\n",
            "Unpacking libmagickwand-6.q16-3:amd64 (8:6.9.7.4+dfsg-16ubuntu6.9) ...\n",
            "Selecting previously unselected package poppler-data.\n",
            "Preparing to unpack .../05-poppler-data_0.4.8-2_all.deb ...\n",
            "Unpacking poppler-data (0.4.8-2) ...\n",
            "Selecting previously unselected package fonts-noto-mono.\n",
            "Preparing to unpack .../06-fonts-noto-mono_20171026-2_all.deb ...\n",
            "Unpacking fonts-noto-mono (20171026-2) ...\n",
            "Selecting previously unselected package libcupsimage2:amd64.\n",
            "Preparing to unpack .../07-libcupsimage2_2.2.7-1ubuntu2.8_amd64.deb ...\n",
            "Unpacking libcupsimage2:amd64 (2.2.7-1ubuntu2.8) ...\n",
            "Selecting previously unselected package libijs-0.35:amd64.\n",
            "Preparing to unpack .../08-libijs-0.35_0.35-13_amd64.deb ...\n",
            "Unpacking libijs-0.35:amd64 (0.35-13) ...\n",
            "Selecting previously unselected package libjbig2dec0:amd64.\n",
            "Preparing to unpack .../09-libjbig2dec0_0.13-6_amd64.deb ...\n",
            "Unpacking libjbig2dec0:amd64 (0.13-6) ...\n",
            "Selecting previously unselected package libgs9-common.\n",
            "Preparing to unpack .../10-libgs9-common_9.26~dfsg+0-0ubuntu0.18.04.13_all.deb ...\n",
            "Unpacking libgs9-common (9.26~dfsg+0-0ubuntu0.18.04.13) ...\n",
            "Selecting previously unselected package libgs9:amd64.\n",
            "Preparing to unpack .../11-libgs9_9.26~dfsg+0-0ubuntu0.18.04.13_amd64.deb ...\n",
            "Unpacking libgs9:amd64 (9.26~dfsg+0-0ubuntu0.18.04.13) ...\n",
            "Selecting previously unselected package ghostscript.\n",
            "Preparing to unpack .../12-ghostscript_9.26~dfsg+0-0ubuntu0.18.04.13_amd64.deb ...\n",
            "Unpacking ghostscript (9.26~dfsg+0-0ubuntu0.18.04.13) ...\n",
            "Selecting previously unselected package gsfonts.\n",
            "Preparing to unpack .../13-gsfonts_1%3a8.11+urwcyr1.0.7~pre44-4.4_all.deb ...\n",
            "Unpacking gsfonts (1:8.11+urwcyr1.0.7~pre44-4.4) ...\n",
            "Selecting previously unselected package imagemagick-6.q16.\n",
            "Preparing to unpack .../14-imagemagick-6.q16_8%3a6.9.7.4+dfsg-16ubuntu6.9_amd64.deb ...\n",
            "Unpacking imagemagick-6.q16 (8:6.9.7.4+dfsg-16ubuntu6.9) ...\n",
            "Selecting previously unselected package imagemagick.\n",
            "Preparing to unpack .../15-imagemagick_8%3a6.9.7.4+dfsg-16ubuntu6.9_amd64.deb ...\n",
            "Unpacking imagemagick (8:6.9.7.4+dfsg-16ubuntu6.9) ...\n",
            "Selecting previously unselected package libcupsfilters1:amd64.\n",
            "Preparing to unpack .../16-libcupsfilters1_1.20.2-0ubuntu3.1_amd64.deb ...\n",
            "Unpacking libcupsfilters1:amd64 (1.20.2-0ubuntu3.1) ...\n",
            "Selecting previously unselected package libdjvulibre-text.\n",
            "Preparing to unpack .../17-libdjvulibre-text_3.5.27.1-8ubuntu0.2_all.deb ...\n",
            "Unpacking libdjvulibre-text (3.5.27.1-8ubuntu0.2) ...\n",
            "Selecting previously unselected package libdjvulibre21:amd64.\n",
            "Preparing to unpack .../18-libdjvulibre21_3.5.27.1-8ubuntu0.2_amd64.deb ...\n",
            "Unpacking libdjvulibre21:amd64 (3.5.27.1-8ubuntu0.2) ...\n",
            "Selecting previously unselected package libwmf0.2-7:amd64.\n",
            "Preparing to unpack .../19-libwmf0.2-7_0.2.8.4-12_amd64.deb ...\n",
            "Unpacking libwmf0.2-7:amd64 (0.2.8.4-12) ...\n",
            "Selecting previously unselected package libmagickcore-6.q16-3-extra:amd64.\n",
            "Preparing to unpack .../20-libmagickcore-6.q16-3-extra_8%3a6.9.7.4+dfsg-16ubuntu6.9_amd64.deb ...\n",
            "Unpacking libmagickcore-6.q16-3-extra:amd64 (8:6.9.7.4+dfsg-16ubuntu6.9) ...\n",
            "Selecting previously unselected package libnetpbm10.\n",
            "Preparing to unpack .../21-libnetpbm10_2%3a10.0-15.3build1_amd64.deb ...\n",
            "Unpacking libnetpbm10 (2:10.0-15.3build1) ...\n",
            "Selecting previously unselected package netpbm.\n",
            "Preparing to unpack .../22-netpbm_2%3a10.0-15.3build1_amd64.deb ...\n",
            "Unpacking netpbm (2:10.0-15.3build1) ...\n",
            "Setting up libgs9-common (9.26~dfsg+0-0ubuntu0.18.04.13) ...\n",
            "Setting up imagemagick-6-common (8:6.9.7.4+dfsg-16ubuntu6.9) ...\n",
            "Setting up fonts-droid-fallback (1:6.0.1r16-1.1) ...\n",
            "Setting up gsfonts (1:8.11+urwcyr1.0.7~pre44-4.4) ...\n",
            "Setting up poppler-data (0.4.8-2) ...\n",
            "Setting up libdjvulibre-text (3.5.27.1-8ubuntu0.2) ...\n",
            "Setting up libnetpbm10 (2:10.0-15.3build1) ...\n",
            "Setting up fonts-noto-mono (20171026-2) ...\n",
            "Setting up libcupsfilters1:amd64 (1.20.2-0ubuntu3.1) ...\n",
            "Setting up libcupsimage2:amd64 (2.2.7-1ubuntu2.8) ...\n",
            "Setting up liblqr-1-0:amd64 (0.4.2-2.1) ...\n",
            "Setting up libjbig2dec0:amd64 (0.13-6) ...\n",
            "Setting up libijs-0.35:amd64 (0.35-13) ...\n",
            "Setting up netpbm (2:10.0-15.3build1) ...\n",
            "Setting up libgs9:amd64 (9.26~dfsg+0-0ubuntu0.18.04.13) ...\n",
            "Setting up libwmf0.2-7:amd64 (0.2.8.4-12) ...\n",
            "Setting up libmagickcore-6.q16-3:amd64 (8:6.9.7.4+dfsg-16ubuntu6.9) ...\n",
            "Setting up libdjvulibre21:amd64 (3.5.27.1-8ubuntu0.2) ...\n",
            "Setting up ghostscript (9.26~dfsg+0-0ubuntu0.18.04.13) ...\n",
            "Setting up libmagickwand-6.q16-3:amd64 (8:6.9.7.4+dfsg-16ubuntu6.9) ...\n",
            "Setting up imagemagick-6.q16 (8:6.9.7.4+dfsg-16ubuntu6.9) ...\n",
            "update-alternatives: using /usr/bin/compare-im6.q16 to provide /usr/bin/compare (compare) in auto mode\n",
            "update-alternatives: using /usr/bin/compare-im6.q16 to provide /usr/bin/compare-im6 (compare-im6) in auto mode\n",
            "update-alternatives: using /usr/bin/animate-im6.q16 to provide /usr/bin/animate (animate) in auto mode\n",
            "update-alternatives: using /usr/bin/animate-im6.q16 to provide /usr/bin/animate-im6 (animate-im6) in auto mode\n",
            "update-alternatives: using /usr/bin/convert-im6.q16 to provide /usr/bin/convert (convert) in auto mode\n",
            "update-alternatives: using /usr/bin/convert-im6.q16 to provide /usr/bin/convert-im6 (convert-im6) in auto mode\n",
            "update-alternatives: using /usr/bin/composite-im6.q16 to provide /usr/bin/composite (composite) in auto mode\n",
            "update-alternatives: using /usr/bin/composite-im6.q16 to provide /usr/bin/composite-im6 (composite-im6) in auto mode\n",
            "update-alternatives: using /usr/bin/conjure-im6.q16 to provide /usr/bin/conjure (conjure) in auto mode\n",
            "update-alternatives: using /usr/bin/conjure-im6.q16 to provide /usr/bin/conjure-im6 (conjure-im6) in auto mode\n",
            "update-alternatives: using /usr/bin/import-im6.q16 to provide /usr/bin/import (import) in auto mode\n",
            "update-alternatives: using /usr/bin/import-im6.q16 to provide /usr/bin/import-im6 (import-im6) in auto mode\n",
            "update-alternatives: using /usr/bin/identify-im6.q16 to provide /usr/bin/identify (identify) in auto mode\n",
            "update-alternatives: using /usr/bin/identify-im6.q16 to provide /usr/bin/identify-im6 (identify-im6) in auto mode\n",
            "update-alternatives: using /usr/bin/stream-im6.q16 to provide /usr/bin/stream (stream) in auto mode\n",
            "update-alternatives: using /usr/bin/stream-im6.q16 to provide /usr/bin/stream-im6 (stream-im6) in auto mode\n",
            "update-alternatives: using /usr/bin/display-im6.q16 to provide /usr/bin/display (display) in auto mode\n",
            "update-alternatives: using /usr/bin/display-im6.q16 to provide /usr/bin/display-im6 (display-im6) in auto mode\n",
            "update-alternatives: using /usr/bin/montage-im6.q16 to provide /usr/bin/montage (montage) in auto mode\n",
            "update-alternatives: using /usr/bin/montage-im6.q16 to provide /usr/bin/montage-im6 (montage-im6) in auto mode\n",
            "update-alternatives: using /usr/bin/mogrify-im6.q16 to provide /usr/bin/mogrify (mogrify) in auto mode\n",
            "update-alternatives: using /usr/bin/mogrify-im6.q16 to provide /usr/bin/mogrify-im6 (mogrify-im6) in auto mode\n",
            "Setting up libmagickcore-6.q16-3-extra:amd64 (8:6.9.7.4+dfsg-16ubuntu6.9) ...\n",
            "Setting up imagemagick (8:6.9.7.4+dfsg-16ubuntu6.9) ...\n",
            "Processing triggers for hicolor-icon-theme (0.17-2) ...\n",
            "Processing triggers for fontconfig (2.12.6-0ubuntu2) ...\n",
            "Processing triggers for mime-support (3.60ubuntu1) ...\n",
            "Processing triggers for libc-bin (2.27-3ubuntu1.2) ...\n",
            "/sbin/ldconfig.real: /usr/local/lib/python3.6/dist-packages/ideep4py/lib/libmkldnn.so.0 is not a symbolic link\n",
            "\n",
            "Processing triggers for man-db (2.8.3-2ubuntu0.1) ...\n"
          ],
          "name": "stdout"
        }
      ]
    },
    {
      "cell_type": "markdown",
      "metadata": {
        "id": "IcOw1-YKKtZ0"
      },
      "source": [
        "## Define the needed functions"
      ]
    },
    {
      "cell_type": "code",
      "metadata": {
        "id": "3NBmsR3P27TD"
      },
      "source": [
        "def calculateMatrix(M):\n",
        "  '''\n",
        "  Calculates:\n",
        "  A: the complex 'adjacency' matrix, where |det(A)| = number of possible tilings\n",
        "  B: matrix of possible domino locations\n",
        "  N: a lookup table of which cell indices (-n, -n+1, ..., -1, 1, 2, ..., n-1, n)\n",
        "    corresponds to which cell coordinate\n",
        "  '''\n",
        "  M = np.array(M)\n",
        "  N = np.zeros(M.shape, dtype=int)\n",
        "  ym, xm = N.shape\n",
        "\n",
        "  # index the 'black' (positive int) and 'white' (negative int) cell\n",
        "  i, j = 0, 0\n",
        "  for y in range(ym):\n",
        "    for x in range(xm):\n",
        "      if M[y][x]:\n",
        "        if (x+y)%2:\n",
        "          i += 1\n",
        "          N[y][x] = i\n",
        "        else:\n",
        "          j -= 1\n",
        "          N[y][x] = j\n",
        "  s = int(np.max(N))\n",
        "  A = np.zeros((s, s), dtype=complex)\n",
        "  B = np.zeros((s, s), dtype=object)\n",
        "\n",
        "  ym, xm = N.shape\n",
        "  # A: 'adjacency' matrix with 1 for horizontal pair, and i for vertical pair:\n",
        "  for y in range(ym):\n",
        "    for x in range(xm):\n",
        "      xn = N[y][x]\n",
        "      if xn != 0:\n",
        "        if x+1<xm:\n",
        "          # horizontal pair, 1\n",
        "          yn = N[y][x+1]\n",
        "          if yn<0:\n",
        "            # print(yn, xn)\n",
        "            A[xn-1][-yn-1] = 1\n",
        "            B[xn-1][-yn-1] = (xn, yn)\n",
        "          elif yn>0:\n",
        "            # print(xn, yn)\n",
        "            A[yn-1][-xn-1] = 1\n",
        "            B[yn-1][-xn-1] = (xn, yn)\n",
        "        if y+1<ym:\n",
        "          # vertical pair, i\n",
        "          yn = N[y+1][x]\n",
        "          if yn<0:\n",
        "            A[xn-1][-yn-1] = complex(0,1)\n",
        "            B[xn-1][-yn-1] = (xn, yn)\n",
        "          elif yn>0:\n",
        "            A[yn-1][-xn-1] = complex(0,1)\n",
        "            B[yn-1][-xn-1] = (xn, yn)\n",
        "  return A, B, N\n",
        "\n",
        "\n",
        "def tuple2rectangle(tpl, N):\n",
        "  '''\n",
        "  Convert a cell pair e.g. (2, -6)\n",
        "    into a polyline path on corresponding rectangle\n",
        "  Returns: (polyline, vertical) where\n",
        "    vertical = True, if the tile is in a vertical position, False if horizontal\n",
        "  '''\n",
        "  [y],[x] = np.where(N==tpl[0])\n",
        "  [y2],[x2] = np.where(N==tpl[1])\n",
        "  x, x2 = sorted([x, x2])\n",
        "  y, y2 = sorted([y, y2])\n",
        "  return [(x, y), (x2+1, y), (x2+1, y2+1), (x, y2+1), (x, y)], x!=x2\n",
        "\n",
        "\n",
        "def drawTiling(rects, ax, vcolor='orange', hcolor='blue'):\n",
        "  codes = [\n",
        "    Path.MOVETO,\n",
        "    Path.LINETO,\n",
        "    Path.LINETO,\n",
        "    Path.LINETO,\n",
        "    Path.CLOSEPOLY,\n",
        "  ]\n",
        "  for tpl in rects:\n",
        "    verts, vertical = tuple2rectangle(tpl, N)\n",
        "    \n",
        "    path = Path(verts, codes)\n",
        "    patch = patches.PathPatch(path, facecolor=vcolor if vertical else hcolor, lw=1)\n",
        "    ax.add_patch(patch)\n",
        "    ax.set_xlim(0, M.shape[0])\n",
        "    ax.set_ylim(0, M.shape[1])\n",
        "    ax.axis('equal')\n",
        "\n",
        "\n",
        "def numberOfTilings(M):\n",
        "    A, _, _ = calculateMatrix(M)\n",
        "    return int(0.5+abs(linalg.det(A)))\n",
        "\n",
        "\n",
        "def cell_product(*args, res = []):\n",
        "    '''\n",
        "    This custom generator returns the non-zero cells from the matrix M \n",
        "    similarily as the partial sums of the determinant\n",
        "    so that all values are sampled from distinct rows and columns.\n",
        "\n",
        "    e.g. cell_product([0,1],[1,3])) = [[0, 1], [0, 3], [1, 3]]\n",
        "    '''\n",
        "    if len(args):\n",
        "      for x in args[0]:\n",
        "        if not x in res:\n",
        "          yield from cell_product(*args[1:], res = res+[x])\n",
        "    else:\n",
        "      yield res\n",
        "\n",
        "\n",
        "def getTilings(B):\n",
        "    '''\n",
        "    Generator for all possible tilings\n",
        "    '''\n",
        "    # pick the non-zero matrix values\n",
        "    # nonzeros = {<row_number>: [<columns with nonzero values>]}\n",
        "    nonzeros= defaultdict(list)\n",
        "    for y,x in zip(*np.where(B != 0)):\n",
        "      nonzeros[y].append(x)\n",
        "\n",
        "    ''' # brute force solution\n",
        "    for arr in product(*nonzeros.values()):\n",
        "      # pick only the sequences where all values are distinct, e.g. corresponding to distinct columns of the matrix\n",
        "      if len(arr)==len(set(arr)):\n",
        "        yield [B[y][x] for y,x in enumerate(arr)]\n",
        "    '''\n",
        "    for arr in cell_product(*nonzeros.values()):\n",
        "        yield [B[y][x] for y,x in enumerate(arr)]\n"
      ],
      "execution_count": null,
      "outputs": []
    },
    {
      "cell_type": "code",
      "metadata": {
        "id": "Iovc-kosjqus"
      },
      "source": [
        "# these function are for representing the grids\n",
        "import pandas as pd\n",
        "\n",
        "# show matrices with chessboard coloring\n",
        "def apply_chessboard(val):\n",
        "    r = val.copy()\n",
        "    for i, row in r.iterrows():\n",
        "      for j, x in row.iteritems():\n",
        "        if x==0:\n",
        "          st = 'color: lightgrey'\n",
        "        else:\n",
        "          st = 'color: white; background-color: green' if (i+j)%2 else 'color: white; background-color: black'\n",
        "        r.loc[i,j] = st\n",
        "    return r\n",
        "\n",
        "def showMatrix(M):\n",
        "  df=pd.DataFrame(M)\n",
        "  return df.style.apply(apply_chessboard, axis=None).set_properties(**{'width':'2em', 'height':'2em', 'text-align':'center'})#.hide_index()#.hide_columns(df.columns)\n"
      ],
      "execution_count": null,
      "outputs": []
    },
    {
      "cell_type": "markdown",
      "metadata": {
        "id": "cudGI98eQn8b"
      },
      "source": [
        "# Simple example shape as shown in the video at [11:00](https://www.youtube.com/watch?v=Yy7Q8IWNfHM&t=660s).\n",
        "\n",
        "\n",
        "Matrix M is a binary matrix, with 1 for cells being a part in the shape, and 0 for cells outside the shape."
      ]
    },
    {
      "cell_type": "code",
      "metadata": {
        "colab": {
          "base_uri": "https://localhost:8080/",
          "height": 232
        },
        "id": "giE4jIo24elQ",
        "outputId": "f7d04ad6-32f6-4b96-a9ab-6e07ce9c5f1a"
      },
      "source": [
        "M = [[1, 1, 0, 0, 1, 1],\n",
        "     [1, 1, 1, 1, 1, 1],\n",
        "     [1, 1, 1, 1, 1, 1],\n",
        "     [0, 1, 1, 1, 0, 0],\n",
        "     [0, 1, 1, 1, 0, 0],\n",
        "     [0, 0, 0, 0, 0, 0]\n",
        "     ]\n",
        "\n",
        "M = np.array(M)\n",
        "A,B,N = calculateMatrix(M)\n",
        "display(showMatrix(M))"
      ],
      "execution_count": 44,
      "outputs": [
        {
          "output_type": "display_data",
          "data": {
            "text/html": [
              "<style  type=\"text/css\" >\n",
              "#T_be7e13be_4848_11eb_aa0b_0242ac1c0002row0_col0,#T_be7e13be_4848_11eb_aa0b_0242ac1c0002row0_col4,#T_be7e13be_4848_11eb_aa0b_0242ac1c0002row1_col1,#T_be7e13be_4848_11eb_aa0b_0242ac1c0002row1_col3,#T_be7e13be_4848_11eb_aa0b_0242ac1c0002row1_col5,#T_be7e13be_4848_11eb_aa0b_0242ac1c0002row2_col0,#T_be7e13be_4848_11eb_aa0b_0242ac1c0002row2_col2,#T_be7e13be_4848_11eb_aa0b_0242ac1c0002row2_col4,#T_be7e13be_4848_11eb_aa0b_0242ac1c0002row3_col1,#T_be7e13be_4848_11eb_aa0b_0242ac1c0002row3_col3,#T_be7e13be_4848_11eb_aa0b_0242ac1c0002row4_col2{\n",
              "            color:  white;\n",
              "             background-color:  black;\n",
              "            width:  2em;\n",
              "            height:  2em;\n",
              "            text-align:  center;\n",
              "        }#T_be7e13be_4848_11eb_aa0b_0242ac1c0002row0_col1,#T_be7e13be_4848_11eb_aa0b_0242ac1c0002row0_col5,#T_be7e13be_4848_11eb_aa0b_0242ac1c0002row1_col0,#T_be7e13be_4848_11eb_aa0b_0242ac1c0002row1_col2,#T_be7e13be_4848_11eb_aa0b_0242ac1c0002row1_col4,#T_be7e13be_4848_11eb_aa0b_0242ac1c0002row2_col1,#T_be7e13be_4848_11eb_aa0b_0242ac1c0002row2_col3,#T_be7e13be_4848_11eb_aa0b_0242ac1c0002row2_col5,#T_be7e13be_4848_11eb_aa0b_0242ac1c0002row3_col2,#T_be7e13be_4848_11eb_aa0b_0242ac1c0002row4_col1,#T_be7e13be_4848_11eb_aa0b_0242ac1c0002row4_col3{\n",
              "            color:  white;\n",
              "             background-color:  green;\n",
              "            width:  2em;\n",
              "            height:  2em;\n",
              "            text-align:  center;\n",
              "        }#T_be7e13be_4848_11eb_aa0b_0242ac1c0002row0_col2,#T_be7e13be_4848_11eb_aa0b_0242ac1c0002row0_col3,#T_be7e13be_4848_11eb_aa0b_0242ac1c0002row3_col0,#T_be7e13be_4848_11eb_aa0b_0242ac1c0002row3_col4,#T_be7e13be_4848_11eb_aa0b_0242ac1c0002row3_col5,#T_be7e13be_4848_11eb_aa0b_0242ac1c0002row4_col0,#T_be7e13be_4848_11eb_aa0b_0242ac1c0002row4_col4,#T_be7e13be_4848_11eb_aa0b_0242ac1c0002row4_col5,#T_be7e13be_4848_11eb_aa0b_0242ac1c0002row5_col0,#T_be7e13be_4848_11eb_aa0b_0242ac1c0002row5_col1,#T_be7e13be_4848_11eb_aa0b_0242ac1c0002row5_col2,#T_be7e13be_4848_11eb_aa0b_0242ac1c0002row5_col3,#T_be7e13be_4848_11eb_aa0b_0242ac1c0002row5_col4,#T_be7e13be_4848_11eb_aa0b_0242ac1c0002row5_col5{\n",
              "            color:  lightgrey;\n",
              "            width:  2em;\n",
              "            height:  2em;\n",
              "            text-align:  center;\n",
              "        }</style><table id=\"T_be7e13be_4848_11eb_aa0b_0242ac1c0002\" ><thead>    <tr>        <th class=\"blank level0\" ></th>        <th class=\"col_heading level0 col0\" >0</th>        <th class=\"col_heading level0 col1\" >1</th>        <th class=\"col_heading level0 col2\" >2</th>        <th class=\"col_heading level0 col3\" >3</th>        <th class=\"col_heading level0 col4\" >4</th>        <th class=\"col_heading level0 col5\" >5</th>    </tr></thead><tbody>\n",
              "                <tr>\n",
              "                        <th id=\"T_be7e13be_4848_11eb_aa0b_0242ac1c0002level0_row0\" class=\"row_heading level0 row0\" >0</th>\n",
              "                        <td id=\"T_be7e13be_4848_11eb_aa0b_0242ac1c0002row0_col0\" class=\"data row0 col0\" >1</td>\n",
              "                        <td id=\"T_be7e13be_4848_11eb_aa0b_0242ac1c0002row0_col1\" class=\"data row0 col1\" >1</td>\n",
              "                        <td id=\"T_be7e13be_4848_11eb_aa0b_0242ac1c0002row0_col2\" class=\"data row0 col2\" >0</td>\n",
              "                        <td id=\"T_be7e13be_4848_11eb_aa0b_0242ac1c0002row0_col3\" class=\"data row0 col3\" >0</td>\n",
              "                        <td id=\"T_be7e13be_4848_11eb_aa0b_0242ac1c0002row0_col4\" class=\"data row0 col4\" >1</td>\n",
              "                        <td id=\"T_be7e13be_4848_11eb_aa0b_0242ac1c0002row0_col5\" class=\"data row0 col5\" >1</td>\n",
              "            </tr>\n",
              "            <tr>\n",
              "                        <th id=\"T_be7e13be_4848_11eb_aa0b_0242ac1c0002level0_row1\" class=\"row_heading level0 row1\" >1</th>\n",
              "                        <td id=\"T_be7e13be_4848_11eb_aa0b_0242ac1c0002row1_col0\" class=\"data row1 col0\" >1</td>\n",
              "                        <td id=\"T_be7e13be_4848_11eb_aa0b_0242ac1c0002row1_col1\" class=\"data row1 col1\" >1</td>\n",
              "                        <td id=\"T_be7e13be_4848_11eb_aa0b_0242ac1c0002row1_col2\" class=\"data row1 col2\" >1</td>\n",
              "                        <td id=\"T_be7e13be_4848_11eb_aa0b_0242ac1c0002row1_col3\" class=\"data row1 col3\" >1</td>\n",
              "                        <td id=\"T_be7e13be_4848_11eb_aa0b_0242ac1c0002row1_col4\" class=\"data row1 col4\" >1</td>\n",
              "                        <td id=\"T_be7e13be_4848_11eb_aa0b_0242ac1c0002row1_col5\" class=\"data row1 col5\" >1</td>\n",
              "            </tr>\n",
              "            <tr>\n",
              "                        <th id=\"T_be7e13be_4848_11eb_aa0b_0242ac1c0002level0_row2\" class=\"row_heading level0 row2\" >2</th>\n",
              "                        <td id=\"T_be7e13be_4848_11eb_aa0b_0242ac1c0002row2_col0\" class=\"data row2 col0\" >1</td>\n",
              "                        <td id=\"T_be7e13be_4848_11eb_aa0b_0242ac1c0002row2_col1\" class=\"data row2 col1\" >1</td>\n",
              "                        <td id=\"T_be7e13be_4848_11eb_aa0b_0242ac1c0002row2_col2\" class=\"data row2 col2\" >1</td>\n",
              "                        <td id=\"T_be7e13be_4848_11eb_aa0b_0242ac1c0002row2_col3\" class=\"data row2 col3\" >1</td>\n",
              "                        <td id=\"T_be7e13be_4848_11eb_aa0b_0242ac1c0002row2_col4\" class=\"data row2 col4\" >1</td>\n",
              "                        <td id=\"T_be7e13be_4848_11eb_aa0b_0242ac1c0002row2_col5\" class=\"data row2 col5\" >1</td>\n",
              "            </tr>\n",
              "            <tr>\n",
              "                        <th id=\"T_be7e13be_4848_11eb_aa0b_0242ac1c0002level0_row3\" class=\"row_heading level0 row3\" >3</th>\n",
              "                        <td id=\"T_be7e13be_4848_11eb_aa0b_0242ac1c0002row3_col0\" class=\"data row3 col0\" >0</td>\n",
              "                        <td id=\"T_be7e13be_4848_11eb_aa0b_0242ac1c0002row3_col1\" class=\"data row3 col1\" >1</td>\n",
              "                        <td id=\"T_be7e13be_4848_11eb_aa0b_0242ac1c0002row3_col2\" class=\"data row3 col2\" >1</td>\n",
              "                        <td id=\"T_be7e13be_4848_11eb_aa0b_0242ac1c0002row3_col3\" class=\"data row3 col3\" >1</td>\n",
              "                        <td id=\"T_be7e13be_4848_11eb_aa0b_0242ac1c0002row3_col4\" class=\"data row3 col4\" >0</td>\n",
              "                        <td id=\"T_be7e13be_4848_11eb_aa0b_0242ac1c0002row3_col5\" class=\"data row3 col5\" >0</td>\n",
              "            </tr>\n",
              "            <tr>\n",
              "                        <th id=\"T_be7e13be_4848_11eb_aa0b_0242ac1c0002level0_row4\" class=\"row_heading level0 row4\" >4</th>\n",
              "                        <td id=\"T_be7e13be_4848_11eb_aa0b_0242ac1c0002row4_col0\" class=\"data row4 col0\" >0</td>\n",
              "                        <td id=\"T_be7e13be_4848_11eb_aa0b_0242ac1c0002row4_col1\" class=\"data row4 col1\" >1</td>\n",
              "                        <td id=\"T_be7e13be_4848_11eb_aa0b_0242ac1c0002row4_col2\" class=\"data row4 col2\" >1</td>\n",
              "                        <td id=\"T_be7e13be_4848_11eb_aa0b_0242ac1c0002row4_col3\" class=\"data row4 col3\" >1</td>\n",
              "                        <td id=\"T_be7e13be_4848_11eb_aa0b_0242ac1c0002row4_col4\" class=\"data row4 col4\" >0</td>\n",
              "                        <td id=\"T_be7e13be_4848_11eb_aa0b_0242ac1c0002row4_col5\" class=\"data row4 col5\" >0</td>\n",
              "            </tr>\n",
              "            <tr>\n",
              "                        <th id=\"T_be7e13be_4848_11eb_aa0b_0242ac1c0002level0_row5\" class=\"row_heading level0 row5\" >5</th>\n",
              "                        <td id=\"T_be7e13be_4848_11eb_aa0b_0242ac1c0002row5_col0\" class=\"data row5 col0\" >0</td>\n",
              "                        <td id=\"T_be7e13be_4848_11eb_aa0b_0242ac1c0002row5_col1\" class=\"data row5 col1\" >0</td>\n",
              "                        <td id=\"T_be7e13be_4848_11eb_aa0b_0242ac1c0002row5_col2\" class=\"data row5 col2\" >0</td>\n",
              "                        <td id=\"T_be7e13be_4848_11eb_aa0b_0242ac1c0002row5_col3\" class=\"data row5 col3\" >0</td>\n",
              "                        <td id=\"T_be7e13be_4848_11eb_aa0b_0242ac1c0002row5_col4\" class=\"data row5 col4\" >0</td>\n",
              "                        <td id=\"T_be7e13be_4848_11eb_aa0b_0242ac1c0002row5_col5\" class=\"data row5 col5\" >0</td>\n",
              "            </tr>\n",
              "    </tbody></table>"
            ],
            "text/plain": [
              "<pandas.io.formats.style.Styler at 0x7ffaccb56630>"
            ]
          },
          "metadata": {
            "tags": []
          }
        }
      ]
    },
    {
      "cell_type": "code",
      "metadata": {
        "colab": {
          "base_uri": "https://localhost:8080/",
          "height": 232
        },
        "id": "mB17zuy5WfUm",
        "outputId": "3b8c939a-14aa-474f-f8e6-b50343322279"
      },
      "source": [
        "# cells with indices\n",
        "display(showMatrix(N))"
      ],
      "execution_count": 45,
      "outputs": [
        {
          "output_type": "display_data",
          "data": {
            "text/html": [
              "<style  type=\"text/css\" >\n",
              "#T_c16f0b14_4848_11eb_aa0b_0242ac1c0002row0_col0,#T_c16f0b14_4848_11eb_aa0b_0242ac1c0002row0_col4,#T_c16f0b14_4848_11eb_aa0b_0242ac1c0002row1_col1,#T_c16f0b14_4848_11eb_aa0b_0242ac1c0002row1_col3,#T_c16f0b14_4848_11eb_aa0b_0242ac1c0002row1_col5,#T_c16f0b14_4848_11eb_aa0b_0242ac1c0002row2_col0,#T_c16f0b14_4848_11eb_aa0b_0242ac1c0002row2_col2,#T_c16f0b14_4848_11eb_aa0b_0242ac1c0002row2_col4,#T_c16f0b14_4848_11eb_aa0b_0242ac1c0002row3_col1,#T_c16f0b14_4848_11eb_aa0b_0242ac1c0002row3_col3,#T_c16f0b14_4848_11eb_aa0b_0242ac1c0002row4_col2{\n",
              "            color:  white;\n",
              "             background-color:  black;\n",
              "            width:  2em;\n",
              "            height:  2em;\n",
              "            text-align:  center;\n",
              "        }#T_c16f0b14_4848_11eb_aa0b_0242ac1c0002row0_col1,#T_c16f0b14_4848_11eb_aa0b_0242ac1c0002row0_col5,#T_c16f0b14_4848_11eb_aa0b_0242ac1c0002row1_col0,#T_c16f0b14_4848_11eb_aa0b_0242ac1c0002row1_col2,#T_c16f0b14_4848_11eb_aa0b_0242ac1c0002row1_col4,#T_c16f0b14_4848_11eb_aa0b_0242ac1c0002row2_col1,#T_c16f0b14_4848_11eb_aa0b_0242ac1c0002row2_col3,#T_c16f0b14_4848_11eb_aa0b_0242ac1c0002row2_col5,#T_c16f0b14_4848_11eb_aa0b_0242ac1c0002row3_col2,#T_c16f0b14_4848_11eb_aa0b_0242ac1c0002row4_col1,#T_c16f0b14_4848_11eb_aa0b_0242ac1c0002row4_col3{\n",
              "            color:  white;\n",
              "             background-color:  green;\n",
              "            width:  2em;\n",
              "            height:  2em;\n",
              "            text-align:  center;\n",
              "        }#T_c16f0b14_4848_11eb_aa0b_0242ac1c0002row0_col2,#T_c16f0b14_4848_11eb_aa0b_0242ac1c0002row0_col3,#T_c16f0b14_4848_11eb_aa0b_0242ac1c0002row3_col0,#T_c16f0b14_4848_11eb_aa0b_0242ac1c0002row3_col4,#T_c16f0b14_4848_11eb_aa0b_0242ac1c0002row3_col5,#T_c16f0b14_4848_11eb_aa0b_0242ac1c0002row4_col0,#T_c16f0b14_4848_11eb_aa0b_0242ac1c0002row4_col4,#T_c16f0b14_4848_11eb_aa0b_0242ac1c0002row4_col5,#T_c16f0b14_4848_11eb_aa0b_0242ac1c0002row5_col0,#T_c16f0b14_4848_11eb_aa0b_0242ac1c0002row5_col1,#T_c16f0b14_4848_11eb_aa0b_0242ac1c0002row5_col2,#T_c16f0b14_4848_11eb_aa0b_0242ac1c0002row5_col3,#T_c16f0b14_4848_11eb_aa0b_0242ac1c0002row5_col4,#T_c16f0b14_4848_11eb_aa0b_0242ac1c0002row5_col5{\n",
              "            color:  lightgrey;\n",
              "            width:  2em;\n",
              "            height:  2em;\n",
              "            text-align:  center;\n",
              "        }</style><table id=\"T_c16f0b14_4848_11eb_aa0b_0242ac1c0002\" ><thead>    <tr>        <th class=\"blank level0\" ></th>        <th class=\"col_heading level0 col0\" >0</th>        <th class=\"col_heading level0 col1\" >1</th>        <th class=\"col_heading level0 col2\" >2</th>        <th class=\"col_heading level0 col3\" >3</th>        <th class=\"col_heading level0 col4\" >4</th>        <th class=\"col_heading level0 col5\" >5</th>    </tr></thead><tbody>\n",
              "                <tr>\n",
              "                        <th id=\"T_c16f0b14_4848_11eb_aa0b_0242ac1c0002level0_row0\" class=\"row_heading level0 row0\" >0</th>\n",
              "                        <td id=\"T_c16f0b14_4848_11eb_aa0b_0242ac1c0002row0_col0\" class=\"data row0 col0\" >-1</td>\n",
              "                        <td id=\"T_c16f0b14_4848_11eb_aa0b_0242ac1c0002row0_col1\" class=\"data row0 col1\" >1</td>\n",
              "                        <td id=\"T_c16f0b14_4848_11eb_aa0b_0242ac1c0002row0_col2\" class=\"data row0 col2\" >0</td>\n",
              "                        <td id=\"T_c16f0b14_4848_11eb_aa0b_0242ac1c0002row0_col3\" class=\"data row0 col3\" >0</td>\n",
              "                        <td id=\"T_c16f0b14_4848_11eb_aa0b_0242ac1c0002row0_col4\" class=\"data row0 col4\" >-2</td>\n",
              "                        <td id=\"T_c16f0b14_4848_11eb_aa0b_0242ac1c0002row0_col5\" class=\"data row0 col5\" >2</td>\n",
              "            </tr>\n",
              "            <tr>\n",
              "                        <th id=\"T_c16f0b14_4848_11eb_aa0b_0242ac1c0002level0_row1\" class=\"row_heading level0 row1\" >1</th>\n",
              "                        <td id=\"T_c16f0b14_4848_11eb_aa0b_0242ac1c0002row1_col0\" class=\"data row1 col0\" >3</td>\n",
              "                        <td id=\"T_c16f0b14_4848_11eb_aa0b_0242ac1c0002row1_col1\" class=\"data row1 col1\" >-3</td>\n",
              "                        <td id=\"T_c16f0b14_4848_11eb_aa0b_0242ac1c0002row1_col2\" class=\"data row1 col2\" >4</td>\n",
              "                        <td id=\"T_c16f0b14_4848_11eb_aa0b_0242ac1c0002row1_col3\" class=\"data row1 col3\" >-4</td>\n",
              "                        <td id=\"T_c16f0b14_4848_11eb_aa0b_0242ac1c0002row1_col4\" class=\"data row1 col4\" >5</td>\n",
              "                        <td id=\"T_c16f0b14_4848_11eb_aa0b_0242ac1c0002row1_col5\" class=\"data row1 col5\" >-5</td>\n",
              "            </tr>\n",
              "            <tr>\n",
              "                        <th id=\"T_c16f0b14_4848_11eb_aa0b_0242ac1c0002level0_row2\" class=\"row_heading level0 row2\" >2</th>\n",
              "                        <td id=\"T_c16f0b14_4848_11eb_aa0b_0242ac1c0002row2_col0\" class=\"data row2 col0\" >-6</td>\n",
              "                        <td id=\"T_c16f0b14_4848_11eb_aa0b_0242ac1c0002row2_col1\" class=\"data row2 col1\" >6</td>\n",
              "                        <td id=\"T_c16f0b14_4848_11eb_aa0b_0242ac1c0002row2_col2\" class=\"data row2 col2\" >-7</td>\n",
              "                        <td id=\"T_c16f0b14_4848_11eb_aa0b_0242ac1c0002row2_col3\" class=\"data row2 col3\" >7</td>\n",
              "                        <td id=\"T_c16f0b14_4848_11eb_aa0b_0242ac1c0002row2_col4\" class=\"data row2 col4\" >-8</td>\n",
              "                        <td id=\"T_c16f0b14_4848_11eb_aa0b_0242ac1c0002row2_col5\" class=\"data row2 col5\" >8</td>\n",
              "            </tr>\n",
              "            <tr>\n",
              "                        <th id=\"T_c16f0b14_4848_11eb_aa0b_0242ac1c0002level0_row3\" class=\"row_heading level0 row3\" >3</th>\n",
              "                        <td id=\"T_c16f0b14_4848_11eb_aa0b_0242ac1c0002row3_col0\" class=\"data row3 col0\" >0</td>\n",
              "                        <td id=\"T_c16f0b14_4848_11eb_aa0b_0242ac1c0002row3_col1\" class=\"data row3 col1\" >-9</td>\n",
              "                        <td id=\"T_c16f0b14_4848_11eb_aa0b_0242ac1c0002row3_col2\" class=\"data row3 col2\" >9</td>\n",
              "                        <td id=\"T_c16f0b14_4848_11eb_aa0b_0242ac1c0002row3_col3\" class=\"data row3 col3\" >-10</td>\n",
              "                        <td id=\"T_c16f0b14_4848_11eb_aa0b_0242ac1c0002row3_col4\" class=\"data row3 col4\" >0</td>\n",
              "                        <td id=\"T_c16f0b14_4848_11eb_aa0b_0242ac1c0002row3_col5\" class=\"data row3 col5\" >0</td>\n",
              "            </tr>\n",
              "            <tr>\n",
              "                        <th id=\"T_c16f0b14_4848_11eb_aa0b_0242ac1c0002level0_row4\" class=\"row_heading level0 row4\" >4</th>\n",
              "                        <td id=\"T_c16f0b14_4848_11eb_aa0b_0242ac1c0002row4_col0\" class=\"data row4 col0\" >0</td>\n",
              "                        <td id=\"T_c16f0b14_4848_11eb_aa0b_0242ac1c0002row4_col1\" class=\"data row4 col1\" >10</td>\n",
              "                        <td id=\"T_c16f0b14_4848_11eb_aa0b_0242ac1c0002row4_col2\" class=\"data row4 col2\" >-11</td>\n",
              "                        <td id=\"T_c16f0b14_4848_11eb_aa0b_0242ac1c0002row4_col3\" class=\"data row4 col3\" >11</td>\n",
              "                        <td id=\"T_c16f0b14_4848_11eb_aa0b_0242ac1c0002row4_col4\" class=\"data row4 col4\" >0</td>\n",
              "                        <td id=\"T_c16f0b14_4848_11eb_aa0b_0242ac1c0002row4_col5\" class=\"data row4 col5\" >0</td>\n",
              "            </tr>\n",
              "            <tr>\n",
              "                        <th id=\"T_c16f0b14_4848_11eb_aa0b_0242ac1c0002level0_row5\" class=\"row_heading level0 row5\" >5</th>\n",
              "                        <td id=\"T_c16f0b14_4848_11eb_aa0b_0242ac1c0002row5_col0\" class=\"data row5 col0\" >0</td>\n",
              "                        <td id=\"T_c16f0b14_4848_11eb_aa0b_0242ac1c0002row5_col1\" class=\"data row5 col1\" >0</td>\n",
              "                        <td id=\"T_c16f0b14_4848_11eb_aa0b_0242ac1c0002row5_col2\" class=\"data row5 col2\" >0</td>\n",
              "                        <td id=\"T_c16f0b14_4848_11eb_aa0b_0242ac1c0002row5_col3\" class=\"data row5 col3\" >0</td>\n",
              "                        <td id=\"T_c16f0b14_4848_11eb_aa0b_0242ac1c0002row5_col4\" class=\"data row5 col4\" >0</td>\n",
              "                        <td id=\"T_c16f0b14_4848_11eb_aa0b_0242ac1c0002row5_col5\" class=\"data row5 col5\" >0</td>\n",
              "            </tr>\n",
              "    </tbody></table>"
            ],
            "text/plain": [
              "<pandas.io.formats.style.Styler at 0x7ffaccb2def0>"
            ]
          },
          "metadata": {
            "tags": []
          }
        }
      ]
    },
    {
      "cell_type": "code",
      "metadata": {
        "colab": {
          "base_uri": "https://localhost:8080/",
          "height": 392
        },
        "id": "DsBI28ECWnwd",
        "outputId": "e5f4d825-ebcd-40c3-8ab9-3b5f8636f716"
      },
      "source": [
        "# complex matrix A with |det(A)| = #number_of_tilings\n",
        "Ac = A.copy().astype('object')\n",
        "Ac[Ac==complex(0,0)] = 0\n",
        "Ac[Ac==complex(1,0)] = 1\n",
        "Ac[Ac==complex(0,1)] = 'i'\n",
        "display(showMatrix(Ac))"
      ],
      "execution_count": 46,
      "outputs": [
        {
          "output_type": "display_data",
          "data": {
            "text/html": [
              "<style  type=\"text/css\" >\n",
              "#T_c3ec2c46_4848_11eb_aa0b_0242ac1c0002row0_col0,#T_c3ec2c46_4848_11eb_aa0b_0242ac1c0002row0_col2,#T_c3ec2c46_4848_11eb_aa0b_0242ac1c0002row1_col1,#T_c3ec2c46_4848_11eb_aa0b_0242ac1c0002row2_col0,#T_c3ec2c46_4848_11eb_aa0b_0242ac1c0002row2_col2,#T_c3ec2c46_4848_11eb_aa0b_0242ac1c0002row3_col3,#T_c3ec2c46_4848_11eb_aa0b_0242ac1c0002row4_col4,#T_c3ec2c46_4848_11eb_aa0b_0242ac1c0002row5_col5,#T_c3ec2c46_4848_11eb_aa0b_0242ac1c0002row6_col6,#T_c3ec2c46_4848_11eb_aa0b_0242ac1c0002row7_col7,#T_c3ec2c46_4848_11eb_aa0b_0242ac1c0002row8_col6,#T_c3ec2c46_4848_11eb_aa0b_0242ac1c0002row8_col8,#T_c3ec2c46_4848_11eb_aa0b_0242ac1c0002row8_col10,#T_c3ec2c46_4848_11eb_aa0b_0242ac1c0002row10_col10{\n",
              "            color:  white;\n",
              "             background-color:  black;\n",
              "            width:  2em;\n",
              "            height:  2em;\n",
              "            text-align:  center;\n",
              "        }#T_c3ec2c46_4848_11eb_aa0b_0242ac1c0002row0_col1,#T_c3ec2c46_4848_11eb_aa0b_0242ac1c0002row0_col3,#T_c3ec2c46_4848_11eb_aa0b_0242ac1c0002row0_col4,#T_c3ec2c46_4848_11eb_aa0b_0242ac1c0002row0_col5,#T_c3ec2c46_4848_11eb_aa0b_0242ac1c0002row0_col6,#T_c3ec2c46_4848_11eb_aa0b_0242ac1c0002row0_col7,#T_c3ec2c46_4848_11eb_aa0b_0242ac1c0002row0_col8,#T_c3ec2c46_4848_11eb_aa0b_0242ac1c0002row0_col9,#T_c3ec2c46_4848_11eb_aa0b_0242ac1c0002row0_col10,#T_c3ec2c46_4848_11eb_aa0b_0242ac1c0002row1_col0,#T_c3ec2c46_4848_11eb_aa0b_0242ac1c0002row1_col2,#T_c3ec2c46_4848_11eb_aa0b_0242ac1c0002row1_col3,#T_c3ec2c46_4848_11eb_aa0b_0242ac1c0002row1_col5,#T_c3ec2c46_4848_11eb_aa0b_0242ac1c0002row1_col6,#T_c3ec2c46_4848_11eb_aa0b_0242ac1c0002row1_col7,#T_c3ec2c46_4848_11eb_aa0b_0242ac1c0002row1_col8,#T_c3ec2c46_4848_11eb_aa0b_0242ac1c0002row1_col9,#T_c3ec2c46_4848_11eb_aa0b_0242ac1c0002row1_col10,#T_c3ec2c46_4848_11eb_aa0b_0242ac1c0002row2_col1,#T_c3ec2c46_4848_11eb_aa0b_0242ac1c0002row2_col3,#T_c3ec2c46_4848_11eb_aa0b_0242ac1c0002row2_col4,#T_c3ec2c46_4848_11eb_aa0b_0242ac1c0002row2_col6,#T_c3ec2c46_4848_11eb_aa0b_0242ac1c0002row2_col7,#T_c3ec2c46_4848_11eb_aa0b_0242ac1c0002row2_col8,#T_c3ec2c46_4848_11eb_aa0b_0242ac1c0002row2_col9,#T_c3ec2c46_4848_11eb_aa0b_0242ac1c0002row2_col10,#T_c3ec2c46_4848_11eb_aa0b_0242ac1c0002row3_col0,#T_c3ec2c46_4848_11eb_aa0b_0242ac1c0002row3_col1,#T_c3ec2c46_4848_11eb_aa0b_0242ac1c0002row3_col4,#T_c3ec2c46_4848_11eb_aa0b_0242ac1c0002row3_col5,#T_c3ec2c46_4848_11eb_aa0b_0242ac1c0002row3_col7,#T_c3ec2c46_4848_11eb_aa0b_0242ac1c0002row3_col8,#T_c3ec2c46_4848_11eb_aa0b_0242ac1c0002row3_col9,#T_c3ec2c46_4848_11eb_aa0b_0242ac1c0002row3_col10,#T_c3ec2c46_4848_11eb_aa0b_0242ac1c0002row4_col0,#T_c3ec2c46_4848_11eb_aa0b_0242ac1c0002row4_col2,#T_c3ec2c46_4848_11eb_aa0b_0242ac1c0002row4_col5,#T_c3ec2c46_4848_11eb_aa0b_0242ac1c0002row4_col6,#T_c3ec2c46_4848_11eb_aa0b_0242ac1c0002row4_col8,#T_c3ec2c46_4848_11eb_aa0b_0242ac1c0002row4_col9,#T_c3ec2c46_4848_11eb_aa0b_0242ac1c0002row4_col10,#T_c3ec2c46_4848_11eb_aa0b_0242ac1c0002row5_col0,#T_c3ec2c46_4848_11eb_aa0b_0242ac1c0002row5_col1,#T_c3ec2c46_4848_11eb_aa0b_0242ac1c0002row5_col3,#T_c3ec2c46_4848_11eb_aa0b_0242ac1c0002row5_col4,#T_c3ec2c46_4848_11eb_aa0b_0242ac1c0002row5_col7,#T_c3ec2c46_4848_11eb_aa0b_0242ac1c0002row5_col9,#T_c3ec2c46_4848_11eb_aa0b_0242ac1c0002row5_col10,#T_c3ec2c46_4848_11eb_aa0b_0242ac1c0002row6_col0,#T_c3ec2c46_4848_11eb_aa0b_0242ac1c0002row6_col1,#T_c3ec2c46_4848_11eb_aa0b_0242ac1c0002row6_col2,#T_c3ec2c46_4848_11eb_aa0b_0242ac1c0002row6_col4,#T_c3ec2c46_4848_11eb_aa0b_0242ac1c0002row6_col5,#T_c3ec2c46_4848_11eb_aa0b_0242ac1c0002row6_col8,#T_c3ec2c46_4848_11eb_aa0b_0242ac1c0002row6_col10,#T_c3ec2c46_4848_11eb_aa0b_0242ac1c0002row7_col0,#T_c3ec2c46_4848_11eb_aa0b_0242ac1c0002row7_col1,#T_c3ec2c46_4848_11eb_aa0b_0242ac1c0002row7_col2,#T_c3ec2c46_4848_11eb_aa0b_0242ac1c0002row7_col3,#T_c3ec2c46_4848_11eb_aa0b_0242ac1c0002row7_col5,#T_c3ec2c46_4848_11eb_aa0b_0242ac1c0002row7_col6,#T_c3ec2c46_4848_11eb_aa0b_0242ac1c0002row7_col8,#T_c3ec2c46_4848_11eb_aa0b_0242ac1c0002row7_col9,#T_c3ec2c46_4848_11eb_aa0b_0242ac1c0002row7_col10,#T_c3ec2c46_4848_11eb_aa0b_0242ac1c0002row8_col0,#T_c3ec2c46_4848_11eb_aa0b_0242ac1c0002row8_col1,#T_c3ec2c46_4848_11eb_aa0b_0242ac1c0002row8_col2,#T_c3ec2c46_4848_11eb_aa0b_0242ac1c0002row8_col3,#T_c3ec2c46_4848_11eb_aa0b_0242ac1c0002row8_col4,#T_c3ec2c46_4848_11eb_aa0b_0242ac1c0002row8_col5,#T_c3ec2c46_4848_11eb_aa0b_0242ac1c0002row8_col7,#T_c3ec2c46_4848_11eb_aa0b_0242ac1c0002row9_col0,#T_c3ec2c46_4848_11eb_aa0b_0242ac1c0002row9_col1,#T_c3ec2c46_4848_11eb_aa0b_0242ac1c0002row9_col2,#T_c3ec2c46_4848_11eb_aa0b_0242ac1c0002row9_col3,#T_c3ec2c46_4848_11eb_aa0b_0242ac1c0002row9_col4,#T_c3ec2c46_4848_11eb_aa0b_0242ac1c0002row9_col5,#T_c3ec2c46_4848_11eb_aa0b_0242ac1c0002row9_col6,#T_c3ec2c46_4848_11eb_aa0b_0242ac1c0002row9_col7,#T_c3ec2c46_4848_11eb_aa0b_0242ac1c0002row9_col9,#T_c3ec2c46_4848_11eb_aa0b_0242ac1c0002row10_col0,#T_c3ec2c46_4848_11eb_aa0b_0242ac1c0002row10_col1,#T_c3ec2c46_4848_11eb_aa0b_0242ac1c0002row10_col2,#T_c3ec2c46_4848_11eb_aa0b_0242ac1c0002row10_col3,#T_c3ec2c46_4848_11eb_aa0b_0242ac1c0002row10_col4,#T_c3ec2c46_4848_11eb_aa0b_0242ac1c0002row10_col5,#T_c3ec2c46_4848_11eb_aa0b_0242ac1c0002row10_col6,#T_c3ec2c46_4848_11eb_aa0b_0242ac1c0002row10_col7,#T_c3ec2c46_4848_11eb_aa0b_0242ac1c0002row10_col8{\n",
              "            color:  lightgrey;\n",
              "            width:  2em;\n",
              "            height:  2em;\n",
              "            text-align:  center;\n",
              "        }#T_c3ec2c46_4848_11eb_aa0b_0242ac1c0002row1_col4,#T_c3ec2c46_4848_11eb_aa0b_0242ac1c0002row2_col5,#T_c3ec2c46_4848_11eb_aa0b_0242ac1c0002row3_col2,#T_c3ec2c46_4848_11eb_aa0b_0242ac1c0002row3_col6,#T_c3ec2c46_4848_11eb_aa0b_0242ac1c0002row4_col1,#T_c3ec2c46_4848_11eb_aa0b_0242ac1c0002row4_col3,#T_c3ec2c46_4848_11eb_aa0b_0242ac1c0002row4_col7,#T_c3ec2c46_4848_11eb_aa0b_0242ac1c0002row5_col2,#T_c3ec2c46_4848_11eb_aa0b_0242ac1c0002row5_col6,#T_c3ec2c46_4848_11eb_aa0b_0242ac1c0002row5_col8,#T_c3ec2c46_4848_11eb_aa0b_0242ac1c0002row6_col3,#T_c3ec2c46_4848_11eb_aa0b_0242ac1c0002row6_col7,#T_c3ec2c46_4848_11eb_aa0b_0242ac1c0002row6_col9,#T_c3ec2c46_4848_11eb_aa0b_0242ac1c0002row7_col4,#T_c3ec2c46_4848_11eb_aa0b_0242ac1c0002row8_col9,#T_c3ec2c46_4848_11eb_aa0b_0242ac1c0002row9_col8,#T_c3ec2c46_4848_11eb_aa0b_0242ac1c0002row9_col10,#T_c3ec2c46_4848_11eb_aa0b_0242ac1c0002row10_col9{\n",
              "            color:  white;\n",
              "             background-color:  green;\n",
              "            width:  2em;\n",
              "            height:  2em;\n",
              "            text-align:  center;\n",
              "        }</style><table id=\"T_c3ec2c46_4848_11eb_aa0b_0242ac1c0002\" ><thead>    <tr>        <th class=\"blank level0\" ></th>        <th class=\"col_heading level0 col0\" >0</th>        <th class=\"col_heading level0 col1\" >1</th>        <th class=\"col_heading level0 col2\" >2</th>        <th class=\"col_heading level0 col3\" >3</th>        <th class=\"col_heading level0 col4\" >4</th>        <th class=\"col_heading level0 col5\" >5</th>        <th class=\"col_heading level0 col6\" >6</th>        <th class=\"col_heading level0 col7\" >7</th>        <th class=\"col_heading level0 col8\" >8</th>        <th class=\"col_heading level0 col9\" >9</th>        <th class=\"col_heading level0 col10\" >10</th>    </tr></thead><tbody>\n",
              "                <tr>\n",
              "                        <th id=\"T_c3ec2c46_4848_11eb_aa0b_0242ac1c0002level0_row0\" class=\"row_heading level0 row0\" >0</th>\n",
              "                        <td id=\"T_c3ec2c46_4848_11eb_aa0b_0242ac1c0002row0_col0\" class=\"data row0 col0\" >1</td>\n",
              "                        <td id=\"T_c3ec2c46_4848_11eb_aa0b_0242ac1c0002row0_col1\" class=\"data row0 col1\" >0</td>\n",
              "                        <td id=\"T_c3ec2c46_4848_11eb_aa0b_0242ac1c0002row0_col2\" class=\"data row0 col2\" >i</td>\n",
              "                        <td id=\"T_c3ec2c46_4848_11eb_aa0b_0242ac1c0002row0_col3\" class=\"data row0 col3\" >0</td>\n",
              "                        <td id=\"T_c3ec2c46_4848_11eb_aa0b_0242ac1c0002row0_col4\" class=\"data row0 col4\" >0</td>\n",
              "                        <td id=\"T_c3ec2c46_4848_11eb_aa0b_0242ac1c0002row0_col5\" class=\"data row0 col5\" >0</td>\n",
              "                        <td id=\"T_c3ec2c46_4848_11eb_aa0b_0242ac1c0002row0_col6\" class=\"data row0 col6\" >0</td>\n",
              "                        <td id=\"T_c3ec2c46_4848_11eb_aa0b_0242ac1c0002row0_col7\" class=\"data row0 col7\" >0</td>\n",
              "                        <td id=\"T_c3ec2c46_4848_11eb_aa0b_0242ac1c0002row0_col8\" class=\"data row0 col8\" >0</td>\n",
              "                        <td id=\"T_c3ec2c46_4848_11eb_aa0b_0242ac1c0002row0_col9\" class=\"data row0 col9\" >0</td>\n",
              "                        <td id=\"T_c3ec2c46_4848_11eb_aa0b_0242ac1c0002row0_col10\" class=\"data row0 col10\" >0</td>\n",
              "            </tr>\n",
              "            <tr>\n",
              "                        <th id=\"T_c3ec2c46_4848_11eb_aa0b_0242ac1c0002level0_row1\" class=\"row_heading level0 row1\" >1</th>\n",
              "                        <td id=\"T_c3ec2c46_4848_11eb_aa0b_0242ac1c0002row1_col0\" class=\"data row1 col0\" >0</td>\n",
              "                        <td id=\"T_c3ec2c46_4848_11eb_aa0b_0242ac1c0002row1_col1\" class=\"data row1 col1\" >1</td>\n",
              "                        <td id=\"T_c3ec2c46_4848_11eb_aa0b_0242ac1c0002row1_col2\" class=\"data row1 col2\" >0</td>\n",
              "                        <td id=\"T_c3ec2c46_4848_11eb_aa0b_0242ac1c0002row1_col3\" class=\"data row1 col3\" >0</td>\n",
              "                        <td id=\"T_c3ec2c46_4848_11eb_aa0b_0242ac1c0002row1_col4\" class=\"data row1 col4\" >i</td>\n",
              "                        <td id=\"T_c3ec2c46_4848_11eb_aa0b_0242ac1c0002row1_col5\" class=\"data row1 col5\" >0</td>\n",
              "                        <td id=\"T_c3ec2c46_4848_11eb_aa0b_0242ac1c0002row1_col6\" class=\"data row1 col6\" >0</td>\n",
              "                        <td id=\"T_c3ec2c46_4848_11eb_aa0b_0242ac1c0002row1_col7\" class=\"data row1 col7\" >0</td>\n",
              "                        <td id=\"T_c3ec2c46_4848_11eb_aa0b_0242ac1c0002row1_col8\" class=\"data row1 col8\" >0</td>\n",
              "                        <td id=\"T_c3ec2c46_4848_11eb_aa0b_0242ac1c0002row1_col9\" class=\"data row1 col9\" >0</td>\n",
              "                        <td id=\"T_c3ec2c46_4848_11eb_aa0b_0242ac1c0002row1_col10\" class=\"data row1 col10\" >0</td>\n",
              "            </tr>\n",
              "            <tr>\n",
              "                        <th id=\"T_c3ec2c46_4848_11eb_aa0b_0242ac1c0002level0_row2\" class=\"row_heading level0 row2\" >2</th>\n",
              "                        <td id=\"T_c3ec2c46_4848_11eb_aa0b_0242ac1c0002row2_col0\" class=\"data row2 col0\" >i</td>\n",
              "                        <td id=\"T_c3ec2c46_4848_11eb_aa0b_0242ac1c0002row2_col1\" class=\"data row2 col1\" >0</td>\n",
              "                        <td id=\"T_c3ec2c46_4848_11eb_aa0b_0242ac1c0002row2_col2\" class=\"data row2 col2\" >1</td>\n",
              "                        <td id=\"T_c3ec2c46_4848_11eb_aa0b_0242ac1c0002row2_col3\" class=\"data row2 col3\" >0</td>\n",
              "                        <td id=\"T_c3ec2c46_4848_11eb_aa0b_0242ac1c0002row2_col4\" class=\"data row2 col4\" >0</td>\n",
              "                        <td id=\"T_c3ec2c46_4848_11eb_aa0b_0242ac1c0002row2_col5\" class=\"data row2 col5\" >i</td>\n",
              "                        <td id=\"T_c3ec2c46_4848_11eb_aa0b_0242ac1c0002row2_col6\" class=\"data row2 col6\" >0</td>\n",
              "                        <td id=\"T_c3ec2c46_4848_11eb_aa0b_0242ac1c0002row2_col7\" class=\"data row2 col7\" >0</td>\n",
              "                        <td id=\"T_c3ec2c46_4848_11eb_aa0b_0242ac1c0002row2_col8\" class=\"data row2 col8\" >0</td>\n",
              "                        <td id=\"T_c3ec2c46_4848_11eb_aa0b_0242ac1c0002row2_col9\" class=\"data row2 col9\" >0</td>\n",
              "                        <td id=\"T_c3ec2c46_4848_11eb_aa0b_0242ac1c0002row2_col10\" class=\"data row2 col10\" >0</td>\n",
              "            </tr>\n",
              "            <tr>\n",
              "                        <th id=\"T_c3ec2c46_4848_11eb_aa0b_0242ac1c0002level0_row3\" class=\"row_heading level0 row3\" >3</th>\n",
              "                        <td id=\"T_c3ec2c46_4848_11eb_aa0b_0242ac1c0002row3_col0\" class=\"data row3 col0\" >0</td>\n",
              "                        <td id=\"T_c3ec2c46_4848_11eb_aa0b_0242ac1c0002row3_col1\" class=\"data row3 col1\" >0</td>\n",
              "                        <td id=\"T_c3ec2c46_4848_11eb_aa0b_0242ac1c0002row3_col2\" class=\"data row3 col2\" >1</td>\n",
              "                        <td id=\"T_c3ec2c46_4848_11eb_aa0b_0242ac1c0002row3_col3\" class=\"data row3 col3\" >1</td>\n",
              "                        <td id=\"T_c3ec2c46_4848_11eb_aa0b_0242ac1c0002row3_col4\" class=\"data row3 col4\" >0</td>\n",
              "                        <td id=\"T_c3ec2c46_4848_11eb_aa0b_0242ac1c0002row3_col5\" class=\"data row3 col5\" >0</td>\n",
              "                        <td id=\"T_c3ec2c46_4848_11eb_aa0b_0242ac1c0002row3_col6\" class=\"data row3 col6\" >i</td>\n",
              "                        <td id=\"T_c3ec2c46_4848_11eb_aa0b_0242ac1c0002row3_col7\" class=\"data row3 col7\" >0</td>\n",
              "                        <td id=\"T_c3ec2c46_4848_11eb_aa0b_0242ac1c0002row3_col8\" class=\"data row3 col8\" >0</td>\n",
              "                        <td id=\"T_c3ec2c46_4848_11eb_aa0b_0242ac1c0002row3_col9\" class=\"data row3 col9\" >0</td>\n",
              "                        <td id=\"T_c3ec2c46_4848_11eb_aa0b_0242ac1c0002row3_col10\" class=\"data row3 col10\" >0</td>\n",
              "            </tr>\n",
              "            <tr>\n",
              "                        <th id=\"T_c3ec2c46_4848_11eb_aa0b_0242ac1c0002level0_row4\" class=\"row_heading level0 row4\" >4</th>\n",
              "                        <td id=\"T_c3ec2c46_4848_11eb_aa0b_0242ac1c0002row4_col0\" class=\"data row4 col0\" >0</td>\n",
              "                        <td id=\"T_c3ec2c46_4848_11eb_aa0b_0242ac1c0002row4_col1\" class=\"data row4 col1\" >i</td>\n",
              "                        <td id=\"T_c3ec2c46_4848_11eb_aa0b_0242ac1c0002row4_col2\" class=\"data row4 col2\" >0</td>\n",
              "                        <td id=\"T_c3ec2c46_4848_11eb_aa0b_0242ac1c0002row4_col3\" class=\"data row4 col3\" >1</td>\n",
              "                        <td id=\"T_c3ec2c46_4848_11eb_aa0b_0242ac1c0002row4_col4\" class=\"data row4 col4\" >1</td>\n",
              "                        <td id=\"T_c3ec2c46_4848_11eb_aa0b_0242ac1c0002row4_col5\" class=\"data row4 col5\" >0</td>\n",
              "                        <td id=\"T_c3ec2c46_4848_11eb_aa0b_0242ac1c0002row4_col6\" class=\"data row4 col6\" >0</td>\n",
              "                        <td id=\"T_c3ec2c46_4848_11eb_aa0b_0242ac1c0002row4_col7\" class=\"data row4 col7\" >i</td>\n",
              "                        <td id=\"T_c3ec2c46_4848_11eb_aa0b_0242ac1c0002row4_col8\" class=\"data row4 col8\" >0</td>\n",
              "                        <td id=\"T_c3ec2c46_4848_11eb_aa0b_0242ac1c0002row4_col9\" class=\"data row4 col9\" >0</td>\n",
              "                        <td id=\"T_c3ec2c46_4848_11eb_aa0b_0242ac1c0002row4_col10\" class=\"data row4 col10\" >0</td>\n",
              "            </tr>\n",
              "            <tr>\n",
              "                        <th id=\"T_c3ec2c46_4848_11eb_aa0b_0242ac1c0002level0_row5\" class=\"row_heading level0 row5\" >5</th>\n",
              "                        <td id=\"T_c3ec2c46_4848_11eb_aa0b_0242ac1c0002row5_col0\" class=\"data row5 col0\" >0</td>\n",
              "                        <td id=\"T_c3ec2c46_4848_11eb_aa0b_0242ac1c0002row5_col1\" class=\"data row5 col1\" >0</td>\n",
              "                        <td id=\"T_c3ec2c46_4848_11eb_aa0b_0242ac1c0002row5_col2\" class=\"data row5 col2\" >i</td>\n",
              "                        <td id=\"T_c3ec2c46_4848_11eb_aa0b_0242ac1c0002row5_col3\" class=\"data row5 col3\" >0</td>\n",
              "                        <td id=\"T_c3ec2c46_4848_11eb_aa0b_0242ac1c0002row5_col4\" class=\"data row5 col4\" >0</td>\n",
              "                        <td id=\"T_c3ec2c46_4848_11eb_aa0b_0242ac1c0002row5_col5\" class=\"data row5 col5\" >1</td>\n",
              "                        <td id=\"T_c3ec2c46_4848_11eb_aa0b_0242ac1c0002row5_col6\" class=\"data row5 col6\" >1</td>\n",
              "                        <td id=\"T_c3ec2c46_4848_11eb_aa0b_0242ac1c0002row5_col7\" class=\"data row5 col7\" >0</td>\n",
              "                        <td id=\"T_c3ec2c46_4848_11eb_aa0b_0242ac1c0002row5_col8\" class=\"data row5 col8\" >i</td>\n",
              "                        <td id=\"T_c3ec2c46_4848_11eb_aa0b_0242ac1c0002row5_col9\" class=\"data row5 col9\" >0</td>\n",
              "                        <td id=\"T_c3ec2c46_4848_11eb_aa0b_0242ac1c0002row5_col10\" class=\"data row5 col10\" >0</td>\n",
              "            </tr>\n",
              "            <tr>\n",
              "                        <th id=\"T_c3ec2c46_4848_11eb_aa0b_0242ac1c0002level0_row6\" class=\"row_heading level0 row6\" >6</th>\n",
              "                        <td id=\"T_c3ec2c46_4848_11eb_aa0b_0242ac1c0002row6_col0\" class=\"data row6 col0\" >0</td>\n",
              "                        <td id=\"T_c3ec2c46_4848_11eb_aa0b_0242ac1c0002row6_col1\" class=\"data row6 col1\" >0</td>\n",
              "                        <td id=\"T_c3ec2c46_4848_11eb_aa0b_0242ac1c0002row6_col2\" class=\"data row6 col2\" >0</td>\n",
              "                        <td id=\"T_c3ec2c46_4848_11eb_aa0b_0242ac1c0002row6_col3\" class=\"data row6 col3\" >i</td>\n",
              "                        <td id=\"T_c3ec2c46_4848_11eb_aa0b_0242ac1c0002row6_col4\" class=\"data row6 col4\" >0</td>\n",
              "                        <td id=\"T_c3ec2c46_4848_11eb_aa0b_0242ac1c0002row6_col5\" class=\"data row6 col5\" >0</td>\n",
              "                        <td id=\"T_c3ec2c46_4848_11eb_aa0b_0242ac1c0002row6_col6\" class=\"data row6 col6\" >1</td>\n",
              "                        <td id=\"T_c3ec2c46_4848_11eb_aa0b_0242ac1c0002row6_col7\" class=\"data row6 col7\" >1</td>\n",
              "                        <td id=\"T_c3ec2c46_4848_11eb_aa0b_0242ac1c0002row6_col8\" class=\"data row6 col8\" >0</td>\n",
              "                        <td id=\"T_c3ec2c46_4848_11eb_aa0b_0242ac1c0002row6_col9\" class=\"data row6 col9\" >i</td>\n",
              "                        <td id=\"T_c3ec2c46_4848_11eb_aa0b_0242ac1c0002row6_col10\" class=\"data row6 col10\" >0</td>\n",
              "            </tr>\n",
              "            <tr>\n",
              "                        <th id=\"T_c3ec2c46_4848_11eb_aa0b_0242ac1c0002level0_row7\" class=\"row_heading level0 row7\" >7</th>\n",
              "                        <td id=\"T_c3ec2c46_4848_11eb_aa0b_0242ac1c0002row7_col0\" class=\"data row7 col0\" >0</td>\n",
              "                        <td id=\"T_c3ec2c46_4848_11eb_aa0b_0242ac1c0002row7_col1\" class=\"data row7 col1\" >0</td>\n",
              "                        <td id=\"T_c3ec2c46_4848_11eb_aa0b_0242ac1c0002row7_col2\" class=\"data row7 col2\" >0</td>\n",
              "                        <td id=\"T_c3ec2c46_4848_11eb_aa0b_0242ac1c0002row7_col3\" class=\"data row7 col3\" >0</td>\n",
              "                        <td id=\"T_c3ec2c46_4848_11eb_aa0b_0242ac1c0002row7_col4\" class=\"data row7 col4\" >i</td>\n",
              "                        <td id=\"T_c3ec2c46_4848_11eb_aa0b_0242ac1c0002row7_col5\" class=\"data row7 col5\" >0</td>\n",
              "                        <td id=\"T_c3ec2c46_4848_11eb_aa0b_0242ac1c0002row7_col6\" class=\"data row7 col6\" >0</td>\n",
              "                        <td id=\"T_c3ec2c46_4848_11eb_aa0b_0242ac1c0002row7_col7\" class=\"data row7 col7\" >1</td>\n",
              "                        <td id=\"T_c3ec2c46_4848_11eb_aa0b_0242ac1c0002row7_col8\" class=\"data row7 col8\" >0</td>\n",
              "                        <td id=\"T_c3ec2c46_4848_11eb_aa0b_0242ac1c0002row7_col9\" class=\"data row7 col9\" >0</td>\n",
              "                        <td id=\"T_c3ec2c46_4848_11eb_aa0b_0242ac1c0002row7_col10\" class=\"data row7 col10\" >0</td>\n",
              "            </tr>\n",
              "            <tr>\n",
              "                        <th id=\"T_c3ec2c46_4848_11eb_aa0b_0242ac1c0002level0_row8\" class=\"row_heading level0 row8\" >8</th>\n",
              "                        <td id=\"T_c3ec2c46_4848_11eb_aa0b_0242ac1c0002row8_col0\" class=\"data row8 col0\" >0</td>\n",
              "                        <td id=\"T_c3ec2c46_4848_11eb_aa0b_0242ac1c0002row8_col1\" class=\"data row8 col1\" >0</td>\n",
              "                        <td id=\"T_c3ec2c46_4848_11eb_aa0b_0242ac1c0002row8_col2\" class=\"data row8 col2\" >0</td>\n",
              "                        <td id=\"T_c3ec2c46_4848_11eb_aa0b_0242ac1c0002row8_col3\" class=\"data row8 col3\" >0</td>\n",
              "                        <td id=\"T_c3ec2c46_4848_11eb_aa0b_0242ac1c0002row8_col4\" class=\"data row8 col4\" >0</td>\n",
              "                        <td id=\"T_c3ec2c46_4848_11eb_aa0b_0242ac1c0002row8_col5\" class=\"data row8 col5\" >0</td>\n",
              "                        <td id=\"T_c3ec2c46_4848_11eb_aa0b_0242ac1c0002row8_col6\" class=\"data row8 col6\" >i</td>\n",
              "                        <td id=\"T_c3ec2c46_4848_11eb_aa0b_0242ac1c0002row8_col7\" class=\"data row8 col7\" >0</td>\n",
              "                        <td id=\"T_c3ec2c46_4848_11eb_aa0b_0242ac1c0002row8_col8\" class=\"data row8 col8\" >1</td>\n",
              "                        <td id=\"T_c3ec2c46_4848_11eb_aa0b_0242ac1c0002row8_col9\" class=\"data row8 col9\" >1</td>\n",
              "                        <td id=\"T_c3ec2c46_4848_11eb_aa0b_0242ac1c0002row8_col10\" class=\"data row8 col10\" >i</td>\n",
              "            </tr>\n",
              "            <tr>\n",
              "                        <th id=\"T_c3ec2c46_4848_11eb_aa0b_0242ac1c0002level0_row9\" class=\"row_heading level0 row9\" >9</th>\n",
              "                        <td id=\"T_c3ec2c46_4848_11eb_aa0b_0242ac1c0002row9_col0\" class=\"data row9 col0\" >0</td>\n",
              "                        <td id=\"T_c3ec2c46_4848_11eb_aa0b_0242ac1c0002row9_col1\" class=\"data row9 col1\" >0</td>\n",
              "                        <td id=\"T_c3ec2c46_4848_11eb_aa0b_0242ac1c0002row9_col2\" class=\"data row9 col2\" >0</td>\n",
              "                        <td id=\"T_c3ec2c46_4848_11eb_aa0b_0242ac1c0002row9_col3\" class=\"data row9 col3\" >0</td>\n",
              "                        <td id=\"T_c3ec2c46_4848_11eb_aa0b_0242ac1c0002row9_col4\" class=\"data row9 col4\" >0</td>\n",
              "                        <td id=\"T_c3ec2c46_4848_11eb_aa0b_0242ac1c0002row9_col5\" class=\"data row9 col5\" >0</td>\n",
              "                        <td id=\"T_c3ec2c46_4848_11eb_aa0b_0242ac1c0002row9_col6\" class=\"data row9 col6\" >0</td>\n",
              "                        <td id=\"T_c3ec2c46_4848_11eb_aa0b_0242ac1c0002row9_col7\" class=\"data row9 col7\" >0</td>\n",
              "                        <td id=\"T_c3ec2c46_4848_11eb_aa0b_0242ac1c0002row9_col8\" class=\"data row9 col8\" >i</td>\n",
              "                        <td id=\"T_c3ec2c46_4848_11eb_aa0b_0242ac1c0002row9_col9\" class=\"data row9 col9\" >0</td>\n",
              "                        <td id=\"T_c3ec2c46_4848_11eb_aa0b_0242ac1c0002row9_col10\" class=\"data row9 col10\" >1</td>\n",
              "            </tr>\n",
              "            <tr>\n",
              "                        <th id=\"T_c3ec2c46_4848_11eb_aa0b_0242ac1c0002level0_row10\" class=\"row_heading level0 row10\" >10</th>\n",
              "                        <td id=\"T_c3ec2c46_4848_11eb_aa0b_0242ac1c0002row10_col0\" class=\"data row10 col0\" >0</td>\n",
              "                        <td id=\"T_c3ec2c46_4848_11eb_aa0b_0242ac1c0002row10_col1\" class=\"data row10 col1\" >0</td>\n",
              "                        <td id=\"T_c3ec2c46_4848_11eb_aa0b_0242ac1c0002row10_col2\" class=\"data row10 col2\" >0</td>\n",
              "                        <td id=\"T_c3ec2c46_4848_11eb_aa0b_0242ac1c0002row10_col3\" class=\"data row10 col3\" >0</td>\n",
              "                        <td id=\"T_c3ec2c46_4848_11eb_aa0b_0242ac1c0002row10_col4\" class=\"data row10 col4\" >0</td>\n",
              "                        <td id=\"T_c3ec2c46_4848_11eb_aa0b_0242ac1c0002row10_col5\" class=\"data row10 col5\" >0</td>\n",
              "                        <td id=\"T_c3ec2c46_4848_11eb_aa0b_0242ac1c0002row10_col6\" class=\"data row10 col6\" >0</td>\n",
              "                        <td id=\"T_c3ec2c46_4848_11eb_aa0b_0242ac1c0002row10_col7\" class=\"data row10 col7\" >0</td>\n",
              "                        <td id=\"T_c3ec2c46_4848_11eb_aa0b_0242ac1c0002row10_col8\" class=\"data row10 col8\" >0</td>\n",
              "                        <td id=\"T_c3ec2c46_4848_11eb_aa0b_0242ac1c0002row10_col9\" class=\"data row10 col9\" >i</td>\n",
              "                        <td id=\"T_c3ec2c46_4848_11eb_aa0b_0242ac1c0002row10_col10\" class=\"data row10 col10\" >1</td>\n",
              "            </tr>\n",
              "    </tbody></table>"
            ],
            "text/plain": [
              "<pandas.io.formats.style.Styler at 0x7ffaccb2d9e8>"
            ]
          },
          "metadata": {
            "tags": []
          }
        }
      ]
    },
    {
      "cell_type": "code",
      "metadata": {
        "colab": {
          "base_uri": "https://localhost:8080/"
        },
        "id": "BidcQbrtWwm3",
        "outputId": "afab7b9a-04e8-4a33-db96-d79cf5a99037"
      },
      "source": [
        "print(f'\\nNumber of Tilings: {numberOfTilings(M)}')"
      ],
      "execution_count": 22,
      "outputs": [
        {
          "output_type": "stream",
          "text": [
            "\n",
            "Number of Tilings: 88\n"
          ],
          "name": "stdout"
        }
      ]
    },
    {
      "cell_type": "markdown",
      "metadata": {
        "id": "rzXrhNIHKiTV"
      },
      "source": [
        "# Number of tilings for the 'sunclasses'\n",
        "\n",
        "A more complex shape in the [video](https://www.youtube.com/watch?v=Yy7Q8IWNfHM&t=860s).\n"
      ]
    },
    {
      "cell_type": "code",
      "metadata": {
        "colab": {
          "base_uri": "https://localhost:8080/",
          "height": 203
        },
        "id": "u-7RUFUA-GP-",
        "outputId": "dc5f9dad-6cbd-4b38-963d-45d50261720b"
      },
      "source": [
        "M = [[1, 1, 1, 0, 0, 1, 1, 1, 0, 0, 1, 1, 1, 0, 0, 1, 1, 1],\n",
        "     [1, 1, 1, 1, 1, 1, 0, 1, 1, 1, 1, 0, 1, 1, 1, 1, 1, 1],\n",
        "     [0, 0, 0, 1, 1, 1, 0, 1, 1, 1, 1, 0, 1, 1, 1, 0, 0, 0],\n",
        "     [0, 0, 0, 0, 0, 1, 1, 1, 0, 0, 1, 1, 1, 0, 0, 0, 0, 0]]\n",
        "\n",
        "\n",
        "display(showMatrix(M))\n",
        "M = np.array(M)[::-1,:]\n",
        "print(f'\\nNumber of Tilings: {numberOfTilings(M)}')"
      ],
      "execution_count": null,
      "outputs": [
        {
          "output_type": "display_data",
          "data": {
            "text/html": [
              "<style  type=\"text/css\" >\n",
              "#T_16d9f71c_4844_11eb_aa0b_0242ac1c0002row0_col0,#T_16d9f71c_4844_11eb_aa0b_0242ac1c0002row0_col2,#T_16d9f71c_4844_11eb_aa0b_0242ac1c0002row0_col6,#T_16d9f71c_4844_11eb_aa0b_0242ac1c0002row0_col10,#T_16d9f71c_4844_11eb_aa0b_0242ac1c0002row0_col12,#T_16d9f71c_4844_11eb_aa0b_0242ac1c0002row0_col16,#T_16d9f71c_4844_11eb_aa0b_0242ac1c0002row1_col1,#T_16d9f71c_4844_11eb_aa0b_0242ac1c0002row1_col3,#T_16d9f71c_4844_11eb_aa0b_0242ac1c0002row1_col5,#T_16d9f71c_4844_11eb_aa0b_0242ac1c0002row1_col7,#T_16d9f71c_4844_11eb_aa0b_0242ac1c0002row1_col9,#T_16d9f71c_4844_11eb_aa0b_0242ac1c0002row1_col13,#T_16d9f71c_4844_11eb_aa0b_0242ac1c0002row1_col15,#T_16d9f71c_4844_11eb_aa0b_0242ac1c0002row1_col17,#T_16d9f71c_4844_11eb_aa0b_0242ac1c0002row2_col4,#T_16d9f71c_4844_11eb_aa0b_0242ac1c0002row2_col8,#T_16d9f71c_4844_11eb_aa0b_0242ac1c0002row2_col10,#T_16d9f71c_4844_11eb_aa0b_0242ac1c0002row2_col12,#T_16d9f71c_4844_11eb_aa0b_0242ac1c0002row2_col14,#T_16d9f71c_4844_11eb_aa0b_0242ac1c0002row3_col5,#T_16d9f71c_4844_11eb_aa0b_0242ac1c0002row3_col7,#T_16d9f71c_4844_11eb_aa0b_0242ac1c0002row3_col11{\n",
              "            color:  white;\n",
              "             background-color:  black;\n",
              "            width:  2em;\n",
              "            height:  2em;\n",
              "            text-align:  center;\n",
              "        }#T_16d9f71c_4844_11eb_aa0b_0242ac1c0002row0_col1,#T_16d9f71c_4844_11eb_aa0b_0242ac1c0002row0_col5,#T_16d9f71c_4844_11eb_aa0b_0242ac1c0002row0_col7,#T_16d9f71c_4844_11eb_aa0b_0242ac1c0002row0_col11,#T_16d9f71c_4844_11eb_aa0b_0242ac1c0002row0_col15,#T_16d9f71c_4844_11eb_aa0b_0242ac1c0002row0_col17,#T_16d9f71c_4844_11eb_aa0b_0242ac1c0002row1_col0,#T_16d9f71c_4844_11eb_aa0b_0242ac1c0002row1_col2,#T_16d9f71c_4844_11eb_aa0b_0242ac1c0002row1_col4,#T_16d9f71c_4844_11eb_aa0b_0242ac1c0002row1_col8,#T_16d9f71c_4844_11eb_aa0b_0242ac1c0002row1_col10,#T_16d9f71c_4844_11eb_aa0b_0242ac1c0002row1_col12,#T_16d9f71c_4844_11eb_aa0b_0242ac1c0002row1_col14,#T_16d9f71c_4844_11eb_aa0b_0242ac1c0002row1_col16,#T_16d9f71c_4844_11eb_aa0b_0242ac1c0002row2_col3,#T_16d9f71c_4844_11eb_aa0b_0242ac1c0002row2_col5,#T_16d9f71c_4844_11eb_aa0b_0242ac1c0002row2_col7,#T_16d9f71c_4844_11eb_aa0b_0242ac1c0002row2_col9,#T_16d9f71c_4844_11eb_aa0b_0242ac1c0002row2_col13,#T_16d9f71c_4844_11eb_aa0b_0242ac1c0002row3_col6,#T_16d9f71c_4844_11eb_aa0b_0242ac1c0002row3_col10,#T_16d9f71c_4844_11eb_aa0b_0242ac1c0002row3_col12{\n",
              "            color:  white;\n",
              "             background-color:  green;\n",
              "            width:  2em;\n",
              "            height:  2em;\n",
              "            text-align:  center;\n",
              "        }#T_16d9f71c_4844_11eb_aa0b_0242ac1c0002row0_col3,#T_16d9f71c_4844_11eb_aa0b_0242ac1c0002row0_col4,#T_16d9f71c_4844_11eb_aa0b_0242ac1c0002row0_col8,#T_16d9f71c_4844_11eb_aa0b_0242ac1c0002row0_col9,#T_16d9f71c_4844_11eb_aa0b_0242ac1c0002row0_col13,#T_16d9f71c_4844_11eb_aa0b_0242ac1c0002row0_col14,#T_16d9f71c_4844_11eb_aa0b_0242ac1c0002row1_col6,#T_16d9f71c_4844_11eb_aa0b_0242ac1c0002row1_col11,#T_16d9f71c_4844_11eb_aa0b_0242ac1c0002row2_col0,#T_16d9f71c_4844_11eb_aa0b_0242ac1c0002row2_col1,#T_16d9f71c_4844_11eb_aa0b_0242ac1c0002row2_col2,#T_16d9f71c_4844_11eb_aa0b_0242ac1c0002row2_col6,#T_16d9f71c_4844_11eb_aa0b_0242ac1c0002row2_col11,#T_16d9f71c_4844_11eb_aa0b_0242ac1c0002row2_col15,#T_16d9f71c_4844_11eb_aa0b_0242ac1c0002row2_col16,#T_16d9f71c_4844_11eb_aa0b_0242ac1c0002row2_col17,#T_16d9f71c_4844_11eb_aa0b_0242ac1c0002row3_col0,#T_16d9f71c_4844_11eb_aa0b_0242ac1c0002row3_col1,#T_16d9f71c_4844_11eb_aa0b_0242ac1c0002row3_col2,#T_16d9f71c_4844_11eb_aa0b_0242ac1c0002row3_col3,#T_16d9f71c_4844_11eb_aa0b_0242ac1c0002row3_col4,#T_16d9f71c_4844_11eb_aa0b_0242ac1c0002row3_col8,#T_16d9f71c_4844_11eb_aa0b_0242ac1c0002row3_col9,#T_16d9f71c_4844_11eb_aa0b_0242ac1c0002row3_col13,#T_16d9f71c_4844_11eb_aa0b_0242ac1c0002row3_col14,#T_16d9f71c_4844_11eb_aa0b_0242ac1c0002row3_col15,#T_16d9f71c_4844_11eb_aa0b_0242ac1c0002row3_col16,#T_16d9f71c_4844_11eb_aa0b_0242ac1c0002row3_col17{\n",
              "            color:  lightgrey;\n",
              "            width:  2em;\n",
              "            height:  2em;\n",
              "            text-align:  center;\n",
              "        }</style><table id=\"T_16d9f71c_4844_11eb_aa0b_0242ac1c0002\" ><thead>    <tr>        <th class=\"blank level0\" ></th>        <th class=\"col_heading level0 col0\" >0</th>        <th class=\"col_heading level0 col1\" >1</th>        <th class=\"col_heading level0 col2\" >2</th>        <th class=\"col_heading level0 col3\" >3</th>        <th class=\"col_heading level0 col4\" >4</th>        <th class=\"col_heading level0 col5\" >5</th>        <th class=\"col_heading level0 col6\" >6</th>        <th class=\"col_heading level0 col7\" >7</th>        <th class=\"col_heading level0 col8\" >8</th>        <th class=\"col_heading level0 col9\" >9</th>        <th class=\"col_heading level0 col10\" >10</th>        <th class=\"col_heading level0 col11\" >11</th>        <th class=\"col_heading level0 col12\" >12</th>        <th class=\"col_heading level0 col13\" >13</th>        <th class=\"col_heading level0 col14\" >14</th>        <th class=\"col_heading level0 col15\" >15</th>        <th class=\"col_heading level0 col16\" >16</th>        <th class=\"col_heading level0 col17\" >17</th>    </tr></thead><tbody>\n",
              "                <tr>\n",
              "                        <th id=\"T_16d9f71c_4844_11eb_aa0b_0242ac1c0002level0_row0\" class=\"row_heading level0 row0\" >0</th>\n",
              "                        <td id=\"T_16d9f71c_4844_11eb_aa0b_0242ac1c0002row0_col0\" class=\"data row0 col0\" >1</td>\n",
              "                        <td id=\"T_16d9f71c_4844_11eb_aa0b_0242ac1c0002row0_col1\" class=\"data row0 col1\" >1</td>\n",
              "                        <td id=\"T_16d9f71c_4844_11eb_aa0b_0242ac1c0002row0_col2\" class=\"data row0 col2\" >1</td>\n",
              "                        <td id=\"T_16d9f71c_4844_11eb_aa0b_0242ac1c0002row0_col3\" class=\"data row0 col3\" >0</td>\n",
              "                        <td id=\"T_16d9f71c_4844_11eb_aa0b_0242ac1c0002row0_col4\" class=\"data row0 col4\" >0</td>\n",
              "                        <td id=\"T_16d9f71c_4844_11eb_aa0b_0242ac1c0002row0_col5\" class=\"data row0 col5\" >1</td>\n",
              "                        <td id=\"T_16d9f71c_4844_11eb_aa0b_0242ac1c0002row0_col6\" class=\"data row0 col6\" >1</td>\n",
              "                        <td id=\"T_16d9f71c_4844_11eb_aa0b_0242ac1c0002row0_col7\" class=\"data row0 col7\" >1</td>\n",
              "                        <td id=\"T_16d9f71c_4844_11eb_aa0b_0242ac1c0002row0_col8\" class=\"data row0 col8\" >0</td>\n",
              "                        <td id=\"T_16d9f71c_4844_11eb_aa0b_0242ac1c0002row0_col9\" class=\"data row0 col9\" >0</td>\n",
              "                        <td id=\"T_16d9f71c_4844_11eb_aa0b_0242ac1c0002row0_col10\" class=\"data row0 col10\" >1</td>\n",
              "                        <td id=\"T_16d9f71c_4844_11eb_aa0b_0242ac1c0002row0_col11\" class=\"data row0 col11\" >1</td>\n",
              "                        <td id=\"T_16d9f71c_4844_11eb_aa0b_0242ac1c0002row0_col12\" class=\"data row0 col12\" >1</td>\n",
              "                        <td id=\"T_16d9f71c_4844_11eb_aa0b_0242ac1c0002row0_col13\" class=\"data row0 col13\" >0</td>\n",
              "                        <td id=\"T_16d9f71c_4844_11eb_aa0b_0242ac1c0002row0_col14\" class=\"data row0 col14\" >0</td>\n",
              "                        <td id=\"T_16d9f71c_4844_11eb_aa0b_0242ac1c0002row0_col15\" class=\"data row0 col15\" >1</td>\n",
              "                        <td id=\"T_16d9f71c_4844_11eb_aa0b_0242ac1c0002row0_col16\" class=\"data row0 col16\" >1</td>\n",
              "                        <td id=\"T_16d9f71c_4844_11eb_aa0b_0242ac1c0002row0_col17\" class=\"data row0 col17\" >1</td>\n",
              "            </tr>\n",
              "            <tr>\n",
              "                        <th id=\"T_16d9f71c_4844_11eb_aa0b_0242ac1c0002level0_row1\" class=\"row_heading level0 row1\" >1</th>\n",
              "                        <td id=\"T_16d9f71c_4844_11eb_aa0b_0242ac1c0002row1_col0\" class=\"data row1 col0\" >1</td>\n",
              "                        <td id=\"T_16d9f71c_4844_11eb_aa0b_0242ac1c0002row1_col1\" class=\"data row1 col1\" >1</td>\n",
              "                        <td id=\"T_16d9f71c_4844_11eb_aa0b_0242ac1c0002row1_col2\" class=\"data row1 col2\" >1</td>\n",
              "                        <td id=\"T_16d9f71c_4844_11eb_aa0b_0242ac1c0002row1_col3\" class=\"data row1 col3\" >1</td>\n",
              "                        <td id=\"T_16d9f71c_4844_11eb_aa0b_0242ac1c0002row1_col4\" class=\"data row1 col4\" >1</td>\n",
              "                        <td id=\"T_16d9f71c_4844_11eb_aa0b_0242ac1c0002row1_col5\" class=\"data row1 col5\" >1</td>\n",
              "                        <td id=\"T_16d9f71c_4844_11eb_aa0b_0242ac1c0002row1_col6\" class=\"data row1 col6\" >0</td>\n",
              "                        <td id=\"T_16d9f71c_4844_11eb_aa0b_0242ac1c0002row1_col7\" class=\"data row1 col7\" >1</td>\n",
              "                        <td id=\"T_16d9f71c_4844_11eb_aa0b_0242ac1c0002row1_col8\" class=\"data row1 col8\" >1</td>\n",
              "                        <td id=\"T_16d9f71c_4844_11eb_aa0b_0242ac1c0002row1_col9\" class=\"data row1 col9\" >1</td>\n",
              "                        <td id=\"T_16d9f71c_4844_11eb_aa0b_0242ac1c0002row1_col10\" class=\"data row1 col10\" >1</td>\n",
              "                        <td id=\"T_16d9f71c_4844_11eb_aa0b_0242ac1c0002row1_col11\" class=\"data row1 col11\" >0</td>\n",
              "                        <td id=\"T_16d9f71c_4844_11eb_aa0b_0242ac1c0002row1_col12\" class=\"data row1 col12\" >1</td>\n",
              "                        <td id=\"T_16d9f71c_4844_11eb_aa0b_0242ac1c0002row1_col13\" class=\"data row1 col13\" >1</td>\n",
              "                        <td id=\"T_16d9f71c_4844_11eb_aa0b_0242ac1c0002row1_col14\" class=\"data row1 col14\" >1</td>\n",
              "                        <td id=\"T_16d9f71c_4844_11eb_aa0b_0242ac1c0002row1_col15\" class=\"data row1 col15\" >1</td>\n",
              "                        <td id=\"T_16d9f71c_4844_11eb_aa0b_0242ac1c0002row1_col16\" class=\"data row1 col16\" >1</td>\n",
              "                        <td id=\"T_16d9f71c_4844_11eb_aa0b_0242ac1c0002row1_col17\" class=\"data row1 col17\" >1</td>\n",
              "            </tr>\n",
              "            <tr>\n",
              "                        <th id=\"T_16d9f71c_4844_11eb_aa0b_0242ac1c0002level0_row2\" class=\"row_heading level0 row2\" >2</th>\n",
              "                        <td id=\"T_16d9f71c_4844_11eb_aa0b_0242ac1c0002row2_col0\" class=\"data row2 col0\" >0</td>\n",
              "                        <td id=\"T_16d9f71c_4844_11eb_aa0b_0242ac1c0002row2_col1\" class=\"data row2 col1\" >0</td>\n",
              "                        <td id=\"T_16d9f71c_4844_11eb_aa0b_0242ac1c0002row2_col2\" class=\"data row2 col2\" >0</td>\n",
              "                        <td id=\"T_16d9f71c_4844_11eb_aa0b_0242ac1c0002row2_col3\" class=\"data row2 col3\" >1</td>\n",
              "                        <td id=\"T_16d9f71c_4844_11eb_aa0b_0242ac1c0002row2_col4\" class=\"data row2 col4\" >1</td>\n",
              "                        <td id=\"T_16d9f71c_4844_11eb_aa0b_0242ac1c0002row2_col5\" class=\"data row2 col5\" >1</td>\n",
              "                        <td id=\"T_16d9f71c_4844_11eb_aa0b_0242ac1c0002row2_col6\" class=\"data row2 col6\" >0</td>\n",
              "                        <td id=\"T_16d9f71c_4844_11eb_aa0b_0242ac1c0002row2_col7\" class=\"data row2 col7\" >1</td>\n",
              "                        <td id=\"T_16d9f71c_4844_11eb_aa0b_0242ac1c0002row2_col8\" class=\"data row2 col8\" >1</td>\n",
              "                        <td id=\"T_16d9f71c_4844_11eb_aa0b_0242ac1c0002row2_col9\" class=\"data row2 col9\" >1</td>\n",
              "                        <td id=\"T_16d9f71c_4844_11eb_aa0b_0242ac1c0002row2_col10\" class=\"data row2 col10\" >1</td>\n",
              "                        <td id=\"T_16d9f71c_4844_11eb_aa0b_0242ac1c0002row2_col11\" class=\"data row2 col11\" >0</td>\n",
              "                        <td id=\"T_16d9f71c_4844_11eb_aa0b_0242ac1c0002row2_col12\" class=\"data row2 col12\" >1</td>\n",
              "                        <td id=\"T_16d9f71c_4844_11eb_aa0b_0242ac1c0002row2_col13\" class=\"data row2 col13\" >1</td>\n",
              "                        <td id=\"T_16d9f71c_4844_11eb_aa0b_0242ac1c0002row2_col14\" class=\"data row2 col14\" >1</td>\n",
              "                        <td id=\"T_16d9f71c_4844_11eb_aa0b_0242ac1c0002row2_col15\" class=\"data row2 col15\" >0</td>\n",
              "                        <td id=\"T_16d9f71c_4844_11eb_aa0b_0242ac1c0002row2_col16\" class=\"data row2 col16\" >0</td>\n",
              "                        <td id=\"T_16d9f71c_4844_11eb_aa0b_0242ac1c0002row2_col17\" class=\"data row2 col17\" >0</td>\n",
              "            </tr>\n",
              "            <tr>\n",
              "                        <th id=\"T_16d9f71c_4844_11eb_aa0b_0242ac1c0002level0_row3\" class=\"row_heading level0 row3\" >3</th>\n",
              "                        <td id=\"T_16d9f71c_4844_11eb_aa0b_0242ac1c0002row3_col0\" class=\"data row3 col0\" >0</td>\n",
              "                        <td id=\"T_16d9f71c_4844_11eb_aa0b_0242ac1c0002row3_col1\" class=\"data row3 col1\" >0</td>\n",
              "                        <td id=\"T_16d9f71c_4844_11eb_aa0b_0242ac1c0002row3_col2\" class=\"data row3 col2\" >0</td>\n",
              "                        <td id=\"T_16d9f71c_4844_11eb_aa0b_0242ac1c0002row3_col3\" class=\"data row3 col3\" >0</td>\n",
              "                        <td id=\"T_16d9f71c_4844_11eb_aa0b_0242ac1c0002row3_col4\" class=\"data row3 col4\" >0</td>\n",
              "                        <td id=\"T_16d9f71c_4844_11eb_aa0b_0242ac1c0002row3_col5\" class=\"data row3 col5\" >1</td>\n",
              "                        <td id=\"T_16d9f71c_4844_11eb_aa0b_0242ac1c0002row3_col6\" class=\"data row3 col6\" >1</td>\n",
              "                        <td id=\"T_16d9f71c_4844_11eb_aa0b_0242ac1c0002row3_col7\" class=\"data row3 col7\" >1</td>\n",
              "                        <td id=\"T_16d9f71c_4844_11eb_aa0b_0242ac1c0002row3_col8\" class=\"data row3 col8\" >0</td>\n",
              "                        <td id=\"T_16d9f71c_4844_11eb_aa0b_0242ac1c0002row3_col9\" class=\"data row3 col9\" >0</td>\n",
              "                        <td id=\"T_16d9f71c_4844_11eb_aa0b_0242ac1c0002row3_col10\" class=\"data row3 col10\" >1</td>\n",
              "                        <td id=\"T_16d9f71c_4844_11eb_aa0b_0242ac1c0002row3_col11\" class=\"data row3 col11\" >1</td>\n",
              "                        <td id=\"T_16d9f71c_4844_11eb_aa0b_0242ac1c0002row3_col12\" class=\"data row3 col12\" >1</td>\n",
              "                        <td id=\"T_16d9f71c_4844_11eb_aa0b_0242ac1c0002row3_col13\" class=\"data row3 col13\" >0</td>\n",
              "                        <td id=\"T_16d9f71c_4844_11eb_aa0b_0242ac1c0002row3_col14\" class=\"data row3 col14\" >0</td>\n",
              "                        <td id=\"T_16d9f71c_4844_11eb_aa0b_0242ac1c0002row3_col15\" class=\"data row3 col15\" >0</td>\n",
              "                        <td id=\"T_16d9f71c_4844_11eb_aa0b_0242ac1c0002row3_col16\" class=\"data row3 col16\" >0</td>\n",
              "                        <td id=\"T_16d9f71c_4844_11eb_aa0b_0242ac1c0002row3_col17\" class=\"data row3 col17\" >0</td>\n",
              "            </tr>\n",
              "    </tbody></table>"
            ],
            "text/plain": [
              "<pandas.io.formats.style.Styler at 0x7ffad701ef98>"
            ]
          },
          "metadata": {
            "tags": []
          }
        },
        {
          "output_type": "stream",
          "text": [
            "\n",
            "Number of Tilings: 666\n"
          ],
          "name": "stdout"
        }
      ]
    },
    {
      "cell_type": "markdown",
      "metadata": {
        "id": "gdnZ-C4FSnxh"
      },
      "source": [
        "## Space Invader shape"
      ]
    },
    {
      "cell_type": "code",
      "metadata": {
        "colab": {
          "base_uri": "https://localhost:8080/",
          "height": 299
        },
        "id": "-xMk0PmzfEF9",
        "outputId": "b2650382-af27-47c2-e826-be4cdf6dc5ed"
      },
      "source": [
        "M = [[0, 0, 0, 1, 1, 1, 1, 1, 1, 0, 0, 0],\n",
        "     [0, 1, 1, 1, 1, 1, 1, 1, 1, 1, 1, 0],\n",
        "     [1, 1, 1, 0, 0, 1, 1, 0, 0, 1, 1, 1],\n",
        "     [1, 1, 1, 1, 1, 1, 1, 1, 1, 1, 1, 1],\n",
        "     [0, 0, 1, 1, 1, 1, 1, 1, 1, 1, 0, 0],\n",
        "     [0, 1, 1, 0, 0, 1, 1, 0, 0, 1, 1, 0],\n",
        "     [0, 0, 1, 1, 0, 0, 0, 0, 1, 1, 0, 0],\n",
        "     ]\n",
        "\n",
        "display(showMatrix(M))\n",
        "M = np.array(M)[::-1,:]\n",
        "print(f'\\nNumber of Tilings: {numberOfTilings(M)}')"
      ],
      "execution_count": null,
      "outputs": [
        {
          "output_type": "display_data",
          "data": {
            "text/html": [
              "<style  type=\"text/css\" >\n",
              "#T_16ee8740_4844_11eb_aa0b_0242ac1c0002row0_col0,#T_16ee8740_4844_11eb_aa0b_0242ac1c0002row0_col1,#T_16ee8740_4844_11eb_aa0b_0242ac1c0002row0_col2,#T_16ee8740_4844_11eb_aa0b_0242ac1c0002row0_col9,#T_16ee8740_4844_11eb_aa0b_0242ac1c0002row0_col10,#T_16ee8740_4844_11eb_aa0b_0242ac1c0002row0_col11,#T_16ee8740_4844_11eb_aa0b_0242ac1c0002row1_col0,#T_16ee8740_4844_11eb_aa0b_0242ac1c0002row1_col11,#T_16ee8740_4844_11eb_aa0b_0242ac1c0002row2_col3,#T_16ee8740_4844_11eb_aa0b_0242ac1c0002row2_col4,#T_16ee8740_4844_11eb_aa0b_0242ac1c0002row2_col7,#T_16ee8740_4844_11eb_aa0b_0242ac1c0002row2_col8,#T_16ee8740_4844_11eb_aa0b_0242ac1c0002row4_col0,#T_16ee8740_4844_11eb_aa0b_0242ac1c0002row4_col1,#T_16ee8740_4844_11eb_aa0b_0242ac1c0002row4_col10,#T_16ee8740_4844_11eb_aa0b_0242ac1c0002row4_col11,#T_16ee8740_4844_11eb_aa0b_0242ac1c0002row5_col0,#T_16ee8740_4844_11eb_aa0b_0242ac1c0002row5_col3,#T_16ee8740_4844_11eb_aa0b_0242ac1c0002row5_col4,#T_16ee8740_4844_11eb_aa0b_0242ac1c0002row5_col7,#T_16ee8740_4844_11eb_aa0b_0242ac1c0002row5_col8,#T_16ee8740_4844_11eb_aa0b_0242ac1c0002row5_col11,#T_16ee8740_4844_11eb_aa0b_0242ac1c0002row6_col0,#T_16ee8740_4844_11eb_aa0b_0242ac1c0002row6_col1,#T_16ee8740_4844_11eb_aa0b_0242ac1c0002row6_col4,#T_16ee8740_4844_11eb_aa0b_0242ac1c0002row6_col5,#T_16ee8740_4844_11eb_aa0b_0242ac1c0002row6_col6,#T_16ee8740_4844_11eb_aa0b_0242ac1c0002row6_col7,#T_16ee8740_4844_11eb_aa0b_0242ac1c0002row6_col10,#T_16ee8740_4844_11eb_aa0b_0242ac1c0002row6_col11{\n",
              "            color:  lightgrey;\n",
              "            width:  2em;\n",
              "            height:  2em;\n",
              "            text-align:  center;\n",
              "        }#T_16ee8740_4844_11eb_aa0b_0242ac1c0002row0_col3,#T_16ee8740_4844_11eb_aa0b_0242ac1c0002row0_col5,#T_16ee8740_4844_11eb_aa0b_0242ac1c0002row0_col7,#T_16ee8740_4844_11eb_aa0b_0242ac1c0002row1_col2,#T_16ee8740_4844_11eb_aa0b_0242ac1c0002row1_col4,#T_16ee8740_4844_11eb_aa0b_0242ac1c0002row1_col6,#T_16ee8740_4844_11eb_aa0b_0242ac1c0002row1_col8,#T_16ee8740_4844_11eb_aa0b_0242ac1c0002row1_col10,#T_16ee8740_4844_11eb_aa0b_0242ac1c0002row2_col1,#T_16ee8740_4844_11eb_aa0b_0242ac1c0002row2_col5,#T_16ee8740_4844_11eb_aa0b_0242ac1c0002row2_col9,#T_16ee8740_4844_11eb_aa0b_0242ac1c0002row2_col11,#T_16ee8740_4844_11eb_aa0b_0242ac1c0002row3_col0,#T_16ee8740_4844_11eb_aa0b_0242ac1c0002row3_col2,#T_16ee8740_4844_11eb_aa0b_0242ac1c0002row3_col4,#T_16ee8740_4844_11eb_aa0b_0242ac1c0002row3_col6,#T_16ee8740_4844_11eb_aa0b_0242ac1c0002row3_col8,#T_16ee8740_4844_11eb_aa0b_0242ac1c0002row3_col10,#T_16ee8740_4844_11eb_aa0b_0242ac1c0002row4_col3,#T_16ee8740_4844_11eb_aa0b_0242ac1c0002row4_col5,#T_16ee8740_4844_11eb_aa0b_0242ac1c0002row4_col7,#T_16ee8740_4844_11eb_aa0b_0242ac1c0002row4_col9,#T_16ee8740_4844_11eb_aa0b_0242ac1c0002row5_col2,#T_16ee8740_4844_11eb_aa0b_0242ac1c0002row5_col6,#T_16ee8740_4844_11eb_aa0b_0242ac1c0002row5_col10,#T_16ee8740_4844_11eb_aa0b_0242ac1c0002row6_col3,#T_16ee8740_4844_11eb_aa0b_0242ac1c0002row6_col9{\n",
              "            color:  white;\n",
              "             background-color:  green;\n",
              "            width:  2em;\n",
              "            height:  2em;\n",
              "            text-align:  center;\n",
              "        }#T_16ee8740_4844_11eb_aa0b_0242ac1c0002row0_col4,#T_16ee8740_4844_11eb_aa0b_0242ac1c0002row0_col6,#T_16ee8740_4844_11eb_aa0b_0242ac1c0002row0_col8,#T_16ee8740_4844_11eb_aa0b_0242ac1c0002row1_col1,#T_16ee8740_4844_11eb_aa0b_0242ac1c0002row1_col3,#T_16ee8740_4844_11eb_aa0b_0242ac1c0002row1_col5,#T_16ee8740_4844_11eb_aa0b_0242ac1c0002row1_col7,#T_16ee8740_4844_11eb_aa0b_0242ac1c0002row1_col9,#T_16ee8740_4844_11eb_aa0b_0242ac1c0002row2_col0,#T_16ee8740_4844_11eb_aa0b_0242ac1c0002row2_col2,#T_16ee8740_4844_11eb_aa0b_0242ac1c0002row2_col6,#T_16ee8740_4844_11eb_aa0b_0242ac1c0002row2_col10,#T_16ee8740_4844_11eb_aa0b_0242ac1c0002row3_col1,#T_16ee8740_4844_11eb_aa0b_0242ac1c0002row3_col3,#T_16ee8740_4844_11eb_aa0b_0242ac1c0002row3_col5,#T_16ee8740_4844_11eb_aa0b_0242ac1c0002row3_col7,#T_16ee8740_4844_11eb_aa0b_0242ac1c0002row3_col9,#T_16ee8740_4844_11eb_aa0b_0242ac1c0002row3_col11,#T_16ee8740_4844_11eb_aa0b_0242ac1c0002row4_col2,#T_16ee8740_4844_11eb_aa0b_0242ac1c0002row4_col4,#T_16ee8740_4844_11eb_aa0b_0242ac1c0002row4_col6,#T_16ee8740_4844_11eb_aa0b_0242ac1c0002row4_col8,#T_16ee8740_4844_11eb_aa0b_0242ac1c0002row5_col1,#T_16ee8740_4844_11eb_aa0b_0242ac1c0002row5_col5,#T_16ee8740_4844_11eb_aa0b_0242ac1c0002row5_col9,#T_16ee8740_4844_11eb_aa0b_0242ac1c0002row6_col2,#T_16ee8740_4844_11eb_aa0b_0242ac1c0002row6_col8{\n",
              "            color:  white;\n",
              "             background-color:  black;\n",
              "            width:  2em;\n",
              "            height:  2em;\n",
              "            text-align:  center;\n",
              "        }</style><table id=\"T_16ee8740_4844_11eb_aa0b_0242ac1c0002\" ><thead>    <tr>        <th class=\"blank level0\" ></th>        <th class=\"col_heading level0 col0\" >0</th>        <th class=\"col_heading level0 col1\" >1</th>        <th class=\"col_heading level0 col2\" >2</th>        <th class=\"col_heading level0 col3\" >3</th>        <th class=\"col_heading level0 col4\" >4</th>        <th class=\"col_heading level0 col5\" >5</th>        <th class=\"col_heading level0 col6\" >6</th>        <th class=\"col_heading level0 col7\" >7</th>        <th class=\"col_heading level0 col8\" >8</th>        <th class=\"col_heading level0 col9\" >9</th>        <th class=\"col_heading level0 col10\" >10</th>        <th class=\"col_heading level0 col11\" >11</th>    </tr></thead><tbody>\n",
              "                <tr>\n",
              "                        <th id=\"T_16ee8740_4844_11eb_aa0b_0242ac1c0002level0_row0\" class=\"row_heading level0 row0\" >0</th>\n",
              "                        <td id=\"T_16ee8740_4844_11eb_aa0b_0242ac1c0002row0_col0\" class=\"data row0 col0\" >0</td>\n",
              "                        <td id=\"T_16ee8740_4844_11eb_aa0b_0242ac1c0002row0_col1\" class=\"data row0 col1\" >0</td>\n",
              "                        <td id=\"T_16ee8740_4844_11eb_aa0b_0242ac1c0002row0_col2\" class=\"data row0 col2\" >0</td>\n",
              "                        <td id=\"T_16ee8740_4844_11eb_aa0b_0242ac1c0002row0_col3\" class=\"data row0 col3\" >1</td>\n",
              "                        <td id=\"T_16ee8740_4844_11eb_aa0b_0242ac1c0002row0_col4\" class=\"data row0 col4\" >1</td>\n",
              "                        <td id=\"T_16ee8740_4844_11eb_aa0b_0242ac1c0002row0_col5\" class=\"data row0 col5\" >1</td>\n",
              "                        <td id=\"T_16ee8740_4844_11eb_aa0b_0242ac1c0002row0_col6\" class=\"data row0 col6\" >1</td>\n",
              "                        <td id=\"T_16ee8740_4844_11eb_aa0b_0242ac1c0002row0_col7\" class=\"data row0 col7\" >1</td>\n",
              "                        <td id=\"T_16ee8740_4844_11eb_aa0b_0242ac1c0002row0_col8\" class=\"data row0 col8\" >1</td>\n",
              "                        <td id=\"T_16ee8740_4844_11eb_aa0b_0242ac1c0002row0_col9\" class=\"data row0 col9\" >0</td>\n",
              "                        <td id=\"T_16ee8740_4844_11eb_aa0b_0242ac1c0002row0_col10\" class=\"data row0 col10\" >0</td>\n",
              "                        <td id=\"T_16ee8740_4844_11eb_aa0b_0242ac1c0002row0_col11\" class=\"data row0 col11\" >0</td>\n",
              "            </tr>\n",
              "            <tr>\n",
              "                        <th id=\"T_16ee8740_4844_11eb_aa0b_0242ac1c0002level0_row1\" class=\"row_heading level0 row1\" >1</th>\n",
              "                        <td id=\"T_16ee8740_4844_11eb_aa0b_0242ac1c0002row1_col0\" class=\"data row1 col0\" >0</td>\n",
              "                        <td id=\"T_16ee8740_4844_11eb_aa0b_0242ac1c0002row1_col1\" class=\"data row1 col1\" >1</td>\n",
              "                        <td id=\"T_16ee8740_4844_11eb_aa0b_0242ac1c0002row1_col2\" class=\"data row1 col2\" >1</td>\n",
              "                        <td id=\"T_16ee8740_4844_11eb_aa0b_0242ac1c0002row1_col3\" class=\"data row1 col3\" >1</td>\n",
              "                        <td id=\"T_16ee8740_4844_11eb_aa0b_0242ac1c0002row1_col4\" class=\"data row1 col4\" >1</td>\n",
              "                        <td id=\"T_16ee8740_4844_11eb_aa0b_0242ac1c0002row1_col5\" class=\"data row1 col5\" >1</td>\n",
              "                        <td id=\"T_16ee8740_4844_11eb_aa0b_0242ac1c0002row1_col6\" class=\"data row1 col6\" >1</td>\n",
              "                        <td id=\"T_16ee8740_4844_11eb_aa0b_0242ac1c0002row1_col7\" class=\"data row1 col7\" >1</td>\n",
              "                        <td id=\"T_16ee8740_4844_11eb_aa0b_0242ac1c0002row1_col8\" class=\"data row1 col8\" >1</td>\n",
              "                        <td id=\"T_16ee8740_4844_11eb_aa0b_0242ac1c0002row1_col9\" class=\"data row1 col9\" >1</td>\n",
              "                        <td id=\"T_16ee8740_4844_11eb_aa0b_0242ac1c0002row1_col10\" class=\"data row1 col10\" >1</td>\n",
              "                        <td id=\"T_16ee8740_4844_11eb_aa0b_0242ac1c0002row1_col11\" class=\"data row1 col11\" >0</td>\n",
              "            </tr>\n",
              "            <tr>\n",
              "                        <th id=\"T_16ee8740_4844_11eb_aa0b_0242ac1c0002level0_row2\" class=\"row_heading level0 row2\" >2</th>\n",
              "                        <td id=\"T_16ee8740_4844_11eb_aa0b_0242ac1c0002row2_col0\" class=\"data row2 col0\" >1</td>\n",
              "                        <td id=\"T_16ee8740_4844_11eb_aa0b_0242ac1c0002row2_col1\" class=\"data row2 col1\" >1</td>\n",
              "                        <td id=\"T_16ee8740_4844_11eb_aa0b_0242ac1c0002row2_col2\" class=\"data row2 col2\" >1</td>\n",
              "                        <td id=\"T_16ee8740_4844_11eb_aa0b_0242ac1c0002row2_col3\" class=\"data row2 col3\" >0</td>\n",
              "                        <td id=\"T_16ee8740_4844_11eb_aa0b_0242ac1c0002row2_col4\" class=\"data row2 col4\" >0</td>\n",
              "                        <td id=\"T_16ee8740_4844_11eb_aa0b_0242ac1c0002row2_col5\" class=\"data row2 col5\" >1</td>\n",
              "                        <td id=\"T_16ee8740_4844_11eb_aa0b_0242ac1c0002row2_col6\" class=\"data row2 col6\" >1</td>\n",
              "                        <td id=\"T_16ee8740_4844_11eb_aa0b_0242ac1c0002row2_col7\" class=\"data row2 col7\" >0</td>\n",
              "                        <td id=\"T_16ee8740_4844_11eb_aa0b_0242ac1c0002row2_col8\" class=\"data row2 col8\" >0</td>\n",
              "                        <td id=\"T_16ee8740_4844_11eb_aa0b_0242ac1c0002row2_col9\" class=\"data row2 col9\" >1</td>\n",
              "                        <td id=\"T_16ee8740_4844_11eb_aa0b_0242ac1c0002row2_col10\" class=\"data row2 col10\" >1</td>\n",
              "                        <td id=\"T_16ee8740_4844_11eb_aa0b_0242ac1c0002row2_col11\" class=\"data row2 col11\" >1</td>\n",
              "            </tr>\n",
              "            <tr>\n",
              "                        <th id=\"T_16ee8740_4844_11eb_aa0b_0242ac1c0002level0_row3\" class=\"row_heading level0 row3\" >3</th>\n",
              "                        <td id=\"T_16ee8740_4844_11eb_aa0b_0242ac1c0002row3_col0\" class=\"data row3 col0\" >1</td>\n",
              "                        <td id=\"T_16ee8740_4844_11eb_aa0b_0242ac1c0002row3_col1\" class=\"data row3 col1\" >1</td>\n",
              "                        <td id=\"T_16ee8740_4844_11eb_aa0b_0242ac1c0002row3_col2\" class=\"data row3 col2\" >1</td>\n",
              "                        <td id=\"T_16ee8740_4844_11eb_aa0b_0242ac1c0002row3_col3\" class=\"data row3 col3\" >1</td>\n",
              "                        <td id=\"T_16ee8740_4844_11eb_aa0b_0242ac1c0002row3_col4\" class=\"data row3 col4\" >1</td>\n",
              "                        <td id=\"T_16ee8740_4844_11eb_aa0b_0242ac1c0002row3_col5\" class=\"data row3 col5\" >1</td>\n",
              "                        <td id=\"T_16ee8740_4844_11eb_aa0b_0242ac1c0002row3_col6\" class=\"data row3 col6\" >1</td>\n",
              "                        <td id=\"T_16ee8740_4844_11eb_aa0b_0242ac1c0002row3_col7\" class=\"data row3 col7\" >1</td>\n",
              "                        <td id=\"T_16ee8740_4844_11eb_aa0b_0242ac1c0002row3_col8\" class=\"data row3 col8\" >1</td>\n",
              "                        <td id=\"T_16ee8740_4844_11eb_aa0b_0242ac1c0002row3_col9\" class=\"data row3 col9\" >1</td>\n",
              "                        <td id=\"T_16ee8740_4844_11eb_aa0b_0242ac1c0002row3_col10\" class=\"data row3 col10\" >1</td>\n",
              "                        <td id=\"T_16ee8740_4844_11eb_aa0b_0242ac1c0002row3_col11\" class=\"data row3 col11\" >1</td>\n",
              "            </tr>\n",
              "            <tr>\n",
              "                        <th id=\"T_16ee8740_4844_11eb_aa0b_0242ac1c0002level0_row4\" class=\"row_heading level0 row4\" >4</th>\n",
              "                        <td id=\"T_16ee8740_4844_11eb_aa0b_0242ac1c0002row4_col0\" class=\"data row4 col0\" >0</td>\n",
              "                        <td id=\"T_16ee8740_4844_11eb_aa0b_0242ac1c0002row4_col1\" class=\"data row4 col1\" >0</td>\n",
              "                        <td id=\"T_16ee8740_4844_11eb_aa0b_0242ac1c0002row4_col2\" class=\"data row4 col2\" >1</td>\n",
              "                        <td id=\"T_16ee8740_4844_11eb_aa0b_0242ac1c0002row4_col3\" class=\"data row4 col3\" >1</td>\n",
              "                        <td id=\"T_16ee8740_4844_11eb_aa0b_0242ac1c0002row4_col4\" class=\"data row4 col4\" >1</td>\n",
              "                        <td id=\"T_16ee8740_4844_11eb_aa0b_0242ac1c0002row4_col5\" class=\"data row4 col5\" >1</td>\n",
              "                        <td id=\"T_16ee8740_4844_11eb_aa0b_0242ac1c0002row4_col6\" class=\"data row4 col6\" >1</td>\n",
              "                        <td id=\"T_16ee8740_4844_11eb_aa0b_0242ac1c0002row4_col7\" class=\"data row4 col7\" >1</td>\n",
              "                        <td id=\"T_16ee8740_4844_11eb_aa0b_0242ac1c0002row4_col8\" class=\"data row4 col8\" >1</td>\n",
              "                        <td id=\"T_16ee8740_4844_11eb_aa0b_0242ac1c0002row4_col9\" class=\"data row4 col9\" >1</td>\n",
              "                        <td id=\"T_16ee8740_4844_11eb_aa0b_0242ac1c0002row4_col10\" class=\"data row4 col10\" >0</td>\n",
              "                        <td id=\"T_16ee8740_4844_11eb_aa0b_0242ac1c0002row4_col11\" class=\"data row4 col11\" >0</td>\n",
              "            </tr>\n",
              "            <tr>\n",
              "                        <th id=\"T_16ee8740_4844_11eb_aa0b_0242ac1c0002level0_row5\" class=\"row_heading level0 row5\" >5</th>\n",
              "                        <td id=\"T_16ee8740_4844_11eb_aa0b_0242ac1c0002row5_col0\" class=\"data row5 col0\" >0</td>\n",
              "                        <td id=\"T_16ee8740_4844_11eb_aa0b_0242ac1c0002row5_col1\" class=\"data row5 col1\" >1</td>\n",
              "                        <td id=\"T_16ee8740_4844_11eb_aa0b_0242ac1c0002row5_col2\" class=\"data row5 col2\" >1</td>\n",
              "                        <td id=\"T_16ee8740_4844_11eb_aa0b_0242ac1c0002row5_col3\" class=\"data row5 col3\" >0</td>\n",
              "                        <td id=\"T_16ee8740_4844_11eb_aa0b_0242ac1c0002row5_col4\" class=\"data row5 col4\" >0</td>\n",
              "                        <td id=\"T_16ee8740_4844_11eb_aa0b_0242ac1c0002row5_col5\" class=\"data row5 col5\" >1</td>\n",
              "                        <td id=\"T_16ee8740_4844_11eb_aa0b_0242ac1c0002row5_col6\" class=\"data row5 col6\" >1</td>\n",
              "                        <td id=\"T_16ee8740_4844_11eb_aa0b_0242ac1c0002row5_col7\" class=\"data row5 col7\" >0</td>\n",
              "                        <td id=\"T_16ee8740_4844_11eb_aa0b_0242ac1c0002row5_col8\" class=\"data row5 col8\" >0</td>\n",
              "                        <td id=\"T_16ee8740_4844_11eb_aa0b_0242ac1c0002row5_col9\" class=\"data row5 col9\" >1</td>\n",
              "                        <td id=\"T_16ee8740_4844_11eb_aa0b_0242ac1c0002row5_col10\" class=\"data row5 col10\" >1</td>\n",
              "                        <td id=\"T_16ee8740_4844_11eb_aa0b_0242ac1c0002row5_col11\" class=\"data row5 col11\" >0</td>\n",
              "            </tr>\n",
              "            <tr>\n",
              "                        <th id=\"T_16ee8740_4844_11eb_aa0b_0242ac1c0002level0_row6\" class=\"row_heading level0 row6\" >6</th>\n",
              "                        <td id=\"T_16ee8740_4844_11eb_aa0b_0242ac1c0002row6_col0\" class=\"data row6 col0\" >0</td>\n",
              "                        <td id=\"T_16ee8740_4844_11eb_aa0b_0242ac1c0002row6_col1\" class=\"data row6 col1\" >0</td>\n",
              "                        <td id=\"T_16ee8740_4844_11eb_aa0b_0242ac1c0002row6_col2\" class=\"data row6 col2\" >1</td>\n",
              "                        <td id=\"T_16ee8740_4844_11eb_aa0b_0242ac1c0002row6_col3\" class=\"data row6 col3\" >1</td>\n",
              "                        <td id=\"T_16ee8740_4844_11eb_aa0b_0242ac1c0002row6_col4\" class=\"data row6 col4\" >0</td>\n",
              "                        <td id=\"T_16ee8740_4844_11eb_aa0b_0242ac1c0002row6_col5\" class=\"data row6 col5\" >0</td>\n",
              "                        <td id=\"T_16ee8740_4844_11eb_aa0b_0242ac1c0002row6_col6\" class=\"data row6 col6\" >0</td>\n",
              "                        <td id=\"T_16ee8740_4844_11eb_aa0b_0242ac1c0002row6_col7\" class=\"data row6 col7\" >0</td>\n",
              "                        <td id=\"T_16ee8740_4844_11eb_aa0b_0242ac1c0002row6_col8\" class=\"data row6 col8\" >1</td>\n",
              "                        <td id=\"T_16ee8740_4844_11eb_aa0b_0242ac1c0002row6_col9\" class=\"data row6 col9\" >1</td>\n",
              "                        <td id=\"T_16ee8740_4844_11eb_aa0b_0242ac1c0002row6_col10\" class=\"data row6 col10\" >0</td>\n",
              "                        <td id=\"T_16ee8740_4844_11eb_aa0b_0242ac1c0002row6_col11\" class=\"data row6 col11\" >0</td>\n",
              "            </tr>\n",
              "    </tbody></table>"
            ],
            "text/plain": [
              "<pandas.io.formats.style.Styler at 0x7ffad701e4e0>"
            ]
          },
          "metadata": {
            "tags": []
          }
        },
        {
          "output_type": "stream",
          "text": [
            "\n",
            "Number of Tilings: 480\n"
          ],
          "name": "stdout"
        }
      ]
    },
    {
      "cell_type": "markdown",
      "metadata": {
        "id": "7X58jxvpUVFf"
      },
      "source": [
        "# Grids of shape ($2\\times n$)"
      ]
    },
    {
      "cell_type": "code",
      "metadata": {
        "colab": {
          "base_uri": "https://localhost:8080/"
        },
        "id": "Xo9zqArIUc35",
        "outputId": "55a30f05-511b-4736-f2ec-20bf1393f409"
      },
      "source": [
        "for n in range(2,13):\n",
        "  print(f'n={n}: {numberOfTilings(np.ones((2,n)))} tilings')"
      ],
      "execution_count": 43,
      "outputs": [
        {
          "output_type": "stream",
          "text": [
            "n=2: 2 tilings\n",
            "n=3: 3 tilings\n",
            "n=4: 5 tilings\n",
            "n=5: 8 tilings\n",
            "n=6: 13 tilings\n",
            "n=7: 21 tilings\n",
            "n=8: 34 tilings\n",
            "n=9: 55 tilings\n",
            "n=10: 89 tilings\n",
            "n=11: 144 tilings\n",
            "n=12: 233 tilings\n"
          ],
          "name": "stdout"
        }
      ]
    },
    {
      "cell_type": "markdown",
      "metadata": {
        "id": "bRkS9QEhKmg7"
      },
      "source": [
        "# Number of tilings for an Aztec Diamond\n",
        "\n",
        "Function definition for generating Aztec Diamonds as in the video at [26:00](https://www.youtube.com/watch?v=Yy7Q8IWNfHM&t=1560s).\n",
        "\n",
        "This code block also demonstrates that the number of tiling for an Aztec Diamong **A(n)** equals $2^{1+2+3+...+n}$."
      ]
    },
    {
      "cell_type": "code",
      "metadata": {
        "colab": {
          "base_uri": "https://localhost:8080/",
          "height": 412
        },
        "id": "SCEp8Huf3svt",
        "outputId": "1a5cd0aa-a68d-4167-c187-5c5204874b66"
      },
      "source": [
        "def AztecDiamond(n):\n",
        "  M = np.triu(np.ones((n,n), dtype=int))\n",
        "  M = np.concatenate((M[::-1,:], M))\n",
        "  return np.concatenate((M, M[:,::-1]), axis=1)\n",
        "\n",
        "# size of Aztec Diamong, note. the process slows down with n>7\n",
        "n = 5\n",
        "M=AztecDiamond(n)\n",
        "display(showMatrix(M))\n",
        "\n",
        "M = np.array(M)[::-1,:]\n",
        "print(f'\\nNumber of Tilings: {numberOfTilings(M)}\\n2^(1+2+..+n): {2**(n*(n+1)//2)}')\n"
      ],
      "execution_count": null,
      "outputs": [
        {
          "output_type": "display_data",
          "data": {
            "text/html": [
              "<style  type=\"text/css\" >\n",
              "#T_16fea65c_4844_11eb_aa0b_0242ac1c0002row0_col0,#T_16fea65c_4844_11eb_aa0b_0242ac1c0002row0_col1,#T_16fea65c_4844_11eb_aa0b_0242ac1c0002row0_col2,#T_16fea65c_4844_11eb_aa0b_0242ac1c0002row0_col3,#T_16fea65c_4844_11eb_aa0b_0242ac1c0002row0_col6,#T_16fea65c_4844_11eb_aa0b_0242ac1c0002row0_col7,#T_16fea65c_4844_11eb_aa0b_0242ac1c0002row0_col8,#T_16fea65c_4844_11eb_aa0b_0242ac1c0002row0_col9,#T_16fea65c_4844_11eb_aa0b_0242ac1c0002row1_col0,#T_16fea65c_4844_11eb_aa0b_0242ac1c0002row1_col1,#T_16fea65c_4844_11eb_aa0b_0242ac1c0002row1_col2,#T_16fea65c_4844_11eb_aa0b_0242ac1c0002row1_col7,#T_16fea65c_4844_11eb_aa0b_0242ac1c0002row1_col8,#T_16fea65c_4844_11eb_aa0b_0242ac1c0002row1_col9,#T_16fea65c_4844_11eb_aa0b_0242ac1c0002row2_col0,#T_16fea65c_4844_11eb_aa0b_0242ac1c0002row2_col1,#T_16fea65c_4844_11eb_aa0b_0242ac1c0002row2_col8,#T_16fea65c_4844_11eb_aa0b_0242ac1c0002row2_col9,#T_16fea65c_4844_11eb_aa0b_0242ac1c0002row3_col0,#T_16fea65c_4844_11eb_aa0b_0242ac1c0002row3_col9,#T_16fea65c_4844_11eb_aa0b_0242ac1c0002row6_col0,#T_16fea65c_4844_11eb_aa0b_0242ac1c0002row6_col9,#T_16fea65c_4844_11eb_aa0b_0242ac1c0002row7_col0,#T_16fea65c_4844_11eb_aa0b_0242ac1c0002row7_col1,#T_16fea65c_4844_11eb_aa0b_0242ac1c0002row7_col8,#T_16fea65c_4844_11eb_aa0b_0242ac1c0002row7_col9,#T_16fea65c_4844_11eb_aa0b_0242ac1c0002row8_col0,#T_16fea65c_4844_11eb_aa0b_0242ac1c0002row8_col1,#T_16fea65c_4844_11eb_aa0b_0242ac1c0002row8_col2,#T_16fea65c_4844_11eb_aa0b_0242ac1c0002row8_col7,#T_16fea65c_4844_11eb_aa0b_0242ac1c0002row8_col8,#T_16fea65c_4844_11eb_aa0b_0242ac1c0002row8_col9,#T_16fea65c_4844_11eb_aa0b_0242ac1c0002row9_col0,#T_16fea65c_4844_11eb_aa0b_0242ac1c0002row9_col1,#T_16fea65c_4844_11eb_aa0b_0242ac1c0002row9_col2,#T_16fea65c_4844_11eb_aa0b_0242ac1c0002row9_col3,#T_16fea65c_4844_11eb_aa0b_0242ac1c0002row9_col6,#T_16fea65c_4844_11eb_aa0b_0242ac1c0002row9_col7,#T_16fea65c_4844_11eb_aa0b_0242ac1c0002row9_col8,#T_16fea65c_4844_11eb_aa0b_0242ac1c0002row9_col9{\n",
              "            color:  lightgrey;\n",
              "            width:  2em;\n",
              "            height:  2em;\n",
              "            text-align:  center;\n",
              "        }#T_16fea65c_4844_11eb_aa0b_0242ac1c0002row0_col4,#T_16fea65c_4844_11eb_aa0b_0242ac1c0002row1_col3,#T_16fea65c_4844_11eb_aa0b_0242ac1c0002row1_col5,#T_16fea65c_4844_11eb_aa0b_0242ac1c0002row2_col2,#T_16fea65c_4844_11eb_aa0b_0242ac1c0002row2_col4,#T_16fea65c_4844_11eb_aa0b_0242ac1c0002row2_col6,#T_16fea65c_4844_11eb_aa0b_0242ac1c0002row3_col1,#T_16fea65c_4844_11eb_aa0b_0242ac1c0002row3_col3,#T_16fea65c_4844_11eb_aa0b_0242ac1c0002row3_col5,#T_16fea65c_4844_11eb_aa0b_0242ac1c0002row3_col7,#T_16fea65c_4844_11eb_aa0b_0242ac1c0002row4_col0,#T_16fea65c_4844_11eb_aa0b_0242ac1c0002row4_col2,#T_16fea65c_4844_11eb_aa0b_0242ac1c0002row4_col4,#T_16fea65c_4844_11eb_aa0b_0242ac1c0002row4_col6,#T_16fea65c_4844_11eb_aa0b_0242ac1c0002row4_col8,#T_16fea65c_4844_11eb_aa0b_0242ac1c0002row5_col1,#T_16fea65c_4844_11eb_aa0b_0242ac1c0002row5_col3,#T_16fea65c_4844_11eb_aa0b_0242ac1c0002row5_col5,#T_16fea65c_4844_11eb_aa0b_0242ac1c0002row5_col7,#T_16fea65c_4844_11eb_aa0b_0242ac1c0002row5_col9,#T_16fea65c_4844_11eb_aa0b_0242ac1c0002row6_col2,#T_16fea65c_4844_11eb_aa0b_0242ac1c0002row6_col4,#T_16fea65c_4844_11eb_aa0b_0242ac1c0002row6_col6,#T_16fea65c_4844_11eb_aa0b_0242ac1c0002row6_col8,#T_16fea65c_4844_11eb_aa0b_0242ac1c0002row7_col3,#T_16fea65c_4844_11eb_aa0b_0242ac1c0002row7_col5,#T_16fea65c_4844_11eb_aa0b_0242ac1c0002row7_col7,#T_16fea65c_4844_11eb_aa0b_0242ac1c0002row8_col4,#T_16fea65c_4844_11eb_aa0b_0242ac1c0002row8_col6,#T_16fea65c_4844_11eb_aa0b_0242ac1c0002row9_col5{\n",
              "            color:  white;\n",
              "             background-color:  black;\n",
              "            width:  2em;\n",
              "            height:  2em;\n",
              "            text-align:  center;\n",
              "        }#T_16fea65c_4844_11eb_aa0b_0242ac1c0002row0_col5,#T_16fea65c_4844_11eb_aa0b_0242ac1c0002row1_col4,#T_16fea65c_4844_11eb_aa0b_0242ac1c0002row1_col6,#T_16fea65c_4844_11eb_aa0b_0242ac1c0002row2_col3,#T_16fea65c_4844_11eb_aa0b_0242ac1c0002row2_col5,#T_16fea65c_4844_11eb_aa0b_0242ac1c0002row2_col7,#T_16fea65c_4844_11eb_aa0b_0242ac1c0002row3_col2,#T_16fea65c_4844_11eb_aa0b_0242ac1c0002row3_col4,#T_16fea65c_4844_11eb_aa0b_0242ac1c0002row3_col6,#T_16fea65c_4844_11eb_aa0b_0242ac1c0002row3_col8,#T_16fea65c_4844_11eb_aa0b_0242ac1c0002row4_col1,#T_16fea65c_4844_11eb_aa0b_0242ac1c0002row4_col3,#T_16fea65c_4844_11eb_aa0b_0242ac1c0002row4_col5,#T_16fea65c_4844_11eb_aa0b_0242ac1c0002row4_col7,#T_16fea65c_4844_11eb_aa0b_0242ac1c0002row4_col9,#T_16fea65c_4844_11eb_aa0b_0242ac1c0002row5_col0,#T_16fea65c_4844_11eb_aa0b_0242ac1c0002row5_col2,#T_16fea65c_4844_11eb_aa0b_0242ac1c0002row5_col4,#T_16fea65c_4844_11eb_aa0b_0242ac1c0002row5_col6,#T_16fea65c_4844_11eb_aa0b_0242ac1c0002row5_col8,#T_16fea65c_4844_11eb_aa0b_0242ac1c0002row6_col1,#T_16fea65c_4844_11eb_aa0b_0242ac1c0002row6_col3,#T_16fea65c_4844_11eb_aa0b_0242ac1c0002row6_col5,#T_16fea65c_4844_11eb_aa0b_0242ac1c0002row6_col7,#T_16fea65c_4844_11eb_aa0b_0242ac1c0002row7_col2,#T_16fea65c_4844_11eb_aa0b_0242ac1c0002row7_col4,#T_16fea65c_4844_11eb_aa0b_0242ac1c0002row7_col6,#T_16fea65c_4844_11eb_aa0b_0242ac1c0002row8_col3,#T_16fea65c_4844_11eb_aa0b_0242ac1c0002row8_col5,#T_16fea65c_4844_11eb_aa0b_0242ac1c0002row9_col4{\n",
              "            color:  white;\n",
              "             background-color:  green;\n",
              "            width:  2em;\n",
              "            height:  2em;\n",
              "            text-align:  center;\n",
              "        }</style><table id=\"T_16fea65c_4844_11eb_aa0b_0242ac1c0002\" ><thead>    <tr>        <th class=\"blank level0\" ></th>        <th class=\"col_heading level0 col0\" >0</th>        <th class=\"col_heading level0 col1\" >1</th>        <th class=\"col_heading level0 col2\" >2</th>        <th class=\"col_heading level0 col3\" >3</th>        <th class=\"col_heading level0 col4\" >4</th>        <th class=\"col_heading level0 col5\" >5</th>        <th class=\"col_heading level0 col6\" >6</th>        <th class=\"col_heading level0 col7\" >7</th>        <th class=\"col_heading level0 col8\" >8</th>        <th class=\"col_heading level0 col9\" >9</th>    </tr></thead><tbody>\n",
              "                <tr>\n",
              "                        <th id=\"T_16fea65c_4844_11eb_aa0b_0242ac1c0002level0_row0\" class=\"row_heading level0 row0\" >0</th>\n",
              "                        <td id=\"T_16fea65c_4844_11eb_aa0b_0242ac1c0002row0_col0\" class=\"data row0 col0\" >0</td>\n",
              "                        <td id=\"T_16fea65c_4844_11eb_aa0b_0242ac1c0002row0_col1\" class=\"data row0 col1\" >0</td>\n",
              "                        <td id=\"T_16fea65c_4844_11eb_aa0b_0242ac1c0002row0_col2\" class=\"data row0 col2\" >0</td>\n",
              "                        <td id=\"T_16fea65c_4844_11eb_aa0b_0242ac1c0002row0_col3\" class=\"data row0 col3\" >0</td>\n",
              "                        <td id=\"T_16fea65c_4844_11eb_aa0b_0242ac1c0002row0_col4\" class=\"data row0 col4\" >1</td>\n",
              "                        <td id=\"T_16fea65c_4844_11eb_aa0b_0242ac1c0002row0_col5\" class=\"data row0 col5\" >1</td>\n",
              "                        <td id=\"T_16fea65c_4844_11eb_aa0b_0242ac1c0002row0_col6\" class=\"data row0 col6\" >0</td>\n",
              "                        <td id=\"T_16fea65c_4844_11eb_aa0b_0242ac1c0002row0_col7\" class=\"data row0 col7\" >0</td>\n",
              "                        <td id=\"T_16fea65c_4844_11eb_aa0b_0242ac1c0002row0_col8\" class=\"data row0 col8\" >0</td>\n",
              "                        <td id=\"T_16fea65c_4844_11eb_aa0b_0242ac1c0002row0_col9\" class=\"data row0 col9\" >0</td>\n",
              "            </tr>\n",
              "            <tr>\n",
              "                        <th id=\"T_16fea65c_4844_11eb_aa0b_0242ac1c0002level0_row1\" class=\"row_heading level0 row1\" >1</th>\n",
              "                        <td id=\"T_16fea65c_4844_11eb_aa0b_0242ac1c0002row1_col0\" class=\"data row1 col0\" >0</td>\n",
              "                        <td id=\"T_16fea65c_4844_11eb_aa0b_0242ac1c0002row1_col1\" class=\"data row1 col1\" >0</td>\n",
              "                        <td id=\"T_16fea65c_4844_11eb_aa0b_0242ac1c0002row1_col2\" class=\"data row1 col2\" >0</td>\n",
              "                        <td id=\"T_16fea65c_4844_11eb_aa0b_0242ac1c0002row1_col3\" class=\"data row1 col3\" >1</td>\n",
              "                        <td id=\"T_16fea65c_4844_11eb_aa0b_0242ac1c0002row1_col4\" class=\"data row1 col4\" >1</td>\n",
              "                        <td id=\"T_16fea65c_4844_11eb_aa0b_0242ac1c0002row1_col5\" class=\"data row1 col5\" >1</td>\n",
              "                        <td id=\"T_16fea65c_4844_11eb_aa0b_0242ac1c0002row1_col6\" class=\"data row1 col6\" >1</td>\n",
              "                        <td id=\"T_16fea65c_4844_11eb_aa0b_0242ac1c0002row1_col7\" class=\"data row1 col7\" >0</td>\n",
              "                        <td id=\"T_16fea65c_4844_11eb_aa0b_0242ac1c0002row1_col8\" class=\"data row1 col8\" >0</td>\n",
              "                        <td id=\"T_16fea65c_4844_11eb_aa0b_0242ac1c0002row1_col9\" class=\"data row1 col9\" >0</td>\n",
              "            </tr>\n",
              "            <tr>\n",
              "                        <th id=\"T_16fea65c_4844_11eb_aa0b_0242ac1c0002level0_row2\" class=\"row_heading level0 row2\" >2</th>\n",
              "                        <td id=\"T_16fea65c_4844_11eb_aa0b_0242ac1c0002row2_col0\" class=\"data row2 col0\" >0</td>\n",
              "                        <td id=\"T_16fea65c_4844_11eb_aa0b_0242ac1c0002row2_col1\" class=\"data row2 col1\" >0</td>\n",
              "                        <td id=\"T_16fea65c_4844_11eb_aa0b_0242ac1c0002row2_col2\" class=\"data row2 col2\" >1</td>\n",
              "                        <td id=\"T_16fea65c_4844_11eb_aa0b_0242ac1c0002row2_col3\" class=\"data row2 col3\" >1</td>\n",
              "                        <td id=\"T_16fea65c_4844_11eb_aa0b_0242ac1c0002row2_col4\" class=\"data row2 col4\" >1</td>\n",
              "                        <td id=\"T_16fea65c_4844_11eb_aa0b_0242ac1c0002row2_col5\" class=\"data row2 col5\" >1</td>\n",
              "                        <td id=\"T_16fea65c_4844_11eb_aa0b_0242ac1c0002row2_col6\" class=\"data row2 col6\" >1</td>\n",
              "                        <td id=\"T_16fea65c_4844_11eb_aa0b_0242ac1c0002row2_col7\" class=\"data row2 col7\" >1</td>\n",
              "                        <td id=\"T_16fea65c_4844_11eb_aa0b_0242ac1c0002row2_col8\" class=\"data row2 col8\" >0</td>\n",
              "                        <td id=\"T_16fea65c_4844_11eb_aa0b_0242ac1c0002row2_col9\" class=\"data row2 col9\" >0</td>\n",
              "            </tr>\n",
              "            <tr>\n",
              "                        <th id=\"T_16fea65c_4844_11eb_aa0b_0242ac1c0002level0_row3\" class=\"row_heading level0 row3\" >3</th>\n",
              "                        <td id=\"T_16fea65c_4844_11eb_aa0b_0242ac1c0002row3_col0\" class=\"data row3 col0\" >0</td>\n",
              "                        <td id=\"T_16fea65c_4844_11eb_aa0b_0242ac1c0002row3_col1\" class=\"data row3 col1\" >1</td>\n",
              "                        <td id=\"T_16fea65c_4844_11eb_aa0b_0242ac1c0002row3_col2\" class=\"data row3 col2\" >1</td>\n",
              "                        <td id=\"T_16fea65c_4844_11eb_aa0b_0242ac1c0002row3_col3\" class=\"data row3 col3\" >1</td>\n",
              "                        <td id=\"T_16fea65c_4844_11eb_aa0b_0242ac1c0002row3_col4\" class=\"data row3 col4\" >1</td>\n",
              "                        <td id=\"T_16fea65c_4844_11eb_aa0b_0242ac1c0002row3_col5\" class=\"data row3 col5\" >1</td>\n",
              "                        <td id=\"T_16fea65c_4844_11eb_aa0b_0242ac1c0002row3_col6\" class=\"data row3 col6\" >1</td>\n",
              "                        <td id=\"T_16fea65c_4844_11eb_aa0b_0242ac1c0002row3_col7\" class=\"data row3 col7\" >1</td>\n",
              "                        <td id=\"T_16fea65c_4844_11eb_aa0b_0242ac1c0002row3_col8\" class=\"data row3 col8\" >1</td>\n",
              "                        <td id=\"T_16fea65c_4844_11eb_aa0b_0242ac1c0002row3_col9\" class=\"data row3 col9\" >0</td>\n",
              "            </tr>\n",
              "            <tr>\n",
              "                        <th id=\"T_16fea65c_4844_11eb_aa0b_0242ac1c0002level0_row4\" class=\"row_heading level0 row4\" >4</th>\n",
              "                        <td id=\"T_16fea65c_4844_11eb_aa0b_0242ac1c0002row4_col0\" class=\"data row4 col0\" >1</td>\n",
              "                        <td id=\"T_16fea65c_4844_11eb_aa0b_0242ac1c0002row4_col1\" class=\"data row4 col1\" >1</td>\n",
              "                        <td id=\"T_16fea65c_4844_11eb_aa0b_0242ac1c0002row4_col2\" class=\"data row4 col2\" >1</td>\n",
              "                        <td id=\"T_16fea65c_4844_11eb_aa0b_0242ac1c0002row4_col3\" class=\"data row4 col3\" >1</td>\n",
              "                        <td id=\"T_16fea65c_4844_11eb_aa0b_0242ac1c0002row4_col4\" class=\"data row4 col4\" >1</td>\n",
              "                        <td id=\"T_16fea65c_4844_11eb_aa0b_0242ac1c0002row4_col5\" class=\"data row4 col5\" >1</td>\n",
              "                        <td id=\"T_16fea65c_4844_11eb_aa0b_0242ac1c0002row4_col6\" class=\"data row4 col6\" >1</td>\n",
              "                        <td id=\"T_16fea65c_4844_11eb_aa0b_0242ac1c0002row4_col7\" class=\"data row4 col7\" >1</td>\n",
              "                        <td id=\"T_16fea65c_4844_11eb_aa0b_0242ac1c0002row4_col8\" class=\"data row4 col8\" >1</td>\n",
              "                        <td id=\"T_16fea65c_4844_11eb_aa0b_0242ac1c0002row4_col9\" class=\"data row4 col9\" >1</td>\n",
              "            </tr>\n",
              "            <tr>\n",
              "                        <th id=\"T_16fea65c_4844_11eb_aa0b_0242ac1c0002level0_row5\" class=\"row_heading level0 row5\" >5</th>\n",
              "                        <td id=\"T_16fea65c_4844_11eb_aa0b_0242ac1c0002row5_col0\" class=\"data row5 col0\" >1</td>\n",
              "                        <td id=\"T_16fea65c_4844_11eb_aa0b_0242ac1c0002row5_col1\" class=\"data row5 col1\" >1</td>\n",
              "                        <td id=\"T_16fea65c_4844_11eb_aa0b_0242ac1c0002row5_col2\" class=\"data row5 col2\" >1</td>\n",
              "                        <td id=\"T_16fea65c_4844_11eb_aa0b_0242ac1c0002row5_col3\" class=\"data row5 col3\" >1</td>\n",
              "                        <td id=\"T_16fea65c_4844_11eb_aa0b_0242ac1c0002row5_col4\" class=\"data row5 col4\" >1</td>\n",
              "                        <td id=\"T_16fea65c_4844_11eb_aa0b_0242ac1c0002row5_col5\" class=\"data row5 col5\" >1</td>\n",
              "                        <td id=\"T_16fea65c_4844_11eb_aa0b_0242ac1c0002row5_col6\" class=\"data row5 col6\" >1</td>\n",
              "                        <td id=\"T_16fea65c_4844_11eb_aa0b_0242ac1c0002row5_col7\" class=\"data row5 col7\" >1</td>\n",
              "                        <td id=\"T_16fea65c_4844_11eb_aa0b_0242ac1c0002row5_col8\" class=\"data row5 col8\" >1</td>\n",
              "                        <td id=\"T_16fea65c_4844_11eb_aa0b_0242ac1c0002row5_col9\" class=\"data row5 col9\" >1</td>\n",
              "            </tr>\n",
              "            <tr>\n",
              "                        <th id=\"T_16fea65c_4844_11eb_aa0b_0242ac1c0002level0_row6\" class=\"row_heading level0 row6\" >6</th>\n",
              "                        <td id=\"T_16fea65c_4844_11eb_aa0b_0242ac1c0002row6_col0\" class=\"data row6 col0\" >0</td>\n",
              "                        <td id=\"T_16fea65c_4844_11eb_aa0b_0242ac1c0002row6_col1\" class=\"data row6 col1\" >1</td>\n",
              "                        <td id=\"T_16fea65c_4844_11eb_aa0b_0242ac1c0002row6_col2\" class=\"data row6 col2\" >1</td>\n",
              "                        <td id=\"T_16fea65c_4844_11eb_aa0b_0242ac1c0002row6_col3\" class=\"data row6 col3\" >1</td>\n",
              "                        <td id=\"T_16fea65c_4844_11eb_aa0b_0242ac1c0002row6_col4\" class=\"data row6 col4\" >1</td>\n",
              "                        <td id=\"T_16fea65c_4844_11eb_aa0b_0242ac1c0002row6_col5\" class=\"data row6 col5\" >1</td>\n",
              "                        <td id=\"T_16fea65c_4844_11eb_aa0b_0242ac1c0002row6_col6\" class=\"data row6 col6\" >1</td>\n",
              "                        <td id=\"T_16fea65c_4844_11eb_aa0b_0242ac1c0002row6_col7\" class=\"data row6 col7\" >1</td>\n",
              "                        <td id=\"T_16fea65c_4844_11eb_aa0b_0242ac1c0002row6_col8\" class=\"data row6 col8\" >1</td>\n",
              "                        <td id=\"T_16fea65c_4844_11eb_aa0b_0242ac1c0002row6_col9\" class=\"data row6 col9\" >0</td>\n",
              "            </tr>\n",
              "            <tr>\n",
              "                        <th id=\"T_16fea65c_4844_11eb_aa0b_0242ac1c0002level0_row7\" class=\"row_heading level0 row7\" >7</th>\n",
              "                        <td id=\"T_16fea65c_4844_11eb_aa0b_0242ac1c0002row7_col0\" class=\"data row7 col0\" >0</td>\n",
              "                        <td id=\"T_16fea65c_4844_11eb_aa0b_0242ac1c0002row7_col1\" class=\"data row7 col1\" >0</td>\n",
              "                        <td id=\"T_16fea65c_4844_11eb_aa0b_0242ac1c0002row7_col2\" class=\"data row7 col2\" >1</td>\n",
              "                        <td id=\"T_16fea65c_4844_11eb_aa0b_0242ac1c0002row7_col3\" class=\"data row7 col3\" >1</td>\n",
              "                        <td id=\"T_16fea65c_4844_11eb_aa0b_0242ac1c0002row7_col4\" class=\"data row7 col4\" >1</td>\n",
              "                        <td id=\"T_16fea65c_4844_11eb_aa0b_0242ac1c0002row7_col5\" class=\"data row7 col5\" >1</td>\n",
              "                        <td id=\"T_16fea65c_4844_11eb_aa0b_0242ac1c0002row7_col6\" class=\"data row7 col6\" >1</td>\n",
              "                        <td id=\"T_16fea65c_4844_11eb_aa0b_0242ac1c0002row7_col7\" class=\"data row7 col7\" >1</td>\n",
              "                        <td id=\"T_16fea65c_4844_11eb_aa0b_0242ac1c0002row7_col8\" class=\"data row7 col8\" >0</td>\n",
              "                        <td id=\"T_16fea65c_4844_11eb_aa0b_0242ac1c0002row7_col9\" class=\"data row7 col9\" >0</td>\n",
              "            </tr>\n",
              "            <tr>\n",
              "                        <th id=\"T_16fea65c_4844_11eb_aa0b_0242ac1c0002level0_row8\" class=\"row_heading level0 row8\" >8</th>\n",
              "                        <td id=\"T_16fea65c_4844_11eb_aa0b_0242ac1c0002row8_col0\" class=\"data row8 col0\" >0</td>\n",
              "                        <td id=\"T_16fea65c_4844_11eb_aa0b_0242ac1c0002row8_col1\" class=\"data row8 col1\" >0</td>\n",
              "                        <td id=\"T_16fea65c_4844_11eb_aa0b_0242ac1c0002row8_col2\" class=\"data row8 col2\" >0</td>\n",
              "                        <td id=\"T_16fea65c_4844_11eb_aa0b_0242ac1c0002row8_col3\" class=\"data row8 col3\" >1</td>\n",
              "                        <td id=\"T_16fea65c_4844_11eb_aa0b_0242ac1c0002row8_col4\" class=\"data row8 col4\" >1</td>\n",
              "                        <td id=\"T_16fea65c_4844_11eb_aa0b_0242ac1c0002row8_col5\" class=\"data row8 col5\" >1</td>\n",
              "                        <td id=\"T_16fea65c_4844_11eb_aa0b_0242ac1c0002row8_col6\" class=\"data row8 col6\" >1</td>\n",
              "                        <td id=\"T_16fea65c_4844_11eb_aa0b_0242ac1c0002row8_col7\" class=\"data row8 col7\" >0</td>\n",
              "                        <td id=\"T_16fea65c_4844_11eb_aa0b_0242ac1c0002row8_col8\" class=\"data row8 col8\" >0</td>\n",
              "                        <td id=\"T_16fea65c_4844_11eb_aa0b_0242ac1c0002row8_col9\" class=\"data row8 col9\" >0</td>\n",
              "            </tr>\n",
              "            <tr>\n",
              "                        <th id=\"T_16fea65c_4844_11eb_aa0b_0242ac1c0002level0_row9\" class=\"row_heading level0 row9\" >9</th>\n",
              "                        <td id=\"T_16fea65c_4844_11eb_aa0b_0242ac1c0002row9_col0\" class=\"data row9 col0\" >0</td>\n",
              "                        <td id=\"T_16fea65c_4844_11eb_aa0b_0242ac1c0002row9_col1\" class=\"data row9 col1\" >0</td>\n",
              "                        <td id=\"T_16fea65c_4844_11eb_aa0b_0242ac1c0002row9_col2\" class=\"data row9 col2\" >0</td>\n",
              "                        <td id=\"T_16fea65c_4844_11eb_aa0b_0242ac1c0002row9_col3\" class=\"data row9 col3\" >0</td>\n",
              "                        <td id=\"T_16fea65c_4844_11eb_aa0b_0242ac1c0002row9_col4\" class=\"data row9 col4\" >1</td>\n",
              "                        <td id=\"T_16fea65c_4844_11eb_aa0b_0242ac1c0002row9_col5\" class=\"data row9 col5\" >1</td>\n",
              "                        <td id=\"T_16fea65c_4844_11eb_aa0b_0242ac1c0002row9_col6\" class=\"data row9 col6\" >0</td>\n",
              "                        <td id=\"T_16fea65c_4844_11eb_aa0b_0242ac1c0002row9_col7\" class=\"data row9 col7\" >0</td>\n",
              "                        <td id=\"T_16fea65c_4844_11eb_aa0b_0242ac1c0002row9_col8\" class=\"data row9 col8\" >0</td>\n",
              "                        <td id=\"T_16fea65c_4844_11eb_aa0b_0242ac1c0002row9_col9\" class=\"data row9 col9\" >0</td>\n",
              "            </tr>\n",
              "    </tbody></table>"
            ],
            "text/plain": [
              "<pandas.io.formats.style.Styler at 0x7ffad6fd0630>"
            ]
          },
          "metadata": {
            "tags": []
          }
        },
        {
          "output_type": "stream",
          "text": [
            "\n",
            "Number of Tilings: 32768\n",
            "2^(1+2+..+n): 32768\n"
          ],
          "name": "stdout"
        }
      ]
    },
    {
      "cell_type": "code",
      "metadata": {
        "id": "QraBTuw0POt-",
        "colab": {
          "base_uri": "https://localhost:8080/",
          "height": 1000
        },
        "outputId": "79de5eeb-daaa-4c44-b2c2-77312892355d"
      },
      "source": [
        "A,B,N = calculateMatrix(M)\n",
        "print(f'Number of tilings: {numberOfTilings(M)}')\n",
        "display(showMatrix(N))\n",
        "A,B"
      ],
      "execution_count": null,
      "outputs": [
        {
          "output_type": "stream",
          "text": [
            "Number of tilings: 32768\n"
          ],
          "name": "stdout"
        },
        {
          "output_type": "display_data",
          "data": {
            "text/html": [
              "<style  type=\"text/css\" >\n",
              "#T_170d7f7e_4844_11eb_aa0b_0242ac1c0002row0_col0,#T_170d7f7e_4844_11eb_aa0b_0242ac1c0002row0_col1,#T_170d7f7e_4844_11eb_aa0b_0242ac1c0002row0_col2,#T_170d7f7e_4844_11eb_aa0b_0242ac1c0002row0_col3,#T_170d7f7e_4844_11eb_aa0b_0242ac1c0002row0_col6,#T_170d7f7e_4844_11eb_aa0b_0242ac1c0002row0_col7,#T_170d7f7e_4844_11eb_aa0b_0242ac1c0002row0_col8,#T_170d7f7e_4844_11eb_aa0b_0242ac1c0002row0_col9,#T_170d7f7e_4844_11eb_aa0b_0242ac1c0002row1_col0,#T_170d7f7e_4844_11eb_aa0b_0242ac1c0002row1_col1,#T_170d7f7e_4844_11eb_aa0b_0242ac1c0002row1_col2,#T_170d7f7e_4844_11eb_aa0b_0242ac1c0002row1_col7,#T_170d7f7e_4844_11eb_aa0b_0242ac1c0002row1_col8,#T_170d7f7e_4844_11eb_aa0b_0242ac1c0002row1_col9,#T_170d7f7e_4844_11eb_aa0b_0242ac1c0002row2_col0,#T_170d7f7e_4844_11eb_aa0b_0242ac1c0002row2_col1,#T_170d7f7e_4844_11eb_aa0b_0242ac1c0002row2_col8,#T_170d7f7e_4844_11eb_aa0b_0242ac1c0002row2_col9,#T_170d7f7e_4844_11eb_aa0b_0242ac1c0002row3_col0,#T_170d7f7e_4844_11eb_aa0b_0242ac1c0002row3_col9,#T_170d7f7e_4844_11eb_aa0b_0242ac1c0002row6_col0,#T_170d7f7e_4844_11eb_aa0b_0242ac1c0002row6_col9,#T_170d7f7e_4844_11eb_aa0b_0242ac1c0002row7_col0,#T_170d7f7e_4844_11eb_aa0b_0242ac1c0002row7_col1,#T_170d7f7e_4844_11eb_aa0b_0242ac1c0002row7_col8,#T_170d7f7e_4844_11eb_aa0b_0242ac1c0002row7_col9,#T_170d7f7e_4844_11eb_aa0b_0242ac1c0002row8_col0,#T_170d7f7e_4844_11eb_aa0b_0242ac1c0002row8_col1,#T_170d7f7e_4844_11eb_aa0b_0242ac1c0002row8_col2,#T_170d7f7e_4844_11eb_aa0b_0242ac1c0002row8_col7,#T_170d7f7e_4844_11eb_aa0b_0242ac1c0002row8_col8,#T_170d7f7e_4844_11eb_aa0b_0242ac1c0002row8_col9,#T_170d7f7e_4844_11eb_aa0b_0242ac1c0002row9_col0,#T_170d7f7e_4844_11eb_aa0b_0242ac1c0002row9_col1,#T_170d7f7e_4844_11eb_aa0b_0242ac1c0002row9_col2,#T_170d7f7e_4844_11eb_aa0b_0242ac1c0002row9_col3,#T_170d7f7e_4844_11eb_aa0b_0242ac1c0002row9_col6,#T_170d7f7e_4844_11eb_aa0b_0242ac1c0002row9_col7,#T_170d7f7e_4844_11eb_aa0b_0242ac1c0002row9_col8,#T_170d7f7e_4844_11eb_aa0b_0242ac1c0002row9_col9{\n",
              "            color:  lightgrey;\n",
              "            width:  2em;\n",
              "            height:  2em;\n",
              "            text-align:  center;\n",
              "        }#T_170d7f7e_4844_11eb_aa0b_0242ac1c0002row0_col4,#T_170d7f7e_4844_11eb_aa0b_0242ac1c0002row1_col3,#T_170d7f7e_4844_11eb_aa0b_0242ac1c0002row1_col5,#T_170d7f7e_4844_11eb_aa0b_0242ac1c0002row2_col2,#T_170d7f7e_4844_11eb_aa0b_0242ac1c0002row2_col4,#T_170d7f7e_4844_11eb_aa0b_0242ac1c0002row2_col6,#T_170d7f7e_4844_11eb_aa0b_0242ac1c0002row3_col1,#T_170d7f7e_4844_11eb_aa0b_0242ac1c0002row3_col3,#T_170d7f7e_4844_11eb_aa0b_0242ac1c0002row3_col5,#T_170d7f7e_4844_11eb_aa0b_0242ac1c0002row3_col7,#T_170d7f7e_4844_11eb_aa0b_0242ac1c0002row4_col0,#T_170d7f7e_4844_11eb_aa0b_0242ac1c0002row4_col2,#T_170d7f7e_4844_11eb_aa0b_0242ac1c0002row4_col4,#T_170d7f7e_4844_11eb_aa0b_0242ac1c0002row4_col6,#T_170d7f7e_4844_11eb_aa0b_0242ac1c0002row4_col8,#T_170d7f7e_4844_11eb_aa0b_0242ac1c0002row5_col1,#T_170d7f7e_4844_11eb_aa0b_0242ac1c0002row5_col3,#T_170d7f7e_4844_11eb_aa0b_0242ac1c0002row5_col5,#T_170d7f7e_4844_11eb_aa0b_0242ac1c0002row5_col7,#T_170d7f7e_4844_11eb_aa0b_0242ac1c0002row5_col9,#T_170d7f7e_4844_11eb_aa0b_0242ac1c0002row6_col2,#T_170d7f7e_4844_11eb_aa0b_0242ac1c0002row6_col4,#T_170d7f7e_4844_11eb_aa0b_0242ac1c0002row6_col6,#T_170d7f7e_4844_11eb_aa0b_0242ac1c0002row6_col8,#T_170d7f7e_4844_11eb_aa0b_0242ac1c0002row7_col3,#T_170d7f7e_4844_11eb_aa0b_0242ac1c0002row7_col5,#T_170d7f7e_4844_11eb_aa0b_0242ac1c0002row7_col7,#T_170d7f7e_4844_11eb_aa0b_0242ac1c0002row8_col4,#T_170d7f7e_4844_11eb_aa0b_0242ac1c0002row8_col6,#T_170d7f7e_4844_11eb_aa0b_0242ac1c0002row9_col5{\n",
              "            color:  white;\n",
              "             background-color:  black;\n",
              "            width:  2em;\n",
              "            height:  2em;\n",
              "            text-align:  center;\n",
              "        }#T_170d7f7e_4844_11eb_aa0b_0242ac1c0002row0_col5,#T_170d7f7e_4844_11eb_aa0b_0242ac1c0002row1_col4,#T_170d7f7e_4844_11eb_aa0b_0242ac1c0002row1_col6,#T_170d7f7e_4844_11eb_aa0b_0242ac1c0002row2_col3,#T_170d7f7e_4844_11eb_aa0b_0242ac1c0002row2_col5,#T_170d7f7e_4844_11eb_aa0b_0242ac1c0002row2_col7,#T_170d7f7e_4844_11eb_aa0b_0242ac1c0002row3_col2,#T_170d7f7e_4844_11eb_aa0b_0242ac1c0002row3_col4,#T_170d7f7e_4844_11eb_aa0b_0242ac1c0002row3_col6,#T_170d7f7e_4844_11eb_aa0b_0242ac1c0002row3_col8,#T_170d7f7e_4844_11eb_aa0b_0242ac1c0002row4_col1,#T_170d7f7e_4844_11eb_aa0b_0242ac1c0002row4_col3,#T_170d7f7e_4844_11eb_aa0b_0242ac1c0002row4_col5,#T_170d7f7e_4844_11eb_aa0b_0242ac1c0002row4_col7,#T_170d7f7e_4844_11eb_aa0b_0242ac1c0002row4_col9,#T_170d7f7e_4844_11eb_aa0b_0242ac1c0002row5_col0,#T_170d7f7e_4844_11eb_aa0b_0242ac1c0002row5_col2,#T_170d7f7e_4844_11eb_aa0b_0242ac1c0002row5_col4,#T_170d7f7e_4844_11eb_aa0b_0242ac1c0002row5_col6,#T_170d7f7e_4844_11eb_aa0b_0242ac1c0002row5_col8,#T_170d7f7e_4844_11eb_aa0b_0242ac1c0002row6_col1,#T_170d7f7e_4844_11eb_aa0b_0242ac1c0002row6_col3,#T_170d7f7e_4844_11eb_aa0b_0242ac1c0002row6_col5,#T_170d7f7e_4844_11eb_aa0b_0242ac1c0002row6_col7,#T_170d7f7e_4844_11eb_aa0b_0242ac1c0002row7_col2,#T_170d7f7e_4844_11eb_aa0b_0242ac1c0002row7_col4,#T_170d7f7e_4844_11eb_aa0b_0242ac1c0002row7_col6,#T_170d7f7e_4844_11eb_aa0b_0242ac1c0002row8_col3,#T_170d7f7e_4844_11eb_aa0b_0242ac1c0002row8_col5,#T_170d7f7e_4844_11eb_aa0b_0242ac1c0002row9_col4{\n",
              "            color:  white;\n",
              "             background-color:  green;\n",
              "            width:  2em;\n",
              "            height:  2em;\n",
              "            text-align:  center;\n",
              "        }</style><table id=\"T_170d7f7e_4844_11eb_aa0b_0242ac1c0002\" ><thead>    <tr>        <th class=\"blank level0\" ></th>        <th class=\"col_heading level0 col0\" >0</th>        <th class=\"col_heading level0 col1\" >1</th>        <th class=\"col_heading level0 col2\" >2</th>        <th class=\"col_heading level0 col3\" >3</th>        <th class=\"col_heading level0 col4\" >4</th>        <th class=\"col_heading level0 col5\" >5</th>        <th class=\"col_heading level0 col6\" >6</th>        <th class=\"col_heading level0 col7\" >7</th>        <th class=\"col_heading level0 col8\" >8</th>        <th class=\"col_heading level0 col9\" >9</th>    </tr></thead><tbody>\n",
              "                <tr>\n",
              "                        <th id=\"T_170d7f7e_4844_11eb_aa0b_0242ac1c0002level0_row0\" class=\"row_heading level0 row0\" >0</th>\n",
              "                        <td id=\"T_170d7f7e_4844_11eb_aa0b_0242ac1c0002row0_col0\" class=\"data row0 col0\" >0</td>\n",
              "                        <td id=\"T_170d7f7e_4844_11eb_aa0b_0242ac1c0002row0_col1\" class=\"data row0 col1\" >0</td>\n",
              "                        <td id=\"T_170d7f7e_4844_11eb_aa0b_0242ac1c0002row0_col2\" class=\"data row0 col2\" >0</td>\n",
              "                        <td id=\"T_170d7f7e_4844_11eb_aa0b_0242ac1c0002row0_col3\" class=\"data row0 col3\" >0</td>\n",
              "                        <td id=\"T_170d7f7e_4844_11eb_aa0b_0242ac1c0002row0_col4\" class=\"data row0 col4\" >-1</td>\n",
              "                        <td id=\"T_170d7f7e_4844_11eb_aa0b_0242ac1c0002row0_col5\" class=\"data row0 col5\" >1</td>\n",
              "                        <td id=\"T_170d7f7e_4844_11eb_aa0b_0242ac1c0002row0_col6\" class=\"data row0 col6\" >0</td>\n",
              "                        <td id=\"T_170d7f7e_4844_11eb_aa0b_0242ac1c0002row0_col7\" class=\"data row0 col7\" >0</td>\n",
              "                        <td id=\"T_170d7f7e_4844_11eb_aa0b_0242ac1c0002row0_col8\" class=\"data row0 col8\" >0</td>\n",
              "                        <td id=\"T_170d7f7e_4844_11eb_aa0b_0242ac1c0002row0_col9\" class=\"data row0 col9\" >0</td>\n",
              "            </tr>\n",
              "            <tr>\n",
              "                        <th id=\"T_170d7f7e_4844_11eb_aa0b_0242ac1c0002level0_row1\" class=\"row_heading level0 row1\" >1</th>\n",
              "                        <td id=\"T_170d7f7e_4844_11eb_aa0b_0242ac1c0002row1_col0\" class=\"data row1 col0\" >0</td>\n",
              "                        <td id=\"T_170d7f7e_4844_11eb_aa0b_0242ac1c0002row1_col1\" class=\"data row1 col1\" >0</td>\n",
              "                        <td id=\"T_170d7f7e_4844_11eb_aa0b_0242ac1c0002row1_col2\" class=\"data row1 col2\" >0</td>\n",
              "                        <td id=\"T_170d7f7e_4844_11eb_aa0b_0242ac1c0002row1_col3\" class=\"data row1 col3\" >-2</td>\n",
              "                        <td id=\"T_170d7f7e_4844_11eb_aa0b_0242ac1c0002row1_col4\" class=\"data row1 col4\" >2</td>\n",
              "                        <td id=\"T_170d7f7e_4844_11eb_aa0b_0242ac1c0002row1_col5\" class=\"data row1 col5\" >-3</td>\n",
              "                        <td id=\"T_170d7f7e_4844_11eb_aa0b_0242ac1c0002row1_col6\" class=\"data row1 col6\" >3</td>\n",
              "                        <td id=\"T_170d7f7e_4844_11eb_aa0b_0242ac1c0002row1_col7\" class=\"data row1 col7\" >0</td>\n",
              "                        <td id=\"T_170d7f7e_4844_11eb_aa0b_0242ac1c0002row1_col8\" class=\"data row1 col8\" >0</td>\n",
              "                        <td id=\"T_170d7f7e_4844_11eb_aa0b_0242ac1c0002row1_col9\" class=\"data row1 col9\" >0</td>\n",
              "            </tr>\n",
              "            <tr>\n",
              "                        <th id=\"T_170d7f7e_4844_11eb_aa0b_0242ac1c0002level0_row2\" class=\"row_heading level0 row2\" >2</th>\n",
              "                        <td id=\"T_170d7f7e_4844_11eb_aa0b_0242ac1c0002row2_col0\" class=\"data row2 col0\" >0</td>\n",
              "                        <td id=\"T_170d7f7e_4844_11eb_aa0b_0242ac1c0002row2_col1\" class=\"data row2 col1\" >0</td>\n",
              "                        <td id=\"T_170d7f7e_4844_11eb_aa0b_0242ac1c0002row2_col2\" class=\"data row2 col2\" >-4</td>\n",
              "                        <td id=\"T_170d7f7e_4844_11eb_aa0b_0242ac1c0002row2_col3\" class=\"data row2 col3\" >4</td>\n",
              "                        <td id=\"T_170d7f7e_4844_11eb_aa0b_0242ac1c0002row2_col4\" class=\"data row2 col4\" >-5</td>\n",
              "                        <td id=\"T_170d7f7e_4844_11eb_aa0b_0242ac1c0002row2_col5\" class=\"data row2 col5\" >5</td>\n",
              "                        <td id=\"T_170d7f7e_4844_11eb_aa0b_0242ac1c0002row2_col6\" class=\"data row2 col6\" >-6</td>\n",
              "                        <td id=\"T_170d7f7e_4844_11eb_aa0b_0242ac1c0002row2_col7\" class=\"data row2 col7\" >6</td>\n",
              "                        <td id=\"T_170d7f7e_4844_11eb_aa0b_0242ac1c0002row2_col8\" class=\"data row2 col8\" >0</td>\n",
              "                        <td id=\"T_170d7f7e_4844_11eb_aa0b_0242ac1c0002row2_col9\" class=\"data row2 col9\" >0</td>\n",
              "            </tr>\n",
              "            <tr>\n",
              "                        <th id=\"T_170d7f7e_4844_11eb_aa0b_0242ac1c0002level0_row3\" class=\"row_heading level0 row3\" >3</th>\n",
              "                        <td id=\"T_170d7f7e_4844_11eb_aa0b_0242ac1c0002row3_col0\" class=\"data row3 col0\" >0</td>\n",
              "                        <td id=\"T_170d7f7e_4844_11eb_aa0b_0242ac1c0002row3_col1\" class=\"data row3 col1\" >-7</td>\n",
              "                        <td id=\"T_170d7f7e_4844_11eb_aa0b_0242ac1c0002row3_col2\" class=\"data row3 col2\" >7</td>\n",
              "                        <td id=\"T_170d7f7e_4844_11eb_aa0b_0242ac1c0002row3_col3\" class=\"data row3 col3\" >-8</td>\n",
              "                        <td id=\"T_170d7f7e_4844_11eb_aa0b_0242ac1c0002row3_col4\" class=\"data row3 col4\" >8</td>\n",
              "                        <td id=\"T_170d7f7e_4844_11eb_aa0b_0242ac1c0002row3_col5\" class=\"data row3 col5\" >-9</td>\n",
              "                        <td id=\"T_170d7f7e_4844_11eb_aa0b_0242ac1c0002row3_col6\" class=\"data row3 col6\" >9</td>\n",
              "                        <td id=\"T_170d7f7e_4844_11eb_aa0b_0242ac1c0002row3_col7\" class=\"data row3 col7\" >-10</td>\n",
              "                        <td id=\"T_170d7f7e_4844_11eb_aa0b_0242ac1c0002row3_col8\" class=\"data row3 col8\" >10</td>\n",
              "                        <td id=\"T_170d7f7e_4844_11eb_aa0b_0242ac1c0002row3_col9\" class=\"data row3 col9\" >0</td>\n",
              "            </tr>\n",
              "            <tr>\n",
              "                        <th id=\"T_170d7f7e_4844_11eb_aa0b_0242ac1c0002level0_row4\" class=\"row_heading level0 row4\" >4</th>\n",
              "                        <td id=\"T_170d7f7e_4844_11eb_aa0b_0242ac1c0002row4_col0\" class=\"data row4 col0\" >-11</td>\n",
              "                        <td id=\"T_170d7f7e_4844_11eb_aa0b_0242ac1c0002row4_col1\" class=\"data row4 col1\" >11</td>\n",
              "                        <td id=\"T_170d7f7e_4844_11eb_aa0b_0242ac1c0002row4_col2\" class=\"data row4 col2\" >-12</td>\n",
              "                        <td id=\"T_170d7f7e_4844_11eb_aa0b_0242ac1c0002row4_col3\" class=\"data row4 col3\" >12</td>\n",
              "                        <td id=\"T_170d7f7e_4844_11eb_aa0b_0242ac1c0002row4_col4\" class=\"data row4 col4\" >-13</td>\n",
              "                        <td id=\"T_170d7f7e_4844_11eb_aa0b_0242ac1c0002row4_col5\" class=\"data row4 col5\" >13</td>\n",
              "                        <td id=\"T_170d7f7e_4844_11eb_aa0b_0242ac1c0002row4_col6\" class=\"data row4 col6\" >-14</td>\n",
              "                        <td id=\"T_170d7f7e_4844_11eb_aa0b_0242ac1c0002row4_col7\" class=\"data row4 col7\" >14</td>\n",
              "                        <td id=\"T_170d7f7e_4844_11eb_aa0b_0242ac1c0002row4_col8\" class=\"data row4 col8\" >-15</td>\n",
              "                        <td id=\"T_170d7f7e_4844_11eb_aa0b_0242ac1c0002row4_col9\" class=\"data row4 col9\" >15</td>\n",
              "            </tr>\n",
              "            <tr>\n",
              "                        <th id=\"T_170d7f7e_4844_11eb_aa0b_0242ac1c0002level0_row5\" class=\"row_heading level0 row5\" >5</th>\n",
              "                        <td id=\"T_170d7f7e_4844_11eb_aa0b_0242ac1c0002row5_col0\" class=\"data row5 col0\" >16</td>\n",
              "                        <td id=\"T_170d7f7e_4844_11eb_aa0b_0242ac1c0002row5_col1\" class=\"data row5 col1\" >-16</td>\n",
              "                        <td id=\"T_170d7f7e_4844_11eb_aa0b_0242ac1c0002row5_col2\" class=\"data row5 col2\" >17</td>\n",
              "                        <td id=\"T_170d7f7e_4844_11eb_aa0b_0242ac1c0002row5_col3\" class=\"data row5 col3\" >-17</td>\n",
              "                        <td id=\"T_170d7f7e_4844_11eb_aa0b_0242ac1c0002row5_col4\" class=\"data row5 col4\" >18</td>\n",
              "                        <td id=\"T_170d7f7e_4844_11eb_aa0b_0242ac1c0002row5_col5\" class=\"data row5 col5\" >-18</td>\n",
              "                        <td id=\"T_170d7f7e_4844_11eb_aa0b_0242ac1c0002row5_col6\" class=\"data row5 col6\" >19</td>\n",
              "                        <td id=\"T_170d7f7e_4844_11eb_aa0b_0242ac1c0002row5_col7\" class=\"data row5 col7\" >-19</td>\n",
              "                        <td id=\"T_170d7f7e_4844_11eb_aa0b_0242ac1c0002row5_col8\" class=\"data row5 col8\" >20</td>\n",
              "                        <td id=\"T_170d7f7e_4844_11eb_aa0b_0242ac1c0002row5_col9\" class=\"data row5 col9\" >-20</td>\n",
              "            </tr>\n",
              "            <tr>\n",
              "                        <th id=\"T_170d7f7e_4844_11eb_aa0b_0242ac1c0002level0_row6\" class=\"row_heading level0 row6\" >6</th>\n",
              "                        <td id=\"T_170d7f7e_4844_11eb_aa0b_0242ac1c0002row6_col0\" class=\"data row6 col0\" >0</td>\n",
              "                        <td id=\"T_170d7f7e_4844_11eb_aa0b_0242ac1c0002row6_col1\" class=\"data row6 col1\" >21</td>\n",
              "                        <td id=\"T_170d7f7e_4844_11eb_aa0b_0242ac1c0002row6_col2\" class=\"data row6 col2\" >-21</td>\n",
              "                        <td id=\"T_170d7f7e_4844_11eb_aa0b_0242ac1c0002row6_col3\" class=\"data row6 col3\" >22</td>\n",
              "                        <td id=\"T_170d7f7e_4844_11eb_aa0b_0242ac1c0002row6_col4\" class=\"data row6 col4\" >-22</td>\n",
              "                        <td id=\"T_170d7f7e_4844_11eb_aa0b_0242ac1c0002row6_col5\" class=\"data row6 col5\" >23</td>\n",
              "                        <td id=\"T_170d7f7e_4844_11eb_aa0b_0242ac1c0002row6_col6\" class=\"data row6 col6\" >-23</td>\n",
              "                        <td id=\"T_170d7f7e_4844_11eb_aa0b_0242ac1c0002row6_col7\" class=\"data row6 col7\" >24</td>\n",
              "                        <td id=\"T_170d7f7e_4844_11eb_aa0b_0242ac1c0002row6_col8\" class=\"data row6 col8\" >-24</td>\n",
              "                        <td id=\"T_170d7f7e_4844_11eb_aa0b_0242ac1c0002row6_col9\" class=\"data row6 col9\" >0</td>\n",
              "            </tr>\n",
              "            <tr>\n",
              "                        <th id=\"T_170d7f7e_4844_11eb_aa0b_0242ac1c0002level0_row7\" class=\"row_heading level0 row7\" >7</th>\n",
              "                        <td id=\"T_170d7f7e_4844_11eb_aa0b_0242ac1c0002row7_col0\" class=\"data row7 col0\" >0</td>\n",
              "                        <td id=\"T_170d7f7e_4844_11eb_aa0b_0242ac1c0002row7_col1\" class=\"data row7 col1\" >0</td>\n",
              "                        <td id=\"T_170d7f7e_4844_11eb_aa0b_0242ac1c0002row7_col2\" class=\"data row7 col2\" >25</td>\n",
              "                        <td id=\"T_170d7f7e_4844_11eb_aa0b_0242ac1c0002row7_col3\" class=\"data row7 col3\" >-25</td>\n",
              "                        <td id=\"T_170d7f7e_4844_11eb_aa0b_0242ac1c0002row7_col4\" class=\"data row7 col4\" >26</td>\n",
              "                        <td id=\"T_170d7f7e_4844_11eb_aa0b_0242ac1c0002row7_col5\" class=\"data row7 col5\" >-26</td>\n",
              "                        <td id=\"T_170d7f7e_4844_11eb_aa0b_0242ac1c0002row7_col6\" class=\"data row7 col6\" >27</td>\n",
              "                        <td id=\"T_170d7f7e_4844_11eb_aa0b_0242ac1c0002row7_col7\" class=\"data row7 col7\" >-27</td>\n",
              "                        <td id=\"T_170d7f7e_4844_11eb_aa0b_0242ac1c0002row7_col8\" class=\"data row7 col8\" >0</td>\n",
              "                        <td id=\"T_170d7f7e_4844_11eb_aa0b_0242ac1c0002row7_col9\" class=\"data row7 col9\" >0</td>\n",
              "            </tr>\n",
              "            <tr>\n",
              "                        <th id=\"T_170d7f7e_4844_11eb_aa0b_0242ac1c0002level0_row8\" class=\"row_heading level0 row8\" >8</th>\n",
              "                        <td id=\"T_170d7f7e_4844_11eb_aa0b_0242ac1c0002row8_col0\" class=\"data row8 col0\" >0</td>\n",
              "                        <td id=\"T_170d7f7e_4844_11eb_aa0b_0242ac1c0002row8_col1\" class=\"data row8 col1\" >0</td>\n",
              "                        <td id=\"T_170d7f7e_4844_11eb_aa0b_0242ac1c0002row8_col2\" class=\"data row8 col2\" >0</td>\n",
              "                        <td id=\"T_170d7f7e_4844_11eb_aa0b_0242ac1c0002row8_col3\" class=\"data row8 col3\" >28</td>\n",
              "                        <td id=\"T_170d7f7e_4844_11eb_aa0b_0242ac1c0002row8_col4\" class=\"data row8 col4\" >-28</td>\n",
              "                        <td id=\"T_170d7f7e_4844_11eb_aa0b_0242ac1c0002row8_col5\" class=\"data row8 col5\" >29</td>\n",
              "                        <td id=\"T_170d7f7e_4844_11eb_aa0b_0242ac1c0002row8_col6\" class=\"data row8 col6\" >-29</td>\n",
              "                        <td id=\"T_170d7f7e_4844_11eb_aa0b_0242ac1c0002row8_col7\" class=\"data row8 col7\" >0</td>\n",
              "                        <td id=\"T_170d7f7e_4844_11eb_aa0b_0242ac1c0002row8_col8\" class=\"data row8 col8\" >0</td>\n",
              "                        <td id=\"T_170d7f7e_4844_11eb_aa0b_0242ac1c0002row8_col9\" class=\"data row8 col9\" >0</td>\n",
              "            </tr>\n",
              "            <tr>\n",
              "                        <th id=\"T_170d7f7e_4844_11eb_aa0b_0242ac1c0002level0_row9\" class=\"row_heading level0 row9\" >9</th>\n",
              "                        <td id=\"T_170d7f7e_4844_11eb_aa0b_0242ac1c0002row9_col0\" class=\"data row9 col0\" >0</td>\n",
              "                        <td id=\"T_170d7f7e_4844_11eb_aa0b_0242ac1c0002row9_col1\" class=\"data row9 col1\" >0</td>\n",
              "                        <td id=\"T_170d7f7e_4844_11eb_aa0b_0242ac1c0002row9_col2\" class=\"data row9 col2\" >0</td>\n",
              "                        <td id=\"T_170d7f7e_4844_11eb_aa0b_0242ac1c0002row9_col3\" class=\"data row9 col3\" >0</td>\n",
              "                        <td id=\"T_170d7f7e_4844_11eb_aa0b_0242ac1c0002row9_col4\" class=\"data row9 col4\" >30</td>\n",
              "                        <td id=\"T_170d7f7e_4844_11eb_aa0b_0242ac1c0002row9_col5\" class=\"data row9 col5\" >-30</td>\n",
              "                        <td id=\"T_170d7f7e_4844_11eb_aa0b_0242ac1c0002row9_col6\" class=\"data row9 col6\" >0</td>\n",
              "                        <td id=\"T_170d7f7e_4844_11eb_aa0b_0242ac1c0002row9_col7\" class=\"data row9 col7\" >0</td>\n",
              "                        <td id=\"T_170d7f7e_4844_11eb_aa0b_0242ac1c0002row9_col8\" class=\"data row9 col8\" >0</td>\n",
              "                        <td id=\"T_170d7f7e_4844_11eb_aa0b_0242ac1c0002row9_col9\" class=\"data row9 col9\" >0</td>\n",
              "            </tr>\n",
              "    </tbody></table>"
            ],
            "text/plain": [
              "<pandas.io.formats.style.Styler at 0x7ffad892b898>"
            ]
          },
          "metadata": {
            "tags": []
          }
        },
        {
          "output_type": "execute_result",
          "data": {
            "text/plain": [
              "(array([[1.+0.j, 0.+0.j, 0.+1.j, 0.+0.j, 0.+0.j, 0.+0.j, 0.+0.j, 0.+0.j,\n",
              "         0.+0.j, 0.+0.j, 0.+0.j, 0.+0.j, 0.+0.j, 0.+0.j, 0.+0.j, 0.+0.j,\n",
              "         0.+0.j, 0.+0.j, 0.+0.j, 0.+0.j, 0.+0.j, 0.+0.j, 0.+0.j, 0.+0.j,\n",
              "         0.+0.j, 0.+0.j, 0.+0.j, 0.+0.j, 0.+0.j, 0.+0.j],\n",
              "        [0.+1.j, 1.+0.j, 1.+0.j, 0.+0.j, 0.+1.j, 0.+0.j, 0.+0.j, 0.+0.j,\n",
              "         0.+0.j, 0.+0.j, 0.+0.j, 0.+0.j, 0.+0.j, 0.+0.j, 0.+0.j, 0.+0.j,\n",
              "         0.+0.j, 0.+0.j, 0.+0.j, 0.+0.j, 0.+0.j, 0.+0.j, 0.+0.j, 0.+0.j,\n",
              "         0.+0.j, 0.+0.j, 0.+0.j, 0.+0.j, 0.+0.j, 0.+0.j],\n",
              "        [0.+0.j, 0.+0.j, 1.+0.j, 0.+0.j, 0.+0.j, 0.+1.j, 0.+0.j, 0.+0.j,\n",
              "         0.+0.j, 0.+0.j, 0.+0.j, 0.+0.j, 0.+0.j, 0.+0.j, 0.+0.j, 0.+0.j,\n",
              "         0.+0.j, 0.+0.j, 0.+0.j, 0.+0.j, 0.+0.j, 0.+0.j, 0.+0.j, 0.+0.j,\n",
              "         0.+0.j, 0.+0.j, 0.+0.j, 0.+0.j, 0.+0.j, 0.+0.j],\n",
              "        [0.+0.j, 0.+1.j, 0.+0.j, 1.+0.j, 1.+0.j, 0.+0.j, 0.+0.j, 0.+1.j,\n",
              "         0.+0.j, 0.+0.j, 0.+0.j, 0.+0.j, 0.+0.j, 0.+0.j, 0.+0.j, 0.+0.j,\n",
              "         0.+0.j, 0.+0.j, 0.+0.j, 0.+0.j, 0.+0.j, 0.+0.j, 0.+0.j, 0.+0.j,\n",
              "         0.+0.j, 0.+0.j, 0.+0.j, 0.+0.j, 0.+0.j, 0.+0.j],\n",
              "        [0.+0.j, 0.+0.j, 0.+1.j, 0.+0.j, 1.+0.j, 1.+0.j, 0.+0.j, 0.+0.j,\n",
              "         0.+1.j, 0.+0.j, 0.+0.j, 0.+0.j, 0.+0.j, 0.+0.j, 0.+0.j, 0.+0.j,\n",
              "         0.+0.j, 0.+0.j, 0.+0.j, 0.+0.j, 0.+0.j, 0.+0.j, 0.+0.j, 0.+0.j,\n",
              "         0.+0.j, 0.+0.j, 0.+0.j, 0.+0.j, 0.+0.j, 0.+0.j],\n",
              "        [0.+0.j, 0.+0.j, 0.+0.j, 0.+0.j, 0.+0.j, 1.+0.j, 0.+0.j, 0.+0.j,\n",
              "         0.+0.j, 0.+1.j, 0.+0.j, 0.+0.j, 0.+0.j, 0.+0.j, 0.+0.j, 0.+0.j,\n",
              "         0.+0.j, 0.+0.j, 0.+0.j, 0.+0.j, 0.+0.j, 0.+0.j, 0.+0.j, 0.+0.j,\n",
              "         0.+0.j, 0.+0.j, 0.+0.j, 0.+0.j, 0.+0.j, 0.+0.j],\n",
              "        [0.+0.j, 0.+0.j, 0.+0.j, 0.+1.j, 0.+0.j, 0.+0.j, 1.+0.j, 1.+0.j,\n",
              "         0.+0.j, 0.+0.j, 0.+0.j, 0.+1.j, 0.+0.j, 0.+0.j, 0.+0.j, 0.+0.j,\n",
              "         0.+0.j, 0.+0.j, 0.+0.j, 0.+0.j, 0.+0.j, 0.+0.j, 0.+0.j, 0.+0.j,\n",
              "         0.+0.j, 0.+0.j, 0.+0.j, 0.+0.j, 0.+0.j, 0.+0.j],\n",
              "        [0.+0.j, 0.+0.j, 0.+0.j, 0.+0.j, 0.+1.j, 0.+0.j, 0.+0.j, 1.+0.j,\n",
              "         1.+0.j, 0.+0.j, 0.+0.j, 0.+0.j, 0.+1.j, 0.+0.j, 0.+0.j, 0.+0.j,\n",
              "         0.+0.j, 0.+0.j, 0.+0.j, 0.+0.j, 0.+0.j, 0.+0.j, 0.+0.j, 0.+0.j,\n",
              "         0.+0.j, 0.+0.j, 0.+0.j, 0.+0.j, 0.+0.j, 0.+0.j],\n",
              "        [0.+0.j, 0.+0.j, 0.+0.j, 0.+0.j, 0.+0.j, 0.+1.j, 0.+0.j, 0.+0.j,\n",
              "         1.+0.j, 1.+0.j, 0.+0.j, 0.+0.j, 0.+0.j, 0.+1.j, 0.+0.j, 0.+0.j,\n",
              "         0.+0.j, 0.+0.j, 0.+0.j, 0.+0.j, 0.+0.j, 0.+0.j, 0.+0.j, 0.+0.j,\n",
              "         0.+0.j, 0.+0.j, 0.+0.j, 0.+0.j, 0.+0.j, 0.+0.j],\n",
              "        [0.+0.j, 0.+0.j, 0.+0.j, 0.+0.j, 0.+0.j, 0.+0.j, 0.+0.j, 0.+0.j,\n",
              "         0.+0.j, 1.+0.j, 0.+0.j, 0.+0.j, 0.+0.j, 0.+0.j, 0.+1.j, 0.+0.j,\n",
              "         0.+0.j, 0.+0.j, 0.+0.j, 0.+0.j, 0.+0.j, 0.+0.j, 0.+0.j, 0.+0.j,\n",
              "         0.+0.j, 0.+0.j, 0.+0.j, 0.+0.j, 0.+0.j, 0.+0.j],\n",
              "        [0.+0.j, 0.+0.j, 0.+0.j, 0.+0.j, 0.+0.j, 0.+0.j, 0.+1.j, 0.+0.j,\n",
              "         0.+0.j, 0.+0.j, 1.+0.j, 1.+0.j, 0.+0.j, 0.+0.j, 0.+0.j, 0.+1.j,\n",
              "         0.+0.j, 0.+0.j, 0.+0.j, 0.+0.j, 0.+0.j, 0.+0.j, 0.+0.j, 0.+0.j,\n",
              "         0.+0.j, 0.+0.j, 0.+0.j, 0.+0.j, 0.+0.j, 0.+0.j],\n",
              "        [0.+0.j, 0.+0.j, 0.+0.j, 0.+0.j, 0.+0.j, 0.+0.j, 0.+0.j, 0.+1.j,\n",
              "         0.+0.j, 0.+0.j, 0.+0.j, 1.+0.j, 1.+0.j, 0.+0.j, 0.+0.j, 0.+0.j,\n",
              "         0.+1.j, 0.+0.j, 0.+0.j, 0.+0.j, 0.+0.j, 0.+0.j, 0.+0.j, 0.+0.j,\n",
              "         0.+0.j, 0.+0.j, 0.+0.j, 0.+0.j, 0.+0.j, 0.+0.j],\n",
              "        [0.+0.j, 0.+0.j, 0.+0.j, 0.+0.j, 0.+0.j, 0.+0.j, 0.+0.j, 0.+0.j,\n",
              "         0.+1.j, 0.+0.j, 0.+0.j, 0.+0.j, 1.+0.j, 1.+0.j, 0.+0.j, 0.+0.j,\n",
              "         0.+0.j, 0.+1.j, 0.+0.j, 0.+0.j, 0.+0.j, 0.+0.j, 0.+0.j, 0.+0.j,\n",
              "         0.+0.j, 0.+0.j, 0.+0.j, 0.+0.j, 0.+0.j, 0.+0.j],\n",
              "        [0.+0.j, 0.+0.j, 0.+0.j, 0.+0.j, 0.+0.j, 0.+0.j, 0.+0.j, 0.+0.j,\n",
              "         0.+0.j, 0.+1.j, 0.+0.j, 0.+0.j, 0.+0.j, 1.+0.j, 1.+0.j, 0.+0.j,\n",
              "         0.+0.j, 0.+0.j, 0.+1.j, 0.+0.j, 0.+0.j, 0.+0.j, 0.+0.j, 0.+0.j,\n",
              "         0.+0.j, 0.+0.j, 0.+0.j, 0.+0.j, 0.+0.j, 0.+0.j],\n",
              "        [0.+0.j, 0.+0.j, 0.+0.j, 0.+0.j, 0.+0.j, 0.+0.j, 0.+0.j, 0.+0.j,\n",
              "         0.+0.j, 0.+0.j, 0.+0.j, 0.+0.j, 0.+0.j, 0.+0.j, 1.+0.j, 0.+0.j,\n",
              "         0.+0.j, 0.+0.j, 0.+0.j, 0.+1.j, 0.+0.j, 0.+0.j, 0.+0.j, 0.+0.j,\n",
              "         0.+0.j, 0.+0.j, 0.+0.j, 0.+0.j, 0.+0.j, 0.+0.j],\n",
              "        [0.+0.j, 0.+0.j, 0.+0.j, 0.+0.j, 0.+0.j, 0.+0.j, 0.+0.j, 0.+0.j,\n",
              "         0.+0.j, 0.+0.j, 0.+1.j, 0.+0.j, 0.+0.j, 0.+0.j, 0.+0.j, 1.+0.j,\n",
              "         0.+0.j, 0.+0.j, 0.+0.j, 0.+0.j, 0.+0.j, 0.+0.j, 0.+0.j, 0.+0.j,\n",
              "         0.+0.j, 0.+0.j, 0.+0.j, 0.+0.j, 0.+0.j, 0.+0.j],\n",
              "        [0.+0.j, 0.+0.j, 0.+0.j, 0.+0.j, 0.+0.j, 0.+0.j, 0.+0.j, 0.+0.j,\n",
              "         0.+0.j, 0.+0.j, 0.+0.j, 0.+1.j, 0.+0.j, 0.+0.j, 0.+0.j, 1.+0.j,\n",
              "         1.+0.j, 0.+0.j, 0.+0.j, 0.+0.j, 0.+1.j, 0.+0.j, 0.+0.j, 0.+0.j,\n",
              "         0.+0.j, 0.+0.j, 0.+0.j, 0.+0.j, 0.+0.j, 0.+0.j],\n",
              "        [0.+0.j, 0.+0.j, 0.+0.j, 0.+0.j, 0.+0.j, 0.+0.j, 0.+0.j, 0.+0.j,\n",
              "         0.+0.j, 0.+0.j, 0.+0.j, 0.+0.j, 0.+1.j, 0.+0.j, 0.+0.j, 0.+0.j,\n",
              "         1.+0.j, 1.+0.j, 0.+0.j, 0.+0.j, 0.+0.j, 0.+1.j, 0.+0.j, 0.+0.j,\n",
              "         0.+0.j, 0.+0.j, 0.+0.j, 0.+0.j, 0.+0.j, 0.+0.j],\n",
              "        [0.+0.j, 0.+0.j, 0.+0.j, 0.+0.j, 0.+0.j, 0.+0.j, 0.+0.j, 0.+0.j,\n",
              "         0.+0.j, 0.+0.j, 0.+0.j, 0.+0.j, 0.+0.j, 0.+1.j, 0.+0.j, 0.+0.j,\n",
              "         0.+0.j, 1.+0.j, 1.+0.j, 0.+0.j, 0.+0.j, 0.+0.j, 0.+1.j, 0.+0.j,\n",
              "         0.+0.j, 0.+0.j, 0.+0.j, 0.+0.j, 0.+0.j, 0.+0.j],\n",
              "        [0.+0.j, 0.+0.j, 0.+0.j, 0.+0.j, 0.+0.j, 0.+0.j, 0.+0.j, 0.+0.j,\n",
              "         0.+0.j, 0.+0.j, 0.+0.j, 0.+0.j, 0.+0.j, 0.+0.j, 0.+1.j, 0.+0.j,\n",
              "         0.+0.j, 0.+0.j, 1.+0.j, 1.+0.j, 0.+0.j, 0.+0.j, 0.+0.j, 0.+1.j,\n",
              "         0.+0.j, 0.+0.j, 0.+0.j, 0.+0.j, 0.+0.j, 0.+0.j],\n",
              "        [0.+0.j, 0.+0.j, 0.+0.j, 0.+0.j, 0.+0.j, 0.+0.j, 0.+0.j, 0.+0.j,\n",
              "         0.+0.j, 0.+0.j, 0.+0.j, 0.+0.j, 0.+0.j, 0.+0.j, 0.+0.j, 0.+1.j,\n",
              "         0.+0.j, 0.+0.j, 0.+0.j, 0.+0.j, 1.+0.j, 0.+0.j, 0.+0.j, 0.+0.j,\n",
              "         0.+0.j, 0.+0.j, 0.+0.j, 0.+0.j, 0.+0.j, 0.+0.j],\n",
              "        [0.+0.j, 0.+0.j, 0.+0.j, 0.+0.j, 0.+0.j, 0.+0.j, 0.+0.j, 0.+0.j,\n",
              "         0.+0.j, 0.+0.j, 0.+0.j, 0.+0.j, 0.+0.j, 0.+0.j, 0.+0.j, 0.+0.j,\n",
              "         0.+1.j, 0.+0.j, 0.+0.j, 0.+0.j, 1.+0.j, 1.+0.j, 0.+0.j, 0.+0.j,\n",
              "         0.+1.j, 0.+0.j, 0.+0.j, 0.+0.j, 0.+0.j, 0.+0.j],\n",
              "        [0.+0.j, 0.+0.j, 0.+0.j, 0.+0.j, 0.+0.j, 0.+0.j, 0.+0.j, 0.+0.j,\n",
              "         0.+0.j, 0.+0.j, 0.+0.j, 0.+0.j, 0.+0.j, 0.+0.j, 0.+0.j, 0.+0.j,\n",
              "         0.+0.j, 0.+1.j, 0.+0.j, 0.+0.j, 0.+0.j, 1.+0.j, 1.+0.j, 0.+0.j,\n",
              "         0.+0.j, 0.+1.j, 0.+0.j, 0.+0.j, 0.+0.j, 0.+0.j],\n",
              "        [0.+0.j, 0.+0.j, 0.+0.j, 0.+0.j, 0.+0.j, 0.+0.j, 0.+0.j, 0.+0.j,\n",
              "         0.+0.j, 0.+0.j, 0.+0.j, 0.+0.j, 0.+0.j, 0.+0.j, 0.+0.j, 0.+0.j,\n",
              "         0.+0.j, 0.+0.j, 0.+1.j, 0.+0.j, 0.+0.j, 0.+0.j, 1.+0.j, 1.+0.j,\n",
              "         0.+0.j, 0.+0.j, 0.+1.j, 0.+0.j, 0.+0.j, 0.+0.j],\n",
              "        [0.+0.j, 0.+0.j, 0.+0.j, 0.+0.j, 0.+0.j, 0.+0.j, 0.+0.j, 0.+0.j,\n",
              "         0.+0.j, 0.+0.j, 0.+0.j, 0.+0.j, 0.+0.j, 0.+0.j, 0.+0.j, 0.+0.j,\n",
              "         0.+0.j, 0.+0.j, 0.+0.j, 0.+0.j, 0.+1.j, 0.+0.j, 0.+0.j, 0.+0.j,\n",
              "         1.+0.j, 0.+0.j, 0.+0.j, 0.+0.j, 0.+0.j, 0.+0.j],\n",
              "        [0.+0.j, 0.+0.j, 0.+0.j, 0.+0.j, 0.+0.j, 0.+0.j, 0.+0.j, 0.+0.j,\n",
              "         0.+0.j, 0.+0.j, 0.+0.j, 0.+0.j, 0.+0.j, 0.+0.j, 0.+0.j, 0.+0.j,\n",
              "         0.+0.j, 0.+0.j, 0.+0.j, 0.+0.j, 0.+0.j, 0.+1.j, 0.+0.j, 0.+0.j,\n",
              "         1.+0.j, 1.+0.j, 0.+0.j, 0.+1.j, 0.+0.j, 0.+0.j],\n",
              "        [0.+0.j, 0.+0.j, 0.+0.j, 0.+0.j, 0.+0.j, 0.+0.j, 0.+0.j, 0.+0.j,\n",
              "         0.+0.j, 0.+0.j, 0.+0.j, 0.+0.j, 0.+0.j, 0.+0.j, 0.+0.j, 0.+0.j,\n",
              "         0.+0.j, 0.+0.j, 0.+0.j, 0.+0.j, 0.+0.j, 0.+0.j, 0.+1.j, 0.+0.j,\n",
              "         0.+0.j, 1.+0.j, 1.+0.j, 0.+0.j, 0.+1.j, 0.+0.j],\n",
              "        [0.+0.j, 0.+0.j, 0.+0.j, 0.+0.j, 0.+0.j, 0.+0.j, 0.+0.j, 0.+0.j,\n",
              "         0.+0.j, 0.+0.j, 0.+0.j, 0.+0.j, 0.+0.j, 0.+0.j, 0.+0.j, 0.+0.j,\n",
              "         0.+0.j, 0.+0.j, 0.+0.j, 0.+0.j, 0.+0.j, 0.+0.j, 0.+0.j, 0.+0.j,\n",
              "         0.+1.j, 0.+0.j, 0.+0.j, 1.+0.j, 0.+0.j, 0.+0.j],\n",
              "        [0.+0.j, 0.+0.j, 0.+0.j, 0.+0.j, 0.+0.j, 0.+0.j, 0.+0.j, 0.+0.j,\n",
              "         0.+0.j, 0.+0.j, 0.+0.j, 0.+0.j, 0.+0.j, 0.+0.j, 0.+0.j, 0.+0.j,\n",
              "         0.+0.j, 0.+0.j, 0.+0.j, 0.+0.j, 0.+0.j, 0.+0.j, 0.+0.j, 0.+0.j,\n",
              "         0.+0.j, 0.+1.j, 0.+0.j, 1.+0.j, 1.+0.j, 0.+1.j],\n",
              "        [0.+0.j, 0.+0.j, 0.+0.j, 0.+0.j, 0.+0.j, 0.+0.j, 0.+0.j, 0.+0.j,\n",
              "         0.+0.j, 0.+0.j, 0.+0.j, 0.+0.j, 0.+0.j, 0.+0.j, 0.+0.j, 0.+0.j,\n",
              "         0.+0.j, 0.+0.j, 0.+0.j, 0.+0.j, 0.+0.j, 0.+0.j, 0.+0.j, 0.+0.j,\n",
              "         0.+0.j, 0.+0.j, 0.+0.j, 0.+1.j, 0.+0.j, 1.+0.j]]),\n",
              " array([[(-1, 1), 0, (1, -3), 0, 0, 0, 0, 0, 0, 0, 0, 0, 0, 0, 0, 0, 0, 0,\n",
              "         0, 0, 0, 0, 0, 0, 0, 0, 0, 0, 0, 0],\n",
              "        [(-1, 2), (-2, 2), (2, -3), 0, (2, -5), 0, 0, 0, 0, 0, 0, 0, 0, 0,\n",
              "         0, 0, 0, 0, 0, 0, 0, 0, 0, 0, 0, 0, 0, 0, 0, 0],\n",
              "        [0, 0, (-3, 3), 0, 0, (3, -6), 0, 0, 0, 0, 0, 0, 0, 0, 0, 0, 0, 0,\n",
              "         0, 0, 0, 0, 0, 0, 0, 0, 0, 0, 0, 0],\n",
              "        [0, (-2, 4), 0, (-4, 4), (4, -5), 0, 0, (4, -8), 0, 0, 0, 0, 0, 0,\n",
              "         0, 0, 0, 0, 0, 0, 0, 0, 0, 0, 0, 0, 0, 0, 0, 0],\n",
              "        [0, 0, (-3, 5), 0, (-5, 5), (5, -6), 0, 0, (5, -9), 0, 0, 0, 0, 0,\n",
              "         0, 0, 0, 0, 0, 0, 0, 0, 0, 0, 0, 0, 0, 0, 0, 0],\n",
              "        [0, 0, 0, 0, 0, (-6, 6), 0, 0, 0, (6, -10), 0, 0, 0, 0, 0, 0, 0,\n",
              "         0, 0, 0, 0, 0, 0, 0, 0, 0, 0, 0, 0, 0],\n",
              "        [0, 0, 0, (-4, 7), 0, 0, (-7, 7), (7, -8), 0, 0, 0, (7, -12), 0,\n",
              "         0, 0, 0, 0, 0, 0, 0, 0, 0, 0, 0, 0, 0, 0, 0, 0, 0],\n",
              "        [0, 0, 0, 0, (-5, 8), 0, 0, (-8, 8), (8, -9), 0, 0, 0, (8, -13),\n",
              "         0, 0, 0, 0, 0, 0, 0, 0, 0, 0, 0, 0, 0, 0, 0, 0, 0],\n",
              "        [0, 0, 0, 0, 0, (-6, 9), 0, 0, (-9, 9), (9, -10), 0, 0, 0,\n",
              "         (9, -14), 0, 0, 0, 0, 0, 0, 0, 0, 0, 0, 0, 0, 0, 0, 0, 0],\n",
              "        [0, 0, 0, 0, 0, 0, 0, 0, 0, (-10, 10), 0, 0, 0, 0, (10, -15), 0,\n",
              "         0, 0, 0, 0, 0, 0, 0, 0, 0, 0, 0, 0, 0, 0],\n",
              "        [0, 0, 0, 0, 0, 0, (-7, 11), 0, 0, 0, (-11, 11), (11, -12), 0, 0,\n",
              "         0, (11, -16), 0, 0, 0, 0, 0, 0, 0, 0, 0, 0, 0, 0, 0, 0],\n",
              "        [0, 0, 0, 0, 0, 0, 0, (-8, 12), 0, 0, 0, (-12, 12), (12, -13), 0,\n",
              "         0, 0, (12, -17), 0, 0, 0, 0, 0, 0, 0, 0, 0, 0, 0, 0, 0],\n",
              "        [0, 0, 0, 0, 0, 0, 0, 0, (-9, 13), 0, 0, 0, (-13, 13), (13, -14),\n",
              "         0, 0, 0, (13, -18), 0, 0, 0, 0, 0, 0, 0, 0, 0, 0, 0, 0],\n",
              "        [0, 0, 0, 0, 0, 0, 0, 0, 0, (-10, 14), 0, 0, 0, (-14, 14),\n",
              "         (14, -15), 0, 0, 0, (14, -19), 0, 0, 0, 0, 0, 0, 0, 0, 0, 0, 0],\n",
              "        [0, 0, 0, 0, 0, 0, 0, 0, 0, 0, 0, 0, 0, 0, (-15, 15), 0, 0, 0, 0,\n",
              "         (15, -20), 0, 0, 0, 0, 0, 0, 0, 0, 0, 0],\n",
              "        [0, 0, 0, 0, 0, 0, 0, 0, 0, 0, (-11, 16), 0, 0, 0, 0, (16, -16),\n",
              "         0, 0, 0, 0, 0, 0, 0, 0, 0, 0, 0, 0, 0, 0],\n",
              "        [0, 0, 0, 0, 0, 0, 0, 0, 0, 0, 0, (-12, 17), 0, 0, 0, (-16, 17),\n",
              "         (17, -17), 0, 0, 0, (17, -21), 0, 0, 0, 0, 0, 0, 0, 0, 0],\n",
              "        [0, 0, 0, 0, 0, 0, 0, 0, 0, 0, 0, 0, (-13, 18), 0, 0, 0,\n",
              "         (-17, 18), (18, -18), 0, 0, 0, (18, -22), 0, 0, 0, 0, 0, 0, 0, 0],\n",
              "        [0, 0, 0, 0, 0, 0, 0, 0, 0, 0, 0, 0, 0, (-14, 19), 0, 0, 0,\n",
              "         (-18, 19), (19, -19), 0, 0, 0, (19, -23), 0, 0, 0, 0, 0, 0, 0],\n",
              "        [0, 0, 0, 0, 0, 0, 0, 0, 0, 0, 0, 0, 0, 0, (-15, 20), 0, 0, 0,\n",
              "         (-19, 20), (20, -20), 0, 0, 0, (20, -24), 0, 0, 0, 0, 0, 0],\n",
              "        [0, 0, 0, 0, 0, 0, 0, 0, 0, 0, 0, 0, 0, 0, 0, (-16, 21), 0, 0, 0,\n",
              "         0, (21, -21), 0, 0, 0, 0, 0, 0, 0, 0, 0],\n",
              "        [0, 0, 0, 0, 0, 0, 0, 0, 0, 0, 0, 0, 0, 0, 0, 0, (-17, 22), 0, 0,\n",
              "         0, (-21, 22), (22, -22), 0, 0, (22, -25), 0, 0, 0, 0, 0],\n",
              "        [0, 0, 0, 0, 0, 0, 0, 0, 0, 0, 0, 0, 0, 0, 0, 0, 0, (-18, 23), 0,\n",
              "         0, 0, (-22, 23), (23, -23), 0, 0, (23, -26), 0, 0, 0, 0],\n",
              "        [0, 0, 0, 0, 0, 0, 0, 0, 0, 0, 0, 0, 0, 0, 0, 0, 0, 0, (-19, 24),\n",
              "         0, 0, 0, (-23, 24), (24, -24), 0, 0, (24, -27), 0, 0, 0],\n",
              "        [0, 0, 0, 0, 0, 0, 0, 0, 0, 0, 0, 0, 0, 0, 0, 0, 0, 0, 0, 0,\n",
              "         (-21, 25), 0, 0, 0, (25, -25), 0, 0, 0, 0, 0],\n",
              "        [0, 0, 0, 0, 0, 0, 0, 0, 0, 0, 0, 0, 0, 0, 0, 0, 0, 0, 0, 0, 0,\n",
              "         (-22, 26), 0, 0, (-25, 26), (26, -26), 0, (26, -28), 0, 0],\n",
              "        [0, 0, 0, 0, 0, 0, 0, 0, 0, 0, 0, 0, 0, 0, 0, 0, 0, 0, 0, 0, 0, 0,\n",
              "         (-23, 27), 0, 0, (-26, 27), (27, -27), 0, (27, -29), 0],\n",
              "        [0, 0, 0, 0, 0, 0, 0, 0, 0, 0, 0, 0, 0, 0, 0, 0, 0, 0, 0, 0, 0, 0,\n",
              "         0, 0, (-25, 28), 0, 0, (28, -28), 0, 0],\n",
              "        [0, 0, 0, 0, 0, 0, 0, 0, 0, 0, 0, 0, 0, 0, 0, 0, 0, 0, 0, 0, 0, 0,\n",
              "         0, 0, 0, (-26, 29), 0, (-28, 29), (29, -29), (29, -30)],\n",
              "        [0, 0, 0, 0, 0, 0, 0, 0, 0, 0, 0, 0, 0, 0, 0, 0, 0, 0, 0, 0, 0, 0,\n",
              "         0, 0, 0, 0, 0, (-28, 30), 0, (30, -30)]], dtype=object))"
            ]
          },
          "metadata": {
            "tags": []
          },
          "execution_count": 8
        }
      ]
    },
    {
      "cell_type": "code",
      "metadata": {
        "id": "Xdzb6KVH-UAH"
      },
      "source": [
        "!touch images/d.png\n",
        "!rm images/*.png"
      ],
      "execution_count": null,
      "outputs": []
    },
    {
      "cell_type": "markdown",
      "metadata": {
        "id": "gtxWzvMiUk3m"
      },
      "source": [
        "# Generate image sequence with distinct tilings\n",
        "\n",
        "The generated image are saved as *Files/images/frame_0001.png*."
      ]
    },
    {
      "cell_type": "code",
      "metadata": {
        "colab": {
          "base_uri": "https://localhost:8080/",
          "height": 1000
        },
        "id": "7vJSYMuHW_KU",
        "outputId": "4f4077d9-efe8-4243-c7ed-69a05ecd3226"
      },
      "source": [
        "# which frames to export\n",
        "# NB you can set the frame_index so that the export doesn't have to start with j=0,\n",
        "# or use a step value, e.g. range(100,640,10)\n",
        "frame_index = list(range(0,64, 1))\n",
        "\n",
        "for j,res in enumerate(getTilings(B), start=1):\n",
        "  \n",
        "  if j>max(frame_index):\n",
        "    break\n",
        "  elif j not in frame_index:\n",
        "    continue\n",
        "  \n",
        "  print(f'# {j}')\n",
        "  fig, ax = plt.subplots()\n",
        "\n",
        "  # matplotlib, colortable: https://stackoverflow.com/questions/22408237/named-colors-in-matplotlib/37232760\n",
        "  drawTiling(res, ax, vcolor='antiquewhite', hcolor='burlywood')\n",
        "\n",
        "  # export and show the result\n",
        "  plt.axis('off')\n",
        "  plt.savefig(\"images/frame_{:04d}.png\".format(j), dpi=None, transparent=True, bbox_inches='tight')\n",
        "  plt.show()\n",
        "\n"
      ],
      "execution_count": null,
      "outputs": [
        {
          "output_type": "stream",
          "text": [
            "# 1\n"
          ],
          "name": "stdout"
        },
        {
          "output_type": "display_data",
          "data": {
            "image/png": "[encoded data removed]",
            "text/plain": [
              "<Figure size 432x288 with 1 Axes>"
            ]
          },
          "metadata": {
            "tags": [],
            "needs_background": "light"
          }
        },
        {
          "output_type": "stream",
          "text": [
            "# 2\n"
          ],
          "name": "stdout"
        },
        {
          "output_type": "display_data",
          "data": {
            "image/png": "[encoded data removed]",
            "text/plain": [
              "<Figure size 432x288 with 1 Axes>"
            ]
          },
          "metadata": {
            "tags": [],
            "needs_background": "light"
          }
        },
        {
          "output_type": "stream",
          "text": [
            "# 3\n"
          ],
          "name": "stdout"
        },
        {
          "output_type": "display_data",
          "data": {
            "image/png": "[encoded data removed]",
            "text/plain": [
              "<Figure size 432x288 with 1 Axes>"
            ]
          },
          "metadata": {
            "tags": [],
            "needs_background": "light"
          }
        },
        {
          "output_type": "stream",
          "text": [
            "# 4\n"
          ],
          "name": "stdout"
        },
        {
          "output_type": "display_data",
          "data": {
            "image/png": "[encoded data removed]",
            "text/plain": [
              "<Figure size 432x288 with 1 Axes>"
            ]
          },
          "metadata": {
            "tags": [],
            "needs_background": "light"
          }
        },
        {
          "output_type": "stream",
          "text": [
            "# 5\n"
          ],
          "name": "stdout"
        },
        {
          "output_type": "display_data",
          "data": {
            "image/png": "[encoded data removed]",
            "text/plain": [
              "<Figure size 432x288 with 1 Axes>"
            ]
          },
          "metadata": {
            "tags": [],
            "needs_background": "light"
          }
        },
        {
          "output_type": "stream",
          "text": [
            "# 6\n"
          ],
          "name": "stdout"
        },
        {
          "output_type": "display_data",
          "data": {
            "image/png": "[encoded data removed]",
            "text/plain": [
              "<Figure size 432x288 with 1 Axes>"
            ]
          },
          "metadata": {
            "tags": [],
            "needs_background": "light"
          }
        },
        {
          "output_type": "stream",
          "text": [
            "# 7\n"
          ],
          "name": "stdout"
        },
        {
          "output_type": "display_data",
          "data": {
            "image/png": "[encoded data removed]",
            "text/plain": [
              "<Figure size 432x288 with 1 Axes>"
            ]
          },
          "metadata": {
            "tags": [],
            "needs_background": "light"
          }
        },
        {
          "output_type": "stream",
          "text": [
            "# 8\n"
          ],
          "name": "stdout"
        },
        {
          "output_type": "display_data",
          "data": {
            "image/png": "[encoded data removed]",
            "text/plain": [
              "<Figure size 432x288 with 1 Axes>"
            ]
          },
          "metadata": {
            "tags": [],
            "needs_background": "light"
          }
        },
        {
          "output_type": "stream",
          "text": [
            "# 9\n"
          ],
          "name": "stdout"
        },
        {
          "output_type": "display_data",
          "data": {
            "image/png": "[encoded data removed]",
            "text/plain": [
              "<Figure size 432x288 with 1 Axes>"
            ]
          },
          "metadata": {
            "tags": [],
            "needs_background": "light"
          }
        },
        {
          "output_type": "stream",
          "text": [
            "# 10\n"
          ],
          "name": "stdout"
        },
        {
          "output_type": "display_data",
          "data": {
            "image/png": "[encoded data removed]",
            "text/plain": [
              "<Figure size 432x288 with 1 Axes>"
            ]
          },
          "metadata": {
            "tags": [],
            "needs_background": "light"
          }
        },
        {
          "output_type": "stream",
          "text": [
            "# 11\n"
          ],
          "name": "stdout"
        },
        {
          "output_type": "display_data",
          "data": {
            "image/png": "[encoded data removed]",
            "text/plain": [
              "<Figure size 432x288 with 1 Axes>"
            ]
          },
          "metadata": {
            "tags": [],
            "needs_background": "light"
          }
        },
        {
          "output_type": "stream",
          "text": [
            "# 12\n"
          ],
          "name": "stdout"
        },
        {
          "output_type": "display_data",
          "data": {
            "image/png": "[encoded data removed]",
            "text/plain": [
              "<Figure size 432x288 with 1 Axes>"
            ]
          },
          "metadata": {
            "tags": [],
            "needs_background": "light"
          }
        },
        {
          "output_type": "stream",
          "text": [
            "# 13\n"
          ],
          "name": "stdout"
        },
        {
          "output_type": "display_data",
          "data": {
            "image/png": "[encoded data removed]",
            "text/plain": [
              "<Figure size 432x288 with 1 Axes>"
            ]
          },
          "metadata": {
            "tags": [],
            "needs_background": "light"
          }
        },
        {
          "output_type": "stream",
          "text": [
            "# 14\n"
          ],
          "name": "stdout"
        },
        {
          "output_type": "display_data",
          "data": {
            "image/png": "[encoded data removed]",
            "text/plain": [
              "<Figure size 432x288 with 1 Axes>"
            ]
          },
          "metadata": {
            "tags": [],
            "needs_background": "light"
          }
        },
        {
          "output_type": "stream",
          "text": [
            "# 15\n"
          ],
          "name": "stdout"
        },
        {
          "output_type": "display_data",
          "data": {
            "image/png": "[encoded data removed]",
            "text/plain": [
              "<Figure size 432x288 with 1 Axes>"
            ]
          },
          "metadata": {
            "tags": [],
            "needs_background": "light"
          }
        },
        {
          "output_type": "stream",
          "text": [
            "# 16\n"
          ],
          "name": "stdout"
        },
        {
          "output_type": "display_data",
          "data": {
            "image/png": "[encoded data removed]",
            "text/plain": [
              "<Figure size 432x288 with 1 Axes>"
            ]
          },
          "metadata": {
            "tags": [],
            "needs_background": "light"
          }
        },
        {
          "output_type": "stream",
          "text": [
            "# 17\n"
          ],
          "name": "stdout"
        },
        {
          "output_type": "display_data",
          "data": {
            "image/png": "[encoded data removed]",
            "text/plain": [
              "<Figure size 432x288 with 1 Axes>"
            ]
          },
          "metadata": {
            "tags": [],
            "needs_background": "light"
          }
        },
        {
          "output_type": "stream",
          "text": [
            "# 18\n"
          ],
          "name": "stdout"
        },
        {
          "output_type": "display_data",
          "data": {
            "image/png": "[encoded data removed]",
            "text/plain": [
              "<Figure size 432x288 with 1 Axes>"
            ]
          },
          "metadata": {
            "tags": [],
            "needs_background": "light"
          }
        },
        {
          "output_type": "stream",
          "text": [
            "# 19\n"
          ],
          "name": "stdout"
        },
        {
          "output_type": "display_data",
          "data": {
            "image/png": "[encoded data removed]",
            "text/plain": [
              "<Figure size 432x288 with 1 Axes>"
            ]
          },
          "metadata": {
            "tags": [],
            "needs_background": "light"
          }
        },
        {
          "output_type": "stream",
          "text": [
            "# 20\n"
          ],
          "name": "stdout"
        },
        {
          "output_type": "display_data",
          "data": {
            "image/png": "[encoded data removed]",
            "text/plain": [
              "<Figure size 432x288 with 1 Axes>"
            ]
          },
          "metadata": {
            "tags": [],
            "needs_background": "light"
          }
        },
        {
          "output_type": "stream",
          "text": [
            "# 21\n"
          ],
          "name": "stdout"
        },
        {
          "output_type": "display_data",
          "data": {
            "image/png": "[encoded data removed]",
            "text/plain": [
              "<Figure size 432x288 with 1 Axes>"
            ]
          },
          "metadata": {
            "tags": [],
            "needs_background": "light"
          }
        },
        {
          "output_type": "stream",
          "text": [
            "# 22\n"
          ],
          "name": "stdout"
        },
        {
          "output_type": "display_data",
          "data": {
            "image/png": "[encoded data removed]",
            "text/plain": [
              "<Figure size 432x288 with 1 Axes>"
            ]
          },
          "metadata": {
            "tags": [],
            "needs_background": "light"
          }
        },
        {
          "output_type": "stream",
          "text": [
            "# 23\n"
          ],
          "name": "stdout"
        },
        {
          "output_type": "display_data",
          "data": {
            "image/png": "[encoded data removed]",
            "text/plain": [
              "<Figure size 432x288 with 1 Axes>"
            ]
          },
          "metadata": {
            "tags": [],
            "needs_background": "light"
          }
        },
        {
          "output_type": "stream",
          "text": [
            "# 24\n"
          ],
          "name": "stdout"
        },
        {
          "output_type": "display_data",
          "data": {
            "image/png": "[encoded data removed]",
            "text/plain": [
              "<Figure size 432x288 with 1 Axes>"
            ]
          },
          "metadata": {
            "tags": [],
            "needs_background": "light"
          }
        },
        {
          "output_type": "stream",
          "text": [
            "# 25\n"
          ],
          "name": "stdout"
        },
        {
          "output_type": "display_data",
          "data": {
            "image/png": "[encoded data removed]",
            "text/plain": [
              "<Figure size 432x288 with 1 Axes>"
            ]
          },
          "metadata": {
            "tags": [],
            "needs_background": "light"
          }
        },
        {
          "output_type": "stream",
          "text": [
            "# 26\n"
          ],
          "name": "stdout"
        },
        {
          "output_type": "display_data",
          "data": {
            "image/png": "[encoded data removed]",
            "text/plain": [
              "<Figure size 432x288 with 1 Axes>"
            ]
          },
          "metadata": {
            "tags": [],
            "needs_background": "light"
          }
        },
        {
          "output_type": "stream",
          "text": [
            "# 27\n"
          ],
          "name": "stdout"
        },
        {
          "output_type": "display_data",
          "data": {
            "image/png": "[encoded data removed]",
            "text/plain": [
              "<Figure size 432x288 with 1 Axes>"
            ]
          },
          "metadata": {
            "tags": [],
            "needs_background": "light"
          }
        },
        {
          "output_type": "stream",
          "text": [
            "# 28\n"
          ],
          "name": "stdout"
        },
        {
          "output_type": "display_data",
          "data": {
            "image/png": "[encoded data removed]",
            "text/plain": [
              "<Figure size 432x288 with 1 Axes>"
            ]
          },
          "metadata": {
            "tags": [],
            "needs_background": "light"
          }
        },
        {
          "output_type": "stream",
          "text": [
            "# 29\n"
          ],
          "name": "stdout"
        },
        {
          "output_type": "display_data",
          "data": {
            "image/png": "[encoded data removed]",
            "text/plain": [
              "<Figure size 432x288 with 1 Axes>"
            ]
          },
          "metadata": {
            "tags": [],
            "needs_background": "light"
          }
        },
        {
          "output_type": "stream",
          "text": [
            "# 30\n"
          ],
          "name": "stdout"
        },
        {
          "output_type": "display_data",
          "data": {
            "image/png": "[encoded data removed]",
            "text/plain": [
              "<Figure size 432x288 with 1 Axes>"
            ]
          },
          "metadata": {
            "tags": [],
            "needs_background": "light"
          }
        },
        {
          "output_type": "stream",
          "text": [
            "# 31\n"
          ],
          "name": "stdout"
        },
        {
          "output_type": "display_data",
          "data": {
            "image/png": "[encoded data removed]",
            "text/plain": [
              "<Figure size 432x288 with 1 Axes>"
            ]
          },
          "metadata": {
            "tags": [],
            "needs_background": "light"
          }
        },
        {
          "output_type": "stream",
          "text": [
            "# 32\n"
          ],
          "name": "stdout"
        },
        {
          "output_type": "display_data",
          "data": {
            "image/png": "[encoded data removed]",
            "text/plain": [
              "<Figure size 432x288 with 1 Axes>"
            ]
          },
          "metadata": {
            "tags": [],
            "needs_background": "light"
          }
        },
        {
          "output_type": "stream",
          "text": [
            "# 33\n"
          ],
          "name": "stdout"
        },
        {
          "output_type": "display_data",
          "data": {
            "image/png": "[encoded data removed]",
            "text/plain": [
              "<Figure size 432x288 with 1 Axes>"
            ]
          },
          "metadata": {
            "tags": [],
            "needs_background": "light"
          }
        },
        {
          "output_type": "stream",
          "text": [
            "# 34\n"
          ],
          "name": "stdout"
        },
        {
          "output_type": "display_data",
          "data": {
            "image/png": "[encoded data removed]",
            "text/plain": [
              "<Figure size 432x288 with 1 Axes>"
            ]
          },
          "metadata": {
            "tags": [],
            "needs_background": "light"
          }
        },
        {
          "output_type": "stream",
          "text": [
            "# 35\n"
          ],
          "name": "stdout"
        },
        {
          "output_type": "display_data",
          "data": {
            "image/png": "[encoded data removed]",
            "text/plain": [
              "<Figure size 432x288 with 1 Axes>"
            ]
          },
          "metadata": {
            "tags": [],
            "needs_background": "light"
          }
        },
        {
          "output_type": "stream",
          "text": [
            "# 36\n"
          ],
          "name": "stdout"
        },
        {
          "output_type": "display_data",
          "data": {
            "image/png": "[encoded data removed]",
            "text/plain": [
              "<Figure size 432x288 with 1 Axes>"
            ]
          },
          "metadata": {
            "tags": [],
            "needs_background": "light"
          }
        },
        {
          "output_type": "stream",
          "text": [
            "# 37\n"
          ],
          "name": "stdout"
        },
        {
          "output_type": "display_data",
          "data": {
            "image/png": "[encoded data removed]",
            "text/plain": [
              "<Figure size 432x288 with 1 Axes>"
            ]
          },
          "metadata": {
            "tags": [],
            "needs_background": "light"
          }
        },
        {
          "output_type": "stream",
          "text": [
            "# 38\n"
          ],
          "name": "stdout"
        },
        {
          "output_type": "display_data",
          "data": {
            "image/png": "[encoded data removed]",
            "text/plain": [
              "<Figure size 432x288 with 1 Axes>"
            ]
          },
          "metadata": {
            "tags": [],
            "needs_background": "light"
          }
        },
        {
          "output_type": "stream",
          "text": [
            "# 39\n"
          ],
          "name": "stdout"
        },
        {
          "output_type": "display_data",
          "data": {
            "image/png": "[encoded data removed]",
            "text/plain": [
              "<Figure size 432x288 with 1 Axes>"
            ]
          },
          "metadata": {
            "tags": [],
            "needs_background": "light"
          }
        },
        {
          "output_type": "stream",
          "text": [
            "# 40\n"
          ],
          "name": "stdout"
        },
        {
          "output_type": "display_data",
          "data": {
            "image/png": "[encoded data removed]",
            "text/plain": [
              "<Figure size 432x288 with 1 Axes>"
            ]
          },
          "metadata": {
            "tags": [],
            "needs_background": "light"
          }
        },
        {
          "output_type": "stream",
          "text": [
            "# 41\n"
          ],
          "name": "stdout"
        },
        {
          "output_type": "display_data",
          "data": {
            "image/png": "[encoded data removed]",
            "text/plain": [
              "<Figure size 432x288 with 1 Axes>"
            ]
          },
          "metadata": {
            "tags": [],
            "needs_background": "light"
          }
        },
        {
          "output_type": "stream",
          "text": [
            "# 42\n"
          ],
          "name": "stdout"
        },
        {
          "output_type": "display_data",
          "data": {
            "image/png": "[encoded data removed]",
            "text/plain": [
              "<Figure size 432x288 with 1 Axes>"
            ]
          },
          "metadata": {
            "tags": [],
            "needs_background": "light"
          }
        },
        {
          "output_type": "stream",
          "text": [
            "# 43\n"
          ],
          "name": "stdout"
        },
        {
          "output_type": "display_data",
          "data": {
            "image/png": "[encoded data removed]",
            "text/plain": [
              "<Figure size 432x288 with 1 Axes>"
            ]
          },
          "metadata": {
            "tags": [],
            "needs_background": "light"
          }
        },
        {
          "output_type": "stream",
          "text": [
            "# 44\n"
          ],
          "name": "stdout"
        },
        {
          "output_type": "display_data",
          "data": {
            "image/png": "[encoded data removed]",
            "text/plain": [
              "<Figure size 432x288 with 1 Axes>"
            ]
          },
          "metadata": {
            "tags": [],
            "needs_background": "light"
          }
        },
        {
          "output_type": "stream",
          "text": [
            "# 45\n"
          ],
          "name": "stdout"
        },
        {
          "output_type": "display_data",
          "data": {
            "image/png": "[encoded data removed]",
            "text/plain": [
              "<Figure size 432x288 with 1 Axes>"
            ]
          },
          "metadata": {
            "tags": [],
            "needs_background": "light"
          }
        },
        {
          "output_type": "stream",
          "text": [
            "# 46\n"
          ],
          "name": "stdout"
        },
        {
          "output_type": "display_data",
          "data": {
            "image/png": "[encoded data removed]",
            "text/plain": [
              "<Figure size 432x288 with 1 Axes>"
            ]
          },
          "metadata": {
            "tags": [],
            "needs_background": "light"
          }
        },
        {
          "output_type": "stream",
          "text": [
            "# 47\n"
          ],
          "name": "stdout"
        },
        {
          "output_type": "display_data",
          "data": {
            "image/png": "[encoded data removed]",
            "text/plain": [
              "<Figure size 432x288 with 1 Axes>"
            ]
          },
          "metadata": {
            "tags": [],
            "needs_background": "light"
          }
        },
        {
          "output_type": "stream",
          "text": [
            "# 48\n"
          ],
          "name": "stdout"
        },
        {
          "output_type": "display_data",
          "data": {
            "image/png": "[encoded data removed]",
            "text/plain": [
              "<Figure size 432x288 with 1 Axes>"
            ]
          },
          "metadata": {
            "tags": [],
            "needs_background": "light"
          }
        },
        {
          "output_type": "stream",
          "text": [
            "# 49\n"
          ],
          "name": "stdout"
        },
        {
          "output_type": "display_data",
          "data": {
            "image/png": "[encoded data removed]",
            "text/plain": [
              "<Figure size 432x288 with 1 Axes>"
            ]
          },
          "metadata": {
            "tags": [],
            "needs_background": "light"
          }
        },
        {
          "output_type": "stream",
          "text": [
            "# 50\n"
          ],
          "name": "stdout"
        },
        {
          "output_type": "display_data",
          "data": {
            "image/png": "[encoded data removed]",
            "text/plain": [
              "<Figure size 432x288 with 1 Axes>"
            ]
          },
          "metadata": {
            "tags": [],
            "needs_background": "light"
          }
        },
        {
          "output_type": "stream",
          "text": [
            "# 51\n"
          ],
          "name": "stdout"
        },
        {
          "output_type": "display_data",
          "data": {
            "image/png": "[encoded data removed]",
            "text/plain": [
              "<Figure size 432x288 with 1 Axes>"
            ]
          },
          "metadata": {
            "tags": [],
            "needs_background": "light"
          }
        },
        {
          "output_type": "stream",
          "text": [
            "# 52\n"
          ],
          "name": "stdout"
        },
        {
          "output_type": "display_data",
          "data": {
            "image/png": "[encoded data removed]",
            "text/plain": [
              "<Figure size 432x288 with 1 Axes>"
            ]
          },
          "metadata": {
            "tags": [],
            "needs_background": "light"
          }
        },
        {
          "output_type": "stream",
          "text": [
            "# 53\n"
          ],
          "name": "stdout"
        },
        {
          "output_type": "display_data",
          "data": {
            "image/png": "[encoded data removed]",
            "text/plain": [
              "<Figure size 432x288 with 1 Axes>"
            ]
          },
          "metadata": {
            "tags": [],
            "needs_background": "light"
          }
        },
        {
          "output_type": "stream",
          "text": [
            "# 54\n"
          ],
          "name": "stdout"
        },
        {
          "output_type": "display_data",
          "data": {
            "image/png": "[encoded data removed]",
            "text/plain": [
              "<Figure size 432x288 with 1 Axes>"
            ]
          },
          "metadata": {
            "tags": [],
            "needs_background": "light"
          }
        },
        {
          "output_type": "stream",
          "text": [
            "# 55\n"
          ],
          "name": "stdout"
        },
        {
          "output_type": "display_data",
          "data": {
            "image/png": "[encoded data removed]",
            "text/plain": [
              "<Figure size 432x288 with 1 Axes>"
            ]
          },
          "metadata": {
            "tags": [],
            "needs_background": "light"
          }
        },
        {
          "output_type": "stream",
          "text": [
            "# 56\n"
          ],
          "name": "stdout"
        },
        {
          "output_type": "display_data",
          "data": {
            "image/png": "[encoded data removed]",
            "text/plain": [
              "<Figure size 432x288 with 1 Axes>"
            ]
          },
          "metadata": {
            "tags": [],
            "needs_background": "light"
          }
        },
        {
          "output_type": "stream",
          "text": [
            "# 57\n"
          ],
          "name": "stdout"
        },
        {
          "output_type": "display_data",
          "data": {
            "image/png": "[encoded data removed]",
            "text/plain": [
              "<Figure size 432x288 with 1 Axes>"
            ]
          },
          "metadata": {
            "tags": [],
            "needs_background": "light"
          }
        },
        {
          "output_type": "stream",
          "text": [
            "# 58\n"
          ],
          "name": "stdout"
        },
        {
          "output_type": "display_data",
          "data": {
            "image/png": "[encoded data removed]",
            "text/plain": [
              "<Figure size 432x288 with 1 Axes>"
            ]
          },
          "metadata": {
            "tags": [],
            "needs_background": "light"
          }
        },
        {
          "output_type": "stream",
          "text": [
            "# 59\n"
          ],
          "name": "stdout"
        },
        {
          "output_type": "display_data",
          "data": {
            "image/png": "[encoded data removed]",
            "text/plain": [
              "<Figure size 432x288 with 1 Axes>"
            ]
          },
          "metadata": {
            "tags": [],
            "needs_background": "light"
          }
        },
        {
          "output_type": "stream",
          "text": [
            "# 60\n"
          ],
          "name": "stdout"
        },
        {
          "output_type": "display_data",
          "data": {
            "image/png": "[encoded data removed]",
            "text/plain": [
              "<Figure size 432x288 with 1 Axes>"
            ]
          },
          "metadata": {
            "tags": [],
            "needs_background": "light"
          }
        },
        {
          "output_type": "stream",
          "text": [
            "# 61\n"
          ],
          "name": "stdout"
        },
        {
          "output_type": "display_data",
          "data": {
            "image/png": "[encoded data removed]",
            "text/plain": [
              "<Figure size 432x288 with 1 Axes>"
            ]
          },
          "metadata": {
            "tags": [],
            "needs_background": "light"
          }
        },
        {
          "output_type": "stream",
          "text": [
            "# 62\n"
          ],
          "name": "stdout"
        },
        {
          "output_type": "display_data",
          "data": {
            "image/png": "[encoded data removed]",
            "text/plain": [
              "<Figure size 432x288 with 1 Axes>"
            ]
          },
          "metadata": {
            "tags": [],
            "needs_background": "light"
          }
        },
        {
          "output_type": "stream",
          "text": [
            "# 63\n"
          ],
          "name": "stdout"
        },
        {
          "output_type": "display_data",
          "data": {
            "image/png": "[encoded data removed]",
            "text/plain": [
              "<Figure size 432x288 with 1 Axes>"
            ]
          },
          "metadata": {
            "tags": [],
            "needs_background": "light"
          }
        }
      ]
    },
    {
      "cell_type": "markdown",
      "metadata": {
        "id": "6iydlmH3VMR9"
      },
      "source": [
        "## Convert image sequence into a gif animation at *Files/tiling.gif*"
      ]
    },
    {
      "cell_type": "code",
      "metadata": {
        "id": "qegkX1K0hk5n"
      },
      "source": [
        "!convert -delay 25 -loop 0 images/*.png -rotate -90 -trim +repage tiling.gif"
      ],
      "execution_count": null,
      "outputs": []
    }
  ]
}